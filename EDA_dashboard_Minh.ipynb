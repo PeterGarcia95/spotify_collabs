{
 "cells": [
  {
   "cell_type": "code",
   "execution_count": 1,
   "metadata": {},
   "outputs": [],
   "source": [
    "import pandas as pd \n",
    "import numpy as np\n",
    "import seaborn as sns\n",
    "import plotly.graph_objects as go # or plotly.express as px\n",
    "\n",
    "import dash\n",
    "import dash_core_components as dcc\n",
    "import dash_html_components as html\n",
    "\n",
    "from IPython.display import display\n",
    "pd.options.display.max_columns = None"
   ]
  },
  {
   "cell_type": "code",
   "execution_count": 2,
   "metadata": {},
   "outputs": [],
   "source": [
    "top_us = pd.read_csv(r'../output/2021.01.19 spotify_us_all_fe.csv',\n",
    "                    index_col=0)\n",
    "top_us = top_us[top_us['No. of Artists'] >= 2]\n",
    "top_us['Date'] = pd.to_datetime(top_us['Date'])"
   ]
  },
  {
   "cell_type": "code",
   "execution_count": 3,
   "metadata": {},
   "outputs": [
    {
     "data": {
      "text/plain": [
       "array([ 2,  3,  6,  5,  4,  8,  7, 22, 11, 10, 13])"
      ]
     },
     "execution_count": 3,
     "metadata": {},
     "output_type": "execute_result"
    }
   ],
   "source": [
    "top_us['No. of Artists'].unique()"
   ]
  },
  {
   "cell_type": "code",
   "execution_count": null,
   "metadata": {},
   "outputs": [],
   "source": [
    "top_us"
   ]
  },
  {
   "cell_type": "code",
   "execution_count": 4,
   "metadata": {},
   "outputs": [
    {
     "data": {
      "image/png": "[encoded data removed]",
      "text/plain": [
       "<Figure size 360x72 with 1 Axes>"
      ]
     },
     "metadata": {
      "needs_background": "light"
     },
     "output_type": "display_data"
    }
   ],
   "source": [
    "custom_color = ['#b0e575', '#9dcb68', '#89b25b', '#76984e', '#627f41']\n",
    "sns.set_palette(custom_color)\n",
    "sns.palplot(sns.color_palette())"
   ]
  },
  {
   "cell_type": "markdown",
   "metadata": {},
   "source": [
    "### Chart 2B - Genre metrics - Top 5 most successful genres"
   ]
  },
  {
   "cell_type": "code",
   "execution_count": 5,
   "metadata": {},
   "outputs": [],
   "source": [
    "data1 = top_us.copy()\n",
    "data1['Artist Genre'] = data1['Artist Genre'].str.replace(\"\\[|\\]|\\'\", \"\")\n",
    "data1['Artist Genre'] = data1['Artist Genre'].str.replace(\",\\s\", \",\")\n",
    "data1['Artist Genre'] = data1['Artist Genre'].str.split(\",\")\n",
    "\n",
    "data1b = data1.explode('Artist Genre')"
   ]
  },
  {
   "cell_type": "code",
   "execution_count": 7,
   "metadata": {},
   "outputs": [],
   "source": [
    "data1c = data1b.copy()\n",
    "data1c = data1c[['Date', 'Track Name', 'Artist Name', 'Artist Genre', \n",
    "                 'Streams', 'Position', 'Profit']]\\\n",
    ".drop_duplicates()"
   ]
  },
  {
   "cell_type": "code",
   "execution_count": 8,
   "metadata": {},
   "outputs": [],
   "source": [
    "data1d = data1c.groupby(['Artist Genre'])[['Streams', 'Position', 'Profit']]\\\n",
    ".agg('mean')\\\n",
    ".sort_values(by = 'Streams', ascending=False)\\\n",
    ".reset_index()\\\n",
    ".rename(columns={\"Streams\": \"Avg Streams\",\n",
    "                \"Position\": \"Avg Position\",\n",
    "                \"Profit\": \"Avg Profit\"})"
   ]
  },
  {
   "cell_type": "code",
   "execution_count": 9,
   "metadata": {},
   "outputs": [],
   "source": [
    "data1e = data1c.groupby(['Artist Genre'])[['Position']]\\\n",
    ".agg('count')\\\n",
    ".sort_values(by = 'Position', ascending=False)\\\n",
    ".reset_index()\\\n",
    ".rename(columns={\"Position\": \"Count\"})"
   ]
  },
  {
   "cell_type": "code",
   "execution_count": 10,
   "metadata": {},
   "outputs": [
    {
     "data": {
      "text/html": [
       "<div>\n",
       "<style scoped>\n",
       "    .dataframe tbody tr th:only-of-type {\n",
       "        vertical-align: middle;\n",
       "    }\n",
       "\n",
       "    .dataframe tbody tr th {\n",
       "        vertical-align: top;\n",
       "    }\n",
       "\n",
       "    .dataframe thead th {\n",
       "        text-align: right;\n",
       "    }\n",
       "</style>\n",
       "<table border=\"1\" class=\"dataframe\">\n",
       "  <thead>\n",
       "    <tr style=\"text-align: right;\">\n",
       "      <th></th>\n",
       "      <th>Artist Genre</th>\n",
       "      <th>Avg Streams</th>\n",
       "      <th>Avg Position</th>\n",
       "      <th>Avg Profit</th>\n",
       "      <th>Count</th>\n",
       "    </tr>\n",
       "  </thead>\n",
       "  <tbody>\n",
       "    <tr>\n",
       "      <th>71</th>\n",
       "      <td>rap</td>\n",
       "      <td>417179.068211</td>\n",
       "      <td>94.929447</td>\n",
       "      <td>1380.862716</td>\n",
       "      <td>135359</td>\n",
       "    </tr>\n",
       "    <tr>\n",
       "      <th>82</th>\n",
       "      <td>pop rap</td>\n",
       "      <td>407615.696337</td>\n",
       "      <td>96.028120</td>\n",
       "      <td>1349.207955</td>\n",
       "      <td>97582</td>\n",
       "    </tr>\n",
       "    <tr>\n",
       "      <th>97</th>\n",
       "      <td>trap</td>\n",
       "      <td>399475.247496</td>\n",
       "      <td>97.217646</td>\n",
       "      <td>1322.263069</td>\n",
       "      <td>95444</td>\n",
       "    </tr>\n",
       "    <tr>\n",
       "      <th>119</th>\n",
       "      <td>pop</td>\n",
       "      <td>391802.796167</td>\n",
       "      <td>96.872820</td>\n",
       "      <td>1296.867255</td>\n",
       "      <td>87459</td>\n",
       "    </tr>\n",
       "    <tr>\n",
       "      <th>90</th>\n",
       "      <td>hip hop</td>\n",
       "      <td>403872.383163</td>\n",
       "      <td>97.300543</td>\n",
       "      <td>1336.817588</td>\n",
       "      <td>72755</td>\n",
       "    </tr>\n",
       "    <tr>\n",
       "      <th>...</th>\n",
       "      <td>...</td>\n",
       "      <td>...</td>\n",
       "      <td>...</td>\n",
       "      <td>...</td>\n",
       "      <td>...</td>\n",
       "    </tr>\n",
       "    <tr>\n",
       "      <th>237</th>\n",
       "      <td>arkansas country</td>\n",
       "      <td>340873.000000</td>\n",
       "      <td>67.000000</td>\n",
       "      <td>1128.289630</td>\n",
       "      <td>1</td>\n",
       "    </tr>\n",
       "    <tr>\n",
       "      <th>433</th>\n",
       "      <td>glitch</td>\n",
       "      <td>258567.000000</td>\n",
       "      <td>165.000000</td>\n",
       "      <td>855.856770</td>\n",
       "      <td>1</td>\n",
       "    </tr>\n",
       "    <tr>\n",
       "      <th>432</th>\n",
       "      <td>abstract beats</td>\n",
       "      <td>258567.000000</td>\n",
       "      <td>165.000000</td>\n",
       "      <td>855.856770</td>\n",
       "      <td>1</td>\n",
       "    </tr>\n",
       "    <tr>\n",
       "      <th>246</th>\n",
       "      <td>collage pop</td>\n",
       "      <td>337143.000000</td>\n",
       "      <td>157.000000</td>\n",
       "      <td>1115.943330</td>\n",
       "      <td>1</td>\n",
       "    </tr>\n",
       "    <tr>\n",
       "      <th>283</th>\n",
       "      <td>vocal trance</td>\n",
       "      <td>327274.000000</td>\n",
       "      <td>98.000000</td>\n",
       "      <td>1083.276940</td>\n",
       "      <td>1</td>\n",
       "    </tr>\n",
       "  </tbody>\n",
       "</table>\n",
       "<p>566 rows × 5 columns</p>\n",
       "</div>"
      ],
      "text/plain": [
       "         Artist Genre    Avg Streams  Avg Position   Avg Profit   Count\n",
       "71                rap  417179.068211     94.929447  1380.862716  135359\n",
       "82            pop rap  407615.696337     96.028120  1349.207955   97582\n",
       "97               trap  399475.247496     97.217646  1322.263069   95444\n",
       "119               pop  391802.796167     96.872820  1296.867255   87459\n",
       "90            hip hop  403872.383163     97.300543  1336.817588   72755\n",
       "..                ...            ...           ...          ...     ...\n",
       "237  arkansas country  340873.000000     67.000000  1128.289630       1\n",
       "433            glitch  258567.000000    165.000000   855.856770       1\n",
       "432    abstract beats  258567.000000    165.000000   855.856770       1\n",
       "246       collage pop  337143.000000    157.000000  1115.943330       1\n",
       "283      vocal trance  327274.000000     98.000000  1083.276940       1\n",
       "\n",
       "[566 rows x 5 columns]"
      ]
     },
     "execution_count": 10,
     "metadata": {},
     "output_type": "execute_result"
    }
   ],
   "source": [
    "data1f = data1d.merge(data1e, how = 'inner', on = ['Artist Genre'])\\\n",
    ".sort_values(by = 'Count', ascending=False)\n",
    "data1f"
   ]
  },
  {
   "cell_type": "code",
   "execution_count": 11,
   "metadata": {},
   "outputs": [
    {
     "data": {
      "text/plain": [
       "<AxesSubplot:xlabel='Count', ylabel='Artist Genre'>"
      ]
     },
     "execution_count": 11,
     "metadata": {},
     "output_type": "execute_result"
    },
    {
     "data": {
      "image/png": "[encoded data removed]",
      "text/plain": [
       "<Figure size 432x288 with 1 Axes>"
      ]
     },
     "metadata": {
      "needs_background": "light"
     },
     "output_type": "display_data"
    }
   ],
   "source": [
    "sns.barplot(data = data1f.iloc[0:5], \n",
    "            x = 'Count', y = 'Artist Genre')"
   ]
  },
  {
   "cell_type": "code",
   "execution_count": 12,
   "metadata": {},
   "outputs": [
    {
     "data": {
      "text/plain": [
       "<AxesSubplot:xlabel='Avg Profit', ylabel='Artist Genre'>"
      ]
     },
     "execution_count": 12,
     "metadata": {},
     "output_type": "execute_result"
    },
    {
     "data": {
      "image/png": "[encoded data removed]",
      "text/plain": [
       "<Figure size 432x288 with 1 Axes>"
      ]
     },
     "metadata": {
      "needs_background": "light"
     },
     "output_type": "display_data"
    }
   ],
   "source": [
    "sns.barplot(data = data1f\\\n",
    "            .sort_values(by='Avg Profit', ascending=False)\\\n",
    "            .iloc[0:5], \n",
    "            x = 'Avg Profit', y = 'Artist Genre')"
   ]
  },
  {
   "cell_type": "markdown",
   "metadata": {},
   "source": [
    "### Chart 3B - Top Artists in Top Genres"
   ]
  },
  {
   "cell_type": "code",
   "execution_count": 13,
   "metadata": {},
   "outputs": [],
   "source": [
    "data1g = data1c.groupby(['Artist Genre', 'Artist Name'])[['Streams', 'Position', 'Profit']]\\\n",
    ".agg('mean')\\\n",
    ".sort_values(by = 'Streams', ascending=False)\\\n",
    ".reset_index()\\\n",
    ".rename(columns={\"Streams\": \"Avg Streams\",\n",
    "                \"Position\": \"Avg Position\",\n",
    "                \"Profit\": \"Avg Profit\"})"
   ]
  },
  {
   "cell_type": "code",
   "execution_count": 14,
   "metadata": {},
   "outputs": [],
   "source": [
    "data1h = data1c.groupby(['Artist Genre', 'Artist Name'])[['Position']]\\\n",
    ".agg('count')\\\n",
    ".sort_values(by = 'Position', ascending=False)\\\n",
    ".reset_index()\\\n",
    ".rename(columns={\"Position\": \"Count\"})"
   ]
  },
  {
   "cell_type": "code",
   "execution_count": 15,
   "metadata": {},
   "outputs": [],
   "source": [
    "data1i = data1g.merge(data1h, how = 'inner', on = ['Artist Genre', 'Artist Name'])\\\n",
    ".sort_values(by = 'Count', ascending=False)\n",
    "# this will show all combinations of genres and artists\n",
    "# data1i"
   ]
  },
  {
   "cell_type": "code",
   "execution_count": 16,
   "metadata": {},
   "outputs": [
    {
     "data": {
      "text/html": [
       "<div>\n",
       "<style scoped>\n",
       "    .dataframe tbody tr th:only-of-type {\n",
       "        vertical-align: middle;\n",
       "    }\n",
       "\n",
       "    .dataframe tbody tr th {\n",
       "        vertical-align: top;\n",
       "    }\n",
       "\n",
       "    .dataframe thead th {\n",
       "        text-align: right;\n",
       "    }\n",
       "</style>\n",
       "<table border=\"1\" class=\"dataframe\">\n",
       "  <thead>\n",
       "    <tr style=\"text-align: right;\">\n",
       "      <th></th>\n",
       "      <th>Artist Genre</th>\n",
       "      <th>Artist Name</th>\n",
       "      <th>Avg Streams</th>\n",
       "      <th>Avg Position</th>\n",
       "      <th>Avg Profit</th>\n",
       "      <th>Count</th>\n",
       "    </tr>\n",
       "  </thead>\n",
       "  <tbody>\n",
       "    <tr>\n",
       "      <th>9</th>\n",
       "      <td>trap</td>\n",
       "      <td>Don Toliver</td>\n",
       "      <td>761405.008734</td>\n",
       "      <td>42.851528</td>\n",
       "      <td>2520.250579</td>\n",
       "      <td>229</td>\n",
       "    </tr>\n",
       "    <tr>\n",
       "      <th>29</th>\n",
       "      <td>trap</td>\n",
       "      <td>Clipse</td>\n",
       "      <td>624884.526316</td>\n",
       "      <td>77.736842</td>\n",
       "      <td>2068.367782</td>\n",
       "      <td>19</td>\n",
       "    </tr>\n",
       "    <tr>\n",
       "      <th>45</th>\n",
       "      <td>trap</td>\n",
       "      <td>BlocBoy JB</td>\n",
       "      <td>598617.360071</td>\n",
       "      <td>74.864528</td>\n",
       "      <td>1981.423462</td>\n",
       "      <td>561</td>\n",
       "    </tr>\n",
       "    <tr>\n",
       "      <th>66</th>\n",
       "      <td>trap</td>\n",
       "      <td>Young M.A</td>\n",
       "      <td>562795.733333</td>\n",
       "      <td>74.400000</td>\n",
       "      <td>1862.853877</td>\n",
       "      <td>15</td>\n",
       "    </tr>\n",
       "    <tr>\n",
       "      <th>74</th>\n",
       "      <td>trap</td>\n",
       "      <td>Swae Lee</td>\n",
       "      <td>561478.742452</td>\n",
       "      <td>66.937011</td>\n",
       "      <td>1858.494638</td>\n",
       "      <td>2683</td>\n",
       "    </tr>\n",
       "    <tr>\n",
       "      <th>8</th>\n",
       "      <td>rap</td>\n",
       "      <td>Don Toliver</td>\n",
       "      <td>761405.008734</td>\n",
       "      <td>42.851528</td>\n",
       "      <td>2520.250579</td>\n",
       "      <td>229</td>\n",
       "    </tr>\n",
       "    <tr>\n",
       "      <th>18</th>\n",
       "      <td>rap</td>\n",
       "      <td>THE SCOTTS</td>\n",
       "      <td>663480.736111</td>\n",
       "      <td>63.787037</td>\n",
       "      <td>2196.121237</td>\n",
       "      <td>216</td>\n",
       "    </tr>\n",
       "    <tr>\n",
       "      <th>23</th>\n",
       "      <td>rap</td>\n",
       "      <td>Clipse</td>\n",
       "      <td>624884.526316</td>\n",
       "      <td>77.736842</td>\n",
       "      <td>2068.367782</td>\n",
       "      <td>19</td>\n",
       "    </tr>\n",
       "    <tr>\n",
       "      <th>41</th>\n",
       "      <td>rap</td>\n",
       "      <td>Jack Harlow</td>\n",
       "      <td>610394.855596</td>\n",
       "      <td>53.000000</td>\n",
       "      <td>2020.406972</td>\n",
       "      <td>277</td>\n",
       "    </tr>\n",
       "    <tr>\n",
       "      <th>44</th>\n",
       "      <td>rap</td>\n",
       "      <td>BlocBoy JB</td>\n",
       "      <td>598617.360071</td>\n",
       "      <td>74.864528</td>\n",
       "      <td>1981.423462</td>\n",
       "      <td>561</td>\n",
       "    </tr>\n",
       "    <tr>\n",
       "      <th>28</th>\n",
       "      <td>pop rap</td>\n",
       "      <td>Clipse</td>\n",
       "      <td>624884.526316</td>\n",
       "      <td>77.736842</td>\n",
       "      <td>2068.367782</td>\n",
       "      <td>19</td>\n",
       "    </tr>\n",
       "    <tr>\n",
       "      <th>36</th>\n",
       "      <td>pop rap</td>\n",
       "      <td>iann dior</td>\n",
       "      <td>619217.885154</td>\n",
       "      <td>67.336134</td>\n",
       "      <td>2049.611200</td>\n",
       "      <td>357</td>\n",
       "    </tr>\n",
       "    <tr>\n",
       "      <th>40</th>\n",
       "      <td>pop rap</td>\n",
       "      <td>Jack Harlow</td>\n",
       "      <td>610394.855596</td>\n",
       "      <td>53.000000</td>\n",
       "      <td>2020.406972</td>\n",
       "      <td>277</td>\n",
       "    </tr>\n",
       "    <tr>\n",
       "      <th>47</th>\n",
       "      <td>pop rap</td>\n",
       "      <td>BlocBoy JB</td>\n",
       "      <td>598617.360071</td>\n",
       "      <td>74.864528</td>\n",
       "      <td>1981.423462</td>\n",
       "      <td>561</td>\n",
       "    </tr>\n",
       "    <tr>\n",
       "      <th>54</th>\n",
       "      <td>pop rap</td>\n",
       "      <td>Kid Cudi</td>\n",
       "      <td>590684.570513</td>\n",
       "      <td>74.900641</td>\n",
       "      <td>1955.165928</td>\n",
       "      <td>312</td>\n",
       "    </tr>\n",
       "    <tr>\n",
       "      <th>15</th>\n",
       "      <td>pop</td>\n",
       "      <td>Michael Jackson</td>\n",
       "      <td>705946.752475</td>\n",
       "      <td>76.910891</td>\n",
       "      <td>2336.683751</td>\n",
       "      <td>101</td>\n",
       "    </tr>\n",
       "    <tr>\n",
       "      <th>61</th>\n",
       "      <td>pop</td>\n",
       "      <td>Megan Thee Stallion</td>\n",
       "      <td>579000.556274</td>\n",
       "      <td>78.247089</td>\n",
       "      <td>1916.491841</td>\n",
       "      <td>773</td>\n",
       "    </tr>\n",
       "    <tr>\n",
       "      <th>98</th>\n",
       "      <td>pop</td>\n",
       "      <td>DJ Khaled</td>\n",
       "      <td>532408.342187</td>\n",
       "      <td>78.774219</td>\n",
       "      <td>1762.271613</td>\n",
       "      <td>1280</td>\n",
       "    </tr>\n",
       "    <tr>\n",
       "      <th>107</th>\n",
       "      <td>pop</td>\n",
       "      <td>Shawn Mendes</td>\n",
       "      <td>531024.103627</td>\n",
       "      <td>84.335060</td>\n",
       "      <td>1757.689783</td>\n",
       "      <td>579</td>\n",
       "    </tr>\n",
       "    <tr>\n",
       "      <th>111</th>\n",
       "      <td>pop</td>\n",
       "      <td>Bryson Tiller</td>\n",
       "      <td>530275.317152</td>\n",
       "      <td>83.621359</td>\n",
       "      <td>1755.211300</td>\n",
       "      <td>309</td>\n",
       "    </tr>\n",
       "    <tr>\n",
       "      <th>31</th>\n",
       "      <td>hip hop</td>\n",
       "      <td>Clipse</td>\n",
       "      <td>624884.526316</td>\n",
       "      <td>77.736842</td>\n",
       "      <td>2068.367782</td>\n",
       "      <td>19</td>\n",
       "    </tr>\n",
       "    <tr>\n",
       "      <th>55</th>\n",
       "      <td>hip hop</td>\n",
       "      <td>Kid Cudi</td>\n",
       "      <td>590684.570513</td>\n",
       "      <td>74.900641</td>\n",
       "      <td>1955.165928</td>\n",
       "      <td>312</td>\n",
       "    </tr>\n",
       "    <tr>\n",
       "      <th>101</th>\n",
       "      <td>hip hop</td>\n",
       "      <td>DJ Khaled</td>\n",
       "      <td>532408.342187</td>\n",
       "      <td>78.774219</td>\n",
       "      <td>1762.271613</td>\n",
       "      <td>1280</td>\n",
       "    </tr>\n",
       "    <tr>\n",
       "      <th>148</th>\n",
       "      <td>hip hop</td>\n",
       "      <td>Ashanti</td>\n",
       "      <td>516084.636364</td>\n",
       "      <td>73.272727</td>\n",
       "      <td>1708.240146</td>\n",
       "      <td>11</td>\n",
       "    </tr>\n",
       "    <tr>\n",
       "      <th>157</th>\n",
       "      <td>hip hop</td>\n",
       "      <td>Rick Ross</td>\n",
       "      <td>515925.116118</td>\n",
       "      <td>79.795494</td>\n",
       "      <td>1707.712134</td>\n",
       "      <td>577</td>\n",
       "    </tr>\n",
       "  </tbody>\n",
       "</table>\n",
       "</div>"
      ],
      "text/plain": [
       "    Artist Genre          Artist Name    Avg Streams  Avg Position  \\\n",
       "9           trap          Don Toliver  761405.008734     42.851528   \n",
       "29          trap               Clipse  624884.526316     77.736842   \n",
       "45          trap           BlocBoy JB  598617.360071     74.864528   \n",
       "66          trap            Young M.A  562795.733333     74.400000   \n",
       "74          trap             Swae Lee  561478.742452     66.937011   \n",
       "8            rap          Don Toliver  761405.008734     42.851528   \n",
       "18           rap           THE SCOTTS  663480.736111     63.787037   \n",
       "23           rap               Clipse  624884.526316     77.736842   \n",
       "41           rap          Jack Harlow  610394.855596     53.000000   \n",
       "44           rap           BlocBoy JB  598617.360071     74.864528   \n",
       "28       pop rap               Clipse  624884.526316     77.736842   \n",
       "36       pop rap            iann dior  619217.885154     67.336134   \n",
       "40       pop rap          Jack Harlow  610394.855596     53.000000   \n",
       "47       pop rap           BlocBoy JB  598617.360071     74.864528   \n",
       "54       pop rap             Kid Cudi  590684.570513     74.900641   \n",
       "15           pop      Michael Jackson  705946.752475     76.910891   \n",
       "61           pop  Megan Thee Stallion  579000.556274     78.247089   \n",
       "98           pop            DJ Khaled  532408.342187     78.774219   \n",
       "107          pop         Shawn Mendes  531024.103627     84.335060   \n",
       "111          pop        Bryson Tiller  530275.317152     83.621359   \n",
       "31       hip hop               Clipse  624884.526316     77.736842   \n",
       "55       hip hop             Kid Cudi  590684.570513     74.900641   \n",
       "101      hip hop            DJ Khaled  532408.342187     78.774219   \n",
       "148      hip hop              Ashanti  516084.636364     73.272727   \n",
       "157      hip hop            Rick Ross  515925.116118     79.795494   \n",
       "\n",
       "      Avg Profit  Count  \n",
       "9    2520.250579    229  \n",
       "29   2068.367782     19  \n",
       "45   1981.423462    561  \n",
       "66   1862.853877     15  \n",
       "74   1858.494638   2683  \n",
       "8    2520.250579    229  \n",
       "18   2196.121237    216  \n",
       "23   2068.367782     19  \n",
       "41   2020.406972    277  \n",
       "44   1981.423462    561  \n",
       "28   2068.367782     19  \n",
       "36   2049.611200    357  \n",
       "40   2020.406972    277  \n",
       "47   1981.423462    561  \n",
       "54   1955.165928    312  \n",
       "15   2336.683751    101  \n",
       "61   1916.491841    773  \n",
       "98   1762.271613   1280  \n",
       "107  1757.689783    579  \n",
       "111  1755.211300    309  \n",
       "31   2068.367782     19  \n",
       "55   1955.165928    312  \n",
       "101  1762.271613   1280  \n",
       "148  1708.240146     11  \n",
       "157  1707.712134    577  "
      ]
     },
     "execution_count": 16,
     "metadata": {},
     "output_type": "execute_result"
    }
   ],
   "source": [
    "# only select the top 5 genres shown in data1f\n",
    "data1j = data1i[data1i['Artist Genre'].isin(data1f['Artist Genre'].iloc[0:5])]\\\n",
    ".sort_values(by = ['Artist Genre', 'Avg Streams'], ascending=False) #change the second variable to sort by a different metric\n",
    "data1j.groupby(['Artist Genre']).head(5)"
   ]
  },
  {
   "cell_type": "markdown",
   "metadata": {},
   "source": [
    "### Chart 2A - Top Collabs (tabular, no chart)"
   ]
  },
  {
   "cell_type": "code",
   "execution_count": 17,
   "metadata": {},
   "outputs": [],
   "source": [
    "data2 = top_us.copy()\n",
    "data2 = data2[['Date', 'Track Name', 'Artist No.', 'Artist Name',\n",
    "              'Streams', 'Position', 'Profit']].drop_duplicates()\n",
    "data2['Artist No.'] = data2['Artist No.'].astype(str).apply(lambda x: x.zfill(2))"
   ]
  },
  {
   "cell_type": "code",
   "execution_count": 18,
   "metadata": {},
   "outputs": [],
   "source": [
    "data2b = (data2.pivot_table(index=['Date', 'Track Name'], \n",
    "                      columns=['Artist No.'], \n",
    "                      values=['Artist Name'], \n",
    "                      aggfunc='first'))\n",
    "data2b.columns = [''.join(col) for col in data2b.columns]\n",
    "data2b = data2b.reset_index()"
   ]
  },
  {
   "cell_type": "code",
   "execution_count": null,
   "metadata": {},
   "outputs": [],
   "source": [
    "# data2b"
   ]
  },
  {
   "cell_type": "code",
   "execution_count": 19,
   "metadata": {},
   "outputs": [],
   "source": [
    "data2c = data2b.copy()\n",
    "data2c['Artist_All'] = data2c[\"Artist Name01\"].str\\\n",
    ".cat(data2c.iloc[:, 3:23].astype(str), sep=\", \")\n",
    "\n",
    "data2c['Artist_All'] = data2c['Artist_All'].str.replace('nan, |nan', '')"
   ]
  },
  {
   "cell_type": "code",
   "execution_count": null,
   "metadata": {},
   "outputs": [],
   "source": [
    "# data2c.head()"
   ]
  },
  {
   "cell_type": "code",
   "execution_count": 20,
   "metadata": {},
   "outputs": [],
   "source": [
    "data2d = data2.merge(data2c[['Date', 'Track Name', 'Artist_All']],\n",
    "                    how = 'left', on = ['Date', 'Track Name'])\n",
    "\n",
    "data2d = data2d.drop(columns = ['Artist No.', 'Artist Name']).drop_duplicates()"
   ]
  },
  {
   "cell_type": "code",
   "execution_count": null,
   "metadata": {},
   "outputs": [],
   "source": [
    "# data2d"
   ]
  },
  {
   "cell_type": "code",
   "execution_count": 21,
   "metadata": {},
   "outputs": [],
   "source": [
    "data2e = data2d.groupby(['Artist_All'])[['Streams', 'Position', 'Profit']]\\\n",
    ".agg('mean')\\\n",
    ".sort_values(by = 'Streams', ascending=False)\\\n",
    ".reset_index()\\\n",
    ".rename(columns={\"Streams\": \"Avg Streams\",\n",
    "                \"Position\": \"Avg Position\",\n",
    "                \"Profit\": \"Avg Profit\"})"
   ]
  },
  {
   "cell_type": "code",
   "execution_count": 22,
   "metadata": {},
   "outputs": [],
   "source": [
    "data2f = data2d.groupby(['Artist_All'])[['Position']]\\\n",
    ".agg('count')\\\n",
    ".sort_values(by = 'Position', ascending=False)\\\n",
    ".reset_index()\\\n",
    ".rename(columns={\"Position\": \"Count\"})"
   ]
  },
  {
   "cell_type": "code",
   "execution_count": 23,
   "metadata": {},
   "outputs": [],
   "source": [
    "data2g = data2e.merge(data2f, how = 'left', on = ['Artist_All'])\\\n",
    ".sort_values(by=['Count'], ascending=False)"
   ]
  },
  {
   "cell_type": "code",
   "execution_count": 24,
   "metadata": {},
   "outputs": [
    {
     "data": {
      "text/html": [
       "<div>\n",
       "<style scoped>\n",
       "    .dataframe tbody tr th:only-of-type {\n",
       "        vertical-align: middle;\n",
       "    }\n",
       "\n",
       "    .dataframe tbody tr th {\n",
       "        vertical-align: top;\n",
       "    }\n",
       "\n",
       "    .dataframe thead th {\n",
       "        text-align: right;\n",
       "    }\n",
       "</style>\n",
       "<table border=\"1\" class=\"dataframe\">\n",
       "  <thead>\n",
       "    <tr style=\"text-align: right;\">\n",
       "      <th></th>\n",
       "      <th>Artist_All</th>\n",
       "      <th>Avg Streams</th>\n",
       "      <th>Avg Position</th>\n",
       "      <th>Avg Profit</th>\n",
       "      <th>Count</th>\n",
       "    </tr>\n",
       "  </thead>\n",
       "  <tbody>\n",
       "    <tr>\n",
       "      <th>215</th>\n",
       "      <td>Post Malone, Quavo,</td>\n",
       "      <td>455890.908233</td>\n",
       "      <td>88.076329</td>\n",
       "      <td>1508.998906</td>\n",
       "      <td>1166</td>\n",
       "    </tr>\n",
       "    <tr>\n",
       "      <th>530</th>\n",
       "      <td>XXXTENTACION, Trippie Redd,</td>\n",
       "      <td>359463.470233</td>\n",
       "      <td>107.975841</td>\n",
       "      <td>1189.824086</td>\n",
       "      <td>1159</td>\n",
       "    </tr>\n",
       "    <tr>\n",
       "      <th>38</th>\n",
       "      <td>Post Malone, 21 Savage,</td>\n",
       "      <td>611507.809565</td>\n",
       "      <td>73.001739</td>\n",
       "      <td>2024.090850</td>\n",
       "      <td>1150</td>\n",
       "    </tr>\n",
       "    <tr>\n",
       "      <th>414</th>\n",
       "      <td>Billie Eilish, Khalid,</td>\n",
       "      <td>383749.324435</td>\n",
       "      <td>79.494867</td>\n",
       "      <td>1270.210264</td>\n",
       "      <td>974</td>\n",
       "    </tr>\n",
       "    <tr>\n",
       "      <th>118</th>\n",
       "      <td>Lil Baby, Gunna,</td>\n",
       "      <td>504974.627615</td>\n",
       "      <td>80.482218</td>\n",
       "      <td>1671.466017</td>\n",
       "      <td>956</td>\n",
       "    </tr>\n",
       "    <tr>\n",
       "      <th>...</th>\n",
       "      <td>...</td>\n",
       "      <td>...</td>\n",
       "      <td>...</td>\n",
       "      <td>...</td>\n",
       "      <td>...</td>\n",
       "    </tr>\n",
       "    <tr>\n",
       "      <th>1802</th>\n",
       "      <td>Shawn Mendes, teddy&lt;3,</td>\n",
       "      <td>234322.000000</td>\n",
       "      <td>188.000000</td>\n",
       "      <td>775.605820</td>\n",
       "      <td>1</td>\n",
       "    </tr>\n",
       "    <tr>\n",
       "      <th>1202</th>\n",
       "      <td>Jay Electronica, Travis Scott,</td>\n",
       "      <td>285938.000000</td>\n",
       "      <td>159.000000</td>\n",
       "      <td>946.454780</td>\n",
       "      <td>1</td>\n",
       "    </tr>\n",
       "    <tr>\n",
       "      <th>1799</th>\n",
       "      <td>Louis The Child, MAX,</td>\n",
       "      <td>234429.000000</td>\n",
       "      <td>185.000000</td>\n",
       "      <td>775.959990</td>\n",
       "      <td>1</td>\n",
       "    </tr>\n",
       "    <tr>\n",
       "      <th>1797</th>\n",
       "      <td>Miley Cyrus, Stevie Nicks,</td>\n",
       "      <td>234648.000000</td>\n",
       "      <td>181.000000</td>\n",
       "      <td>776.684880</td>\n",
       "      <td>1</td>\n",
       "    </tr>\n",
       "    <tr>\n",
       "      <th>1898</th>\n",
       "      <td>Wiz Khalifa, Empire of the Sun,</td>\n",
       "      <td>225034.000000</td>\n",
       "      <td>199.000000</td>\n",
       "      <td>744.862540</td>\n",
       "      <td>1</td>\n",
       "    </tr>\n",
       "  </tbody>\n",
       "</table>\n",
       "<p>2245 rows × 5 columns</p>\n",
       "</div>"
      ],
      "text/plain": [
       "                            Artist_All    Avg Streams  Avg Position  \\\n",
       "215               Post Malone, Quavo,   455890.908233     88.076329   \n",
       "530       XXXTENTACION, Trippie Redd,   359463.470233    107.975841   \n",
       "38            Post Malone, 21 Savage,   611507.809565     73.001739   \n",
       "414            Billie Eilish, Khalid,   383749.324435     79.494867   \n",
       "118                  Lil Baby, Gunna,   504974.627615     80.482218   \n",
       "...                                ...            ...           ...   \n",
       "1802           Shawn Mendes, teddy<3,   234322.000000    188.000000   \n",
       "1202   Jay Electronica, Travis Scott,   285938.000000    159.000000   \n",
       "1799            Louis The Child, MAX,   234429.000000    185.000000   \n",
       "1797       Miley Cyrus, Stevie Nicks,   234648.000000    181.000000   \n",
       "1898  Wiz Khalifa, Empire of the Sun,   225034.000000    199.000000   \n",
       "\n",
       "       Avg Profit  Count  \n",
       "215   1508.998906   1166  \n",
       "530   1189.824086   1159  \n",
       "38    2024.090850   1150  \n",
       "414   1270.210264    974  \n",
       "118   1671.466017    956  \n",
       "...           ...    ...  \n",
       "1802   775.605820      1  \n",
       "1202   946.454780      1  \n",
       "1799   775.959990      1  \n",
       "1797   776.684880      1  \n",
       "1898   744.862540      1  \n",
       "\n",
       "[2245 rows x 5 columns]"
      ]
     },
     "execution_count": 24,
     "metadata": {},
     "output_type": "execute_result"
    }
   ],
   "source": [
    "data2g"
   ]
  },
  {
   "cell_type": "markdown",
   "metadata": {},
   "source": [
    "### Chart 2C - Top Tracks over time"
   ]
  },
  {
   "cell_type": "code",
   "execution_count": 25,
   "metadata": {},
   "outputs": [],
   "source": [
    "data3 = top_us.copy()\n",
    "data3 = data3[['Date', 'Track Name', 'Track URI', 'Song_days_onchart',\n",
    "               'Streams', 'Position', 'Profit']]\\\n",
    ".drop_duplicates()"
   ]
  },
  {
   "cell_type": "code",
   "execution_count": 26,
   "metadata": {},
   "outputs": [],
   "source": [
    "data3b = data3.groupby(['Track Name'])[['Streams', 'Position', 'Profit']]\\\n",
    ".agg('mean')\\\n",
    ".reset_index()\\\n",
    ".rename(columns={\"Streams\": \"Avg Streams\",\n",
    "                \"Position\": \"Avg Position\",\n",
    "                \"Profit\": \"Avg Profit\"})\\\n",
    ".sort_values(by = 'Avg Streams', ascending=False)"
   ]
  },
  {
   "cell_type": "code",
   "execution_count": 27,
   "metadata": {},
   "outputs": [],
   "source": [
    "data3c = data3[data3['Track Name'].isin(data3b['Track Name'].iloc[0:5])].reset_index()"
   ]
  },
  {
   "cell_type": "code",
   "execution_count": null,
   "metadata": {},
   "outputs": [],
   "source": [
    "# data3c[data3c['Song_days_onchart']==max(data3c['Song_days_onchart'])]\n",
    "# data3c[data3c['Track Name'] == \"rockstar\"].loc[:, ['Track URI']]\n",
    "# 'rockstar' for some reason has three different Track URIs"
   ]
  },
  {
   "cell_type": "code",
   "execution_count": 30,
   "metadata": {},
   "outputs": [
    {
     "data": {
      "text/plain": [
       "<AxesSubplot:xlabel='Date', ylabel='Streams'>"
      ]
     },
     "execution_count": 30,
     "metadata": {},
     "output_type": "execute_result"
    },
    {
     "data": {
      "image/png": "[encoded data removed]",
      "text/plain": [
       "<Figure size 432x288 with 1 Axes>"
      ]
     },
     "metadata": {
      "needs_background": "light"
     },
     "output_type": "display_data"
    }
   ],
   "source": [
    "sns.lineplot(data = data3c, x = 'Date', y = 'Streams', \n",
    "             hue = 'Track URI', units=\"Track URI\", estimator=None)\n",
    "# plotting with Date as the x-axis means that each song's time horizon is squished horizontally"
   ]
  },
  {
   "cell_type": "code",
   "execution_count": 31,
   "metadata": {},
   "outputs": [
    {
     "data": {
      "text/plain": [
       "<AxesSubplot:xlabel='Date', ylabel='Streams'>"
      ]
     },
     "execution_count": 31,
     "metadata": {},
     "output_type": "execute_result"
    },
    {
     "data": {
      "image/png": "[encoded data removed]",
      "text/plain": [
       "<Figure size 432x288 with 1 Axes>"
      ]
     },
     "metadata": {
      "needs_background": "light"
     },
     "output_type": "display_data"
    }
   ],
   "source": [
    "sns.lineplot(data = data3c, x = 'Date', y = 'Streams', \n",
    "             hue = 'Track Name', units=\"Track Name\", estimator=None)\n",
    "# plotting with Date as the x-axis means that each song's time horizon is squished horizontally"
   ]
  },
  {
   "cell_type": "code",
   "execution_count": 32,
   "metadata": {},
   "outputs": [
    {
     "data": {
      "text/plain": [
       "<AxesSubplot:xlabel='Song_days_onchart', ylabel='Streams'>"
      ]
     },
     "execution_count": 32,
     "metadata": {},
     "output_type": "execute_result"
    },
    {
     "data": {
      "image/png": "[encoded data removed]",
      "text/plain": [
       "<Figure size 432x288 with 1 Axes>"
      ]
     },
     "metadata": {
      "needs_background": "light"
     },
     "output_type": "display_data"
    }
   ],
   "source": [
    "sns.lineplot(data = data3c, x = 'Song_days_onchart', y = 'Streams', \n",
    "             hue = 'Track URI', units=\"Track URI\", estimator=None)\n",
    "# plotting with Song_days_onchart allows all songs to start from the same point\n",
    "# however, since rockstar has multiple Track URIs, \n",
    "# plotting using Song_days_onchart will produce duplicate observations with Streams\n",
    "# therefore, we need to specify Track URI as the hue, not Track Name"
   ]
  },
  {
   "cell_type": "markdown",
   "metadata": {},
   "source": [
    "### Chart 4B - Artist Days on Chart metrics"
   ]
  },
  {
   "cell_type": "code",
   "execution_count": 33,
   "metadata": {},
   "outputs": [],
   "source": [
    "data5 = top_us.copy()\n",
    "data5b = data5[['Artist Name', 'Artist_days_onchart', \n",
    "               'Streams', 'Position', 'Profit']]\\\n",
    ".drop_duplicates()"
   ]
  },
  {
   "cell_type": "code",
   "execution_count": 34,
   "metadata": {},
   "outputs": [],
   "source": [
    "data5c = data5b.groupby(['Artist_days_onchart'])[['Streams', 'Position', 'Profit']]\\\n",
    ".agg('mean')\\\n",
    ".reset_index()\\\n",
    ".rename(columns={\"Streams\": \"Avg Streams\",\n",
    "                \"Position\": \"Avg Position\",\n",
    "                \"Profit\": \"Avg Profit\"})"
   ]
  },
  {
   "cell_type": "code",
   "execution_count": 35,
   "metadata": {},
   "outputs": [
    {
     "data": {
      "text/html": [
       "<div>\n",
       "<style scoped>\n",
       "    .dataframe tbody tr th:only-of-type {\n",
       "        vertical-align: middle;\n",
       "    }\n",
       "\n",
       "    .dataframe tbody tr th {\n",
       "        vertical-align: top;\n",
       "    }\n",
       "\n",
       "    .dataframe thead th {\n",
       "        text-align: right;\n",
       "    }\n",
       "</style>\n",
       "<table border=\"1\" class=\"dataframe\">\n",
       "  <thead>\n",
       "    <tr style=\"text-align: right;\">\n",
       "      <th></th>\n",
       "      <th>Artist_days_onchart</th>\n",
       "      <th>Avg Streams</th>\n",
       "      <th>Avg Position</th>\n",
       "      <th>Avg Profit</th>\n",
       "    </tr>\n",
       "  </thead>\n",
       "  <tbody>\n",
       "    <tr>\n",
       "      <th>0</th>\n",
       "      <td>1</td>\n",
       "      <td>372799.303571</td>\n",
       "      <td>118.432453</td>\n",
       "      <td>1233.965695</td>\n",
       "    </tr>\n",
       "    <tr>\n",
       "      <th>1</th>\n",
       "      <td>2</td>\n",
       "      <td>354290.626880</td>\n",
       "      <td>112.390038</td>\n",
       "      <td>1172.701975</td>\n",
       "    </tr>\n",
       "    <tr>\n",
       "      <th>2</th>\n",
       "      <td>3</td>\n",
       "      <td>335228.364919</td>\n",
       "      <td>111.009073</td>\n",
       "      <td>1109.605888</td>\n",
       "    </tr>\n",
       "    <tr>\n",
       "      <th>3</th>\n",
       "      <td>4</td>\n",
       "      <td>341662.062757</td>\n",
       "      <td>110.177984</td>\n",
       "      <td>1130.901428</td>\n",
       "    </tr>\n",
       "    <tr>\n",
       "      <th>4</th>\n",
       "      <td>5</td>\n",
       "      <td>341574.998925</td>\n",
       "      <td>110.293548</td>\n",
       "      <td>1130.613246</td>\n",
       "    </tr>\n",
       "    <tr>\n",
       "      <th>...</th>\n",
       "      <td>...</td>\n",
       "      <td>...</td>\n",
       "      <td>...</td>\n",
       "      <td>...</td>\n",
       "    </tr>\n",
       "    <tr>\n",
       "      <th>1450</th>\n",
       "      <td>1451</td>\n",
       "      <td>302010.363636</td>\n",
       "      <td>93.818182</td>\n",
       "      <td>999.654304</td>\n",
       "    </tr>\n",
       "    <tr>\n",
       "      <th>1451</th>\n",
       "      <td>1452</td>\n",
       "      <td>303997.923077</td>\n",
       "      <td>104.923077</td>\n",
       "      <td>1006.233125</td>\n",
       "    </tr>\n",
       "    <tr>\n",
       "      <th>1452</th>\n",
       "      <td>1453</td>\n",
       "      <td>299191.466667</td>\n",
       "      <td>113.866667</td>\n",
       "      <td>990.323755</td>\n",
       "    </tr>\n",
       "    <tr>\n",
       "      <th>1453</th>\n",
       "      <td>1454</td>\n",
       "      <td>301335.750000</td>\n",
       "      <td>112.125000</td>\n",
       "      <td>997.421332</td>\n",
       "    </tr>\n",
       "    <tr>\n",
       "      <th>1454</th>\n",
       "      <td>1455</td>\n",
       "      <td>317450.538462</td>\n",
       "      <td>113.307692</td>\n",
       "      <td>1050.761282</td>\n",
       "    </tr>\n",
       "  </tbody>\n",
       "</table>\n",
       "<p>1455 rows × 4 columns</p>\n",
       "</div>"
      ],
      "text/plain": [
       "      Artist_days_onchart    Avg Streams  Avg Position   Avg Profit\n",
       "0                       1  372799.303571    118.432453  1233.965695\n",
       "1                       2  354290.626880    112.390038  1172.701975\n",
       "2                       3  335228.364919    111.009073  1109.605888\n",
       "3                       4  341662.062757    110.177984  1130.901428\n",
       "4                       5  341574.998925    110.293548  1130.613246\n",
       "...                   ...            ...           ...          ...\n",
       "1450                 1451  302010.363636     93.818182   999.654304\n",
       "1451                 1452  303997.923077    104.923077  1006.233125\n",
       "1452                 1453  299191.466667    113.866667   990.323755\n",
       "1453                 1454  301335.750000    112.125000   997.421332\n",
       "1454                 1455  317450.538462    113.307692  1050.761282\n",
       "\n",
       "[1455 rows x 4 columns]"
      ]
     },
     "execution_count": 35,
     "metadata": {},
     "output_type": "execute_result"
    }
   ],
   "source": [
    "data5c"
   ]
  },
  {
   "cell_type": "code",
   "execution_count": 36,
   "metadata": {},
   "outputs": [
    {
     "data": {
      "text/plain": [
       "<AxesSubplot:xlabel='Artist_days_onchart', ylabel='Avg Streams'>"
      ]
     },
     "execution_count": 36,
     "metadata": {},
     "output_type": "execute_result"
    },
    {
     "data": {
      "image/png": "[encoded data removed]",
      "text/plain": [
       "<Figure size 432x288 with 1 Axes>"
      ]
     },
     "metadata": {
      "needs_background": "light"
     },
     "output_type": "display_data"
    }
   ],
   "source": [
    "sns.scatterplot(data = data5c, x = 'Artist_days_onchart', y = 'Avg Streams')"
   ]
  },
  {
   "cell_type": "code",
   "execution_count": null,
   "metadata": {},
   "outputs": [],
   "source": []
  }
 ],
 "metadata": {
  "kernelspec": {
   "display_name": "Python 3",
   "language": "python",
   "name": "python3"
  },
  "language_info": {
   "codemirror_mode": {
    "name": "ipython",
    "version": 3
   },
   "file_extension": ".py",
   "mimetype": "text/x-python",
   "name": "python",
   "nbconvert_exporter": "python",
   "pygments_lexer": "ipython3",
   "version": "3.8.5"
  },
  "varInspector": {
   "cols": {
    "lenName": 16,
    "lenType": 16,
    "lenVar": 40
   },
   "kernels_config": {
    "python": {
     "delete_cmd_postfix": "",
     "delete_cmd_prefix": "del ",
     "library": "var_list.py",
     "varRefreshCmd": "print(var_dic_list())"
    },
    "r": {
     "delete_cmd_postfix": ") ",
     "delete_cmd_prefix": "rm(",
     "library": "var_list.r",
     "varRefreshCmd": "cat(var_dic_list()) "
    }
   },
   "types_to_exclude": [
    "module",
    "function",
    "builtin_function_or_method",
    "instance",
    "_Feature"
   ],
   "window_display": false
  }
 },
 "nbformat": 4,
 "nbformat_minor": 4
}
