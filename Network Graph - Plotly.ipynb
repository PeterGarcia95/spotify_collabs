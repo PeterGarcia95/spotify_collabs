{
 "cells": [
  {
   "cell_type": "code",
   "execution_count": 3,
   "metadata": {},
   "outputs": [
    {
     "data": {
      "text/html": [
       "        <script type=\"text/javascript\">\n",
       "        window.PlotlyConfig = {MathJaxConfig: 'local'};\n",
       "        if (window.MathJax) {MathJax.Hub.Config({SVG: {font: \"STIX-Web\"}});}\n",
       "        if (typeof require !== 'undefined') {\n",
       "        require.undef(\"plotly\");\n",
       "        requirejs.config({\n",
       "            paths: {\n",
       "                'plotly': ['https://cdn.plot.ly/plotly-latest.min']\n",
       "            }\n",
       "        });\n",
       "        require(['plotly'], function(Plotly) {\n",
       "            window._Plotly = Plotly;\n",
       "        });\n",
       "        }\n",
       "        </script>\n",
       "        "
      ]
     },
     "metadata": {},
     "output_type": "display_data"
    }
   ],
   "source": [
    "import pandas as pd\n",
    "import numpy as np\n",
    "import matplotlib.pyplot as plt\n",
    "import matplotlib as mpl\n",
    "import statistics\n",
    "import networkx as nx\n",
    "import warnings\n",
    "import plotly.express as px\n",
    "import plotly.graph_objs as go\n",
    "from plotly.offline import download_plotlyjs, init_notebook_mode, plot, iplot\n",
    "init_notebook_mode(connected=True)"
   ]
  },
  {
   "cell_type": "code",
   "execution_count": 4,
   "metadata": {},
   "outputs": [
    {
     "data": {
      "text/html": [
       "<div>\n",
       "<style scoped>\n",
       "    .dataframe tbody tr th:only-of-type {\n",
       "        vertical-align: middle;\n",
       "    }\n",
       "\n",
       "    .dataframe tbody tr th {\n",
       "        vertical-align: top;\n",
       "    }\n",
       "\n",
       "    .dataframe thead th {\n",
       "        text-align: right;\n",
       "    }\n",
       "</style>\n",
       "<table border=\"1\" class=\"dataframe\">\n",
       "  <thead>\n",
       "    <tr style=\"text-align: right;\">\n",
       "      <th></th>\n",
       "      <th>Date</th>\n",
       "      <th>Track Name</th>\n",
       "      <th>Streams</th>\n",
       "      <th>Position</th>\n",
       "      <th>Artist Name</th>\n",
       "      <th>Artist No.</th>\n",
       "      <th>No. of Artists</th>\n",
       "      <th>Artist Genre</th>\n",
       "      <th>Track URI</th>\n",
       "      <th>Country</th>\n",
       "      <th>Song_days_onchart</th>\n",
       "      <th>Profit</th>\n",
       "    </tr>\n",
       "  </thead>\n",
       "  <tbody>\n",
       "    <tr>\n",
       "      <th>0</th>\n",
       "      <td>2017-01-01</td>\n",
       "      <td>Lighthouse - Andrelli Remix</td>\n",
       "      <td>149929.0</td>\n",
       "      <td>183.0</td>\n",
       "      <td>Hearts &amp; Colors</td>\n",
       "      <td>1</td>\n",
       "      <td>2</td>\n",
       "      <td>['viral pop']</td>\n",
       "      <td>04CttTezSnv71USiiG9mIo</td>\n",
       "      <td>United States</td>\n",
       "      <td>1</td>\n",
       "      <td>496.26499</td>\n",
       "    </tr>\n",
       "    <tr>\n",
       "      <th>1</th>\n",
       "      <td>2017-01-01</td>\n",
       "      <td>Lighthouse - Andrelli Remix</td>\n",
       "      <td>149929.0</td>\n",
       "      <td>183.0</td>\n",
       "      <td>Andrelli</td>\n",
       "      <td>2</td>\n",
       "      <td>2</td>\n",
       "      <td>['swedish pop']</td>\n",
       "      <td>04CttTezSnv71USiiG9mIo</td>\n",
       "      <td>United States</td>\n",
       "      <td>1</td>\n",
       "      <td>496.26499</td>\n",
       "    </tr>\n",
       "    <tr>\n",
       "      <th>2</th>\n",
       "      <td>2017-01-01</td>\n",
       "      <td>In the Name of Love</td>\n",
       "      <td>435945.0</td>\n",
       "      <td>27.0</td>\n",
       "      <td>Martin Garrix</td>\n",
       "      <td>1</td>\n",
       "      <td>2</td>\n",
       "      <td>['big room', 'dance pop', 'edm', 'electro hous...</td>\n",
       "      <td>04DwTuZ2VBdJCCC5TROn7L</td>\n",
       "      <td>United States</td>\n",
       "      <td>1</td>\n",
       "      <td>1442.97795</td>\n",
       "    </tr>\n",
       "    <tr>\n",
       "      <th>3</th>\n",
       "      <td>2017-01-01</td>\n",
       "      <td>In the Name of Love</td>\n",
       "      <td>435945.0</td>\n",
       "      <td>27.0</td>\n",
       "      <td>Bebe Rexha</td>\n",
       "      <td>2</td>\n",
       "      <td>2</td>\n",
       "      <td>['dance pop', 'electropop', 'pop', 'pop dance'...</td>\n",
       "      <td>04DwTuZ2VBdJCCC5TROn7L</td>\n",
       "      <td>United States</td>\n",
       "      <td>1</td>\n",
       "      <td>1442.97795</td>\n",
       "    </tr>\n",
       "    <tr>\n",
       "      <th>4</th>\n",
       "      <td>2017-01-01</td>\n",
       "      <td>Party</td>\n",
       "      <td>151474.0</td>\n",
       "      <td>178.0</td>\n",
       "      <td>Chris Brown</td>\n",
       "      <td>1</td>\n",
       "      <td>3</td>\n",
       "      <td>['dance pop', 'pop', 'pop rap', 'r&amp;b', 'rap']</td>\n",
       "      <td>05Z7jet4VDNVgNQWcYHnrk</td>\n",
       "      <td>United States</td>\n",
       "      <td>1</td>\n",
       "      <td>501.37894</td>\n",
       "    </tr>\n",
       "  </tbody>\n",
       "</table>\n",
       "</div>"
      ],
      "text/plain": [
       "         Date                   Track Name   Streams  Position  \\\n",
       "0  2017-01-01  Lighthouse - Andrelli Remix  149929.0     183.0   \n",
       "1  2017-01-01  Lighthouse - Andrelli Remix  149929.0     183.0   \n",
       "2  2017-01-01          In the Name of Love  435945.0      27.0   \n",
       "3  2017-01-01          In the Name of Love  435945.0      27.0   \n",
       "4  2017-01-01                        Party  151474.0     178.0   \n",
       "\n",
       "       Artist Name  Artist No.  No. of Artists  \\\n",
       "0  Hearts & Colors           1               2   \n",
       "1         Andrelli           2               2   \n",
       "2    Martin Garrix           1               2   \n",
       "3       Bebe Rexha           2               2   \n",
       "4      Chris Brown           1               3   \n",
       "\n",
       "                                        Artist Genre               Track URI  \\\n",
       "0                                      ['viral pop']  04CttTezSnv71USiiG9mIo   \n",
       "1                                    ['swedish pop']  04CttTezSnv71USiiG9mIo   \n",
       "2  ['big room', 'dance pop', 'edm', 'electro hous...  04DwTuZ2VBdJCCC5TROn7L   \n",
       "3  ['dance pop', 'electropop', 'pop', 'pop dance'...  04DwTuZ2VBdJCCC5TROn7L   \n",
       "4      ['dance pop', 'pop', 'pop rap', 'r&b', 'rap']  05Z7jet4VDNVgNQWcYHnrk   \n",
       "\n",
       "         Country  Song_days_onchart      Profit  \n",
       "0  United States                  1   496.26499  \n",
       "1  United States                  1   496.26499  \n",
       "2  United States                  1  1442.97795  \n",
       "3  United States                  1  1442.97795  \n",
       "4  United States                  1   501.37894  "
      ]
     },
     "execution_count": 4,
     "metadata": {},
     "output_type": "execute_result"
    }
   ],
   "source": [
    "df = pd.read_csv('./data/2021.01.19 spotify_us_all_fe.csv')\n",
    "df = df[df['No. of Artists'] > 1]\n",
    "df = df[list(df.columns[1:11]) + ['Song_days_onchart', 'Profit']]\n",
    "df.head()"
   ]
  },
  {
   "cell_type": "code",
   "execution_count": 5,
   "metadata": {},
   "outputs": [],
   "source": [
    "df['Sub-genres'] = df['Artist Genre']\n",
    "df['Sub-genres'] = df['Sub-genres'].apply(lambda x: x.replace('[', ''))\n",
    "df['Sub-genres'] = df['Sub-genres'].apply(lambda x: x.replace(']', ''))\n",
    "df['Sub-genres'] = df['Sub-genres'].apply(lambda x: x.replace(\"'\", ''))\n",
    "df['Sub-genres'] = df['Sub-genres'].apply(lambda x: x.replace(', ', ' '))\n",
    "df['Sub-genres'] = df['Sub-genres'].apply(lambda x: x.split(' '))\n",
    "df['Top Sub-Genres'] = df['Sub-genres'].apply(lambda x: statistics.multimode(x))"
   ]
  },
  {
   "cell_type": "code",
   "execution_count": 6,
   "metadata": {},
   "outputs": [
    {
     "name": "stdout",
     "output_type": "stream",
     "text": [
      "No. of Genres 17\n"
     ]
    }
   ],
   "source": [
    "genres = {'latin':'latin',\n",
    "              'reggaeton': 'latin',\n",
    "              'latino': 'latin',\n",
    "              'ritmo': 'latin',\n",
    "              'salsa': 'latin',\n",
    "              'mexican': 'latin',\n",
    "              'alternative': 'indie & alternative',\n",
    "              'indie': 'indie & alternative',\n",
    "              'experimental': 'indie & alternative',\n",
    "              'atl': 'indie & alternative',\n",
    "              'rock': 'rock & metal',\n",
    "              'metal': 'rock & metal',\n",
    "              'punk': 'rock & metal',\n",
    "              'pop':'pop', \n",
    "              'blues':'blues & rhythm',\n",
    "              'funk': 'blues & rhythm',\n",
    "              'funky': 'blues & rhythm',\n",
    "              'jazz': 'jazz',\n",
    "              'country': 'country', \n",
    "              'folk':'folk', \n",
    "              'classical':'classical',\n",
    "              'hip': 'hip hop & rap',\n",
    "              'hop': 'hip hop & rap',\n",
    "              'rap': 'hip hop & rap',\n",
    "              'trap': 'hip hop & rap',\n",
    "              'drill': 'hip hop & rap',\n",
    "              'gospel': 'christian & gospel',\n",
    "              'christian': 'christian & gospel',\n",
    "              'dance': 'electronic, house & dance',\n",
    "              'edm' : 'electronic, house & dance',\n",
    "              'electronic': 'electronic, house & dance',\n",
    "              'electropop': 'electronic, house & dance',\n",
    "              'melbourne': 'electronic, house & dance',\n",
    "              'bounce': 'electronic, house & dance',\n",
    "              'house': 'electronic, house & dance',\n",
    "              'grime': 'electronic, house & dance',\n",
    "              'electro': 'electronic, house & dance',\n",
    "              'electronica': 'electronic, house & dance',\n",
    "              'trance': 'electronic, house & dance',\n",
    "              'r&b': 'r&b & soul',\n",
    "              'soul': 'r&b & soul',\n",
    "              'soundtrack': 'soundtrack',\n",
    "              'hollywood': 'soundtrack',\n",
    "              'show': 'broadway',\n",
    "              'tunes': 'broadway',\n",
    "              'broadway': 'broadway',\n",
    "              'disney': 'broadway',\n",
    "              'k-pop': 'k-pop',\n",
    "              'reggae': 'reggae'\n",
    "         }\n",
    "\n",
    "print('No. of Genres', len(set(genres.values())))\n",
    "\n",
    "def pick_genre(sub_genres, genres=genres):\n",
    "    \n",
    "    if sub_genres == ['']:\n",
    "        return 'unknown'\n",
    "    \n",
    "    for element in sub_genres:\n",
    "        if element in list(genres.keys()):\n",
    "            return genres[element]\n",
    "        \n",
    "    return 'other'\n",
    "        "
   ]
  },
  {
   "cell_type": "code",
   "execution_count": 7,
   "metadata": {},
   "outputs": [
    {
     "data": {
      "text/html": [
       "<div>\n",
       "<style scoped>\n",
       "    .dataframe tbody tr th:only-of-type {\n",
       "        vertical-align: middle;\n",
       "    }\n",
       "\n",
       "    .dataframe tbody tr th {\n",
       "        vertical-align: top;\n",
       "    }\n",
       "\n",
       "    .dataframe thead th {\n",
       "        text-align: right;\n",
       "    }\n",
       "</style>\n",
       "<table border=\"1\" class=\"dataframe\">\n",
       "  <thead>\n",
       "    <tr style=\"text-align: right;\">\n",
       "      <th></th>\n",
       "      <th>Date</th>\n",
       "      <th>Track Name</th>\n",
       "      <th>Streams</th>\n",
       "      <th>Position</th>\n",
       "      <th>Artist Name</th>\n",
       "      <th>Artist No.</th>\n",
       "      <th>No. of Artists</th>\n",
       "      <th>Artist Genre</th>\n",
       "      <th>Track URI</th>\n",
       "      <th>Country</th>\n",
       "      <th>Song_days_onchart</th>\n",
       "      <th>Profit</th>\n",
       "      <th>Sub-genres</th>\n",
       "      <th>Top Sub-Genres</th>\n",
       "      <th>Genre</th>\n",
       "      <th>Year</th>\n",
       "    </tr>\n",
       "  </thead>\n",
       "  <tbody>\n",
       "    <tr>\n",
       "      <th>0</th>\n",
       "      <td>2017-01-01</td>\n",
       "      <td>Lighthouse - Andrelli Remix</td>\n",
       "      <td>149929.0</td>\n",
       "      <td>183.0</td>\n",
       "      <td>Hearts &amp; Colors</td>\n",
       "      <td>1</td>\n",
       "      <td>2</td>\n",
       "      <td>['viral pop']</td>\n",
       "      <td>04CttTezSnv71USiiG9mIo</td>\n",
       "      <td>United States</td>\n",
       "      <td>1</td>\n",
       "      <td>496.26499</td>\n",
       "      <td>[viral, pop]</td>\n",
       "      <td>[viral, pop]</td>\n",
       "      <td>pop</td>\n",
       "      <td>2017</td>\n",
       "    </tr>\n",
       "    <tr>\n",
       "      <th>1</th>\n",
       "      <td>2017-01-01</td>\n",
       "      <td>Lighthouse - Andrelli Remix</td>\n",
       "      <td>149929.0</td>\n",
       "      <td>183.0</td>\n",
       "      <td>Andrelli</td>\n",
       "      <td>2</td>\n",
       "      <td>2</td>\n",
       "      <td>['swedish pop']</td>\n",
       "      <td>04CttTezSnv71USiiG9mIo</td>\n",
       "      <td>United States</td>\n",
       "      <td>1</td>\n",
       "      <td>496.26499</td>\n",
       "      <td>[swedish, pop]</td>\n",
       "      <td>[swedish, pop]</td>\n",
       "      <td>pop</td>\n",
       "      <td>2017</td>\n",
       "    </tr>\n",
       "    <tr>\n",
       "      <th>2</th>\n",
       "      <td>2017-01-01</td>\n",
       "      <td>In the Name of Love</td>\n",
       "      <td>435945.0</td>\n",
       "      <td>27.0</td>\n",
       "      <td>Martin Garrix</td>\n",
       "      <td>1</td>\n",
       "      <td>2</td>\n",
       "      <td>['big room', 'dance pop', 'edm', 'electro hous...</td>\n",
       "      <td>04DwTuZ2VBdJCCC5TROn7L</td>\n",
       "      <td>United States</td>\n",
       "      <td>1</td>\n",
       "      <td>1442.97795</td>\n",
       "      <td>[big, room, dance, pop, edm, electro, house, p...</td>\n",
       "      <td>[pop, house]</td>\n",
       "      <td>pop</td>\n",
       "      <td>2017</td>\n",
       "    </tr>\n",
       "    <tr>\n",
       "      <th>3</th>\n",
       "      <td>2017-01-01</td>\n",
       "      <td>In the Name of Love</td>\n",
       "      <td>435945.0</td>\n",
       "      <td>27.0</td>\n",
       "      <td>Bebe Rexha</td>\n",
       "      <td>2</td>\n",
       "      <td>2</td>\n",
       "      <td>['dance pop', 'electropop', 'pop', 'pop dance'...</td>\n",
       "      <td>04DwTuZ2VBdJCCC5TROn7L</td>\n",
       "      <td>United States</td>\n",
       "      <td>1</td>\n",
       "      <td>1442.97795</td>\n",
       "      <td>[dance, pop, electropop, pop, pop, dance, post...</td>\n",
       "      <td>[pop]</td>\n",
       "      <td>pop</td>\n",
       "      <td>2017</td>\n",
       "    </tr>\n",
       "    <tr>\n",
       "      <th>4</th>\n",
       "      <td>2017-01-01</td>\n",
       "      <td>Party</td>\n",
       "      <td>151474.0</td>\n",
       "      <td>178.0</td>\n",
       "      <td>Chris Brown</td>\n",
       "      <td>1</td>\n",
       "      <td>3</td>\n",
       "      <td>['dance pop', 'pop', 'pop rap', 'r&amp;b', 'rap']</td>\n",
       "      <td>05Z7jet4VDNVgNQWcYHnrk</td>\n",
       "      <td>United States</td>\n",
       "      <td>1</td>\n",
       "      <td>501.37894</td>\n",
       "      <td>[dance, pop, pop, pop, rap, r&amp;b, rap]</td>\n",
       "      <td>[pop]</td>\n",
       "      <td>pop</td>\n",
       "      <td>2017</td>\n",
       "    </tr>\n",
       "  </tbody>\n",
       "</table>\n",
       "</div>"
      ],
      "text/plain": [
       "         Date                   Track Name   Streams  Position  \\\n",
       "0  2017-01-01  Lighthouse - Andrelli Remix  149929.0     183.0   \n",
       "1  2017-01-01  Lighthouse - Andrelli Remix  149929.0     183.0   \n",
       "2  2017-01-01          In the Name of Love  435945.0      27.0   \n",
       "3  2017-01-01          In the Name of Love  435945.0      27.0   \n",
       "4  2017-01-01                        Party  151474.0     178.0   \n",
       "\n",
       "       Artist Name  Artist No.  No. of Artists  \\\n",
       "0  Hearts & Colors           1               2   \n",
       "1         Andrelli           2               2   \n",
       "2    Martin Garrix           1               2   \n",
       "3       Bebe Rexha           2               2   \n",
       "4      Chris Brown           1               3   \n",
       "\n",
       "                                        Artist Genre               Track URI  \\\n",
       "0                                      ['viral pop']  04CttTezSnv71USiiG9mIo   \n",
       "1                                    ['swedish pop']  04CttTezSnv71USiiG9mIo   \n",
       "2  ['big room', 'dance pop', 'edm', 'electro hous...  04DwTuZ2VBdJCCC5TROn7L   \n",
       "3  ['dance pop', 'electropop', 'pop', 'pop dance'...  04DwTuZ2VBdJCCC5TROn7L   \n",
       "4      ['dance pop', 'pop', 'pop rap', 'r&b', 'rap']  05Z7jet4VDNVgNQWcYHnrk   \n",
       "\n",
       "         Country  Song_days_onchart      Profit  \\\n",
       "0  United States                  1   496.26499   \n",
       "1  United States                  1   496.26499   \n",
       "2  United States                  1  1442.97795   \n",
       "3  United States                  1  1442.97795   \n",
       "4  United States                  1   501.37894   \n",
       "\n",
       "                                          Sub-genres  Top Sub-Genres Genre  \\\n",
       "0                                       [viral, pop]    [viral, pop]   pop   \n",
       "1                                     [swedish, pop]  [swedish, pop]   pop   \n",
       "2  [big, room, dance, pop, edm, electro, house, p...    [pop, house]   pop   \n",
       "3  [dance, pop, electropop, pop, pop, dance, post...           [pop]   pop   \n",
       "4              [dance, pop, pop, pop, rap, r&b, rap]           [pop]   pop   \n",
       "\n",
       "   Year  \n",
       "0  2017  \n",
       "1  2017  \n",
       "2  2017  \n",
       "3  2017  \n",
       "4  2017  "
      ]
     },
     "execution_count": 7,
     "metadata": {},
     "output_type": "execute_result"
    }
   ],
   "source": [
    "df['Genre'] = df['Top Sub-Genres'].apply(pick_genre)\n",
    "df['Year'] = df['Date'].apply(lambda x: int(x[0:4]))\n",
    "df.head()"
   ]
  },
  {
   "cell_type": "code",
   "execution_count": 8,
   "metadata": {},
   "outputs": [],
   "source": [
    "def create_edgelist(data):\n",
    "        \n",
    "    #Create dictionary of track to genres of genres of artists\n",
    "    track_genre = {}\n",
    "    turi_list = list(data['Track URI'])\n",
    "    g_list = list(data['Genre'])\n",
    "    \n",
    "    for i in range(len(data)):\n",
    "    \n",
    "        uri = turi_list[i]\n",
    "        genre = g_list[i]\n",
    "        \n",
    "        if uri in track_genre:\n",
    "            track_genre[uri].append(genre)\n",
    "        else:\n",
    "            track_genre[uri] = [genre]\n",
    "            \n",
    "    #Create Edgelist dataframee\n",
    "    track_list = []\n",
    "    genre1_list = []\n",
    "    genre2_list = []\n",
    "   \n",
    "\n",
    "    for key, values in track_genre.items():\n",
    "        for i in range(1, len(values)):\n",
    "            track_list.append(key)\n",
    "            genre1_list.append(values[0])\n",
    "            genre2_list.append(values[i])\n",
    "            \n",
    "    \n",
    "    edge_list = pd.DataFrame({'Track URI': track_list,\n",
    "                              'Artist Genre': genre1_list, \n",
    "                              'Collaborator Genre': genre2_list})\n",
    "\n",
    "\n",
    "\n",
    "    return edge_list\n",
    "    "
   ]
  },
  {
   "cell_type": "code",
   "execution_count": 12,
   "metadata": {},
   "outputs": [],
   "source": [
    "def generate_network_plotly(data, year=[],  genres = [], metric='Count'):\n",
    "    \n",
    "    #Reduce dataframe\n",
    "    if year != []:\n",
    "        reduced_data = data[data['Year'].isin(year)][['Track URI', 'Artist Name', 'Genre']].drop_duplicates(ignore_index=True)\n",
    "    else:\n",
    "        reduced_data = data[['Track URI', 'Artist Name', 'Genre']].drop_duplicates(ignore_index=True)\n",
    "    \n",
    "    #Create Graph\n",
    "    digraph = nx.DiGraph()\n",
    "    \n",
    "    #Create Node List\n",
    "    nodes_df = reduced_data.groupby(['Genre'])[['Artist Name']].count().reset_index(drop=False).rename(columns={'Artist Name': 'Count'})\n",
    "    nodes_df['Size'] = nodes_df['Count'].apply(lambda x: 5*x**(1/3))\n",
    "    nodes_df = nodes_df[nodes_df.Genre != 'unknown']\n",
    "    nodes_df = nodes_df[nodes_df.Genre != 'other'].reset_index(drop=False)\n",
    "    \n",
    "    #Add Nodes\n",
    "    for i in range(len(nodes_df)):\n",
    "        digraph.add_node(nodes_df.Genre[i], title=nodes_df.Genre[i], count=nodes_df.Count[i], size=nodes_df.Size[i])\n",
    "        \n",
    "    #Create Edge List\n",
    "    edges_df = create_edgelist(reduced_data)\n",
    "    \n",
    "    edges_df = edges_df[edges_df['Artist Genre'] != edges_df['Collaborator Genre']]\n",
    "    \n",
    "    for g in ['unknown', 'other']:\n",
    "        edges_df = edges_df[edges_df['Artist Genre'] != g]\n",
    "        edges_df = edges_df[edges_df['Collaborator Genre'] != g]\n",
    "    \n",
    "    if genres != []:\n",
    "        a, b = edges_df[edges_df['Artist Genre'].isin(genres)], edges_df[edges_df['Collaborator Genre'].isin(genres)]\n",
    "        edges_df = pd.concat([a,b])\n",
    "        \n",
    "    if metric == 'Count':\n",
    "        edge_list_reduced = edges_df.groupby(['Artist Genre', 'Collaborator Genre'])[['Artist Genre', 'Collaborator Genre']].count().rename(columns={'Artist Genre': 'Count', 'Collaborator Genre':'Weight'}).reset_index(drop=False)\n",
    "        edge_list_reduced['Weight'] = edge_list_reduced['Count'].apply(lambda x: x/(max(edge_list_reduced['Count'])))\n",
    "        edge_list_reduced['Color'] =  edge_list_reduced['Weight'].apply(lambda x: plt.cm.Wistia(x))\n",
    "        title_label = 'No. of Collaborations'\n",
    "        \n",
    "    elif metric == 'Streams':\n",
    "        track_streams = data.groupby(['Track URI'])[['Streams']].sum().reset_index(drop=False)\n",
    "        edge_list_reduced = edges_df.set_index('Track URI').join(track_streams.set_index('Track URI'))\n",
    "        edge_list_reduced = edge_list_reduced.groupby(['Artist Genre', 'Collaborator Genre'])[['Streams']].sum().reset_index(drop=False)\n",
    "        edge_list_reduced['Weight'] = edge_list_reduced['Streams'].apply(lambda x: x / edge_list_reduced['Streams'].max())\n",
    "        edge_list_reduced['Color'] =  edge_list_reduced['Weight'].apply(lambda x: plt.cm.Wistia(x))\n",
    "        title_label = 'Cumulative No. of Streams'\n",
    "        \n",
    "        \n",
    "    #Add Edges\n",
    "    for i in range(len(edge_list_reduced)):\n",
    "        u = edge_list_reduced['Artist Genre'][i]\n",
    "        v = edge_list_reduced['Collaborator Genre'][i]\n",
    "        color = edge_list_reduced['Color'][i]\n",
    "        m = edge_list_reduced[metric][i]\n",
    "        digraph.add_edge(u, v, color=color, metric = m)\n",
    "        \n",
    "    \n",
    "    #Plot Graph\n",
    "    \n",
    "    pos = nx.circular_layout(digraph)\n",
    "    \n",
    "    for node in digraph.nodes:\n",
    "        digraph.nodes[node]['pos'] = list(pos[node])\n",
    "\n",
    "\n",
    "    edge_x = []\n",
    "    edge_y = []\n",
    "    edge_weight = []\n",
    "    for edge in digraph.edges():\n",
    "        x0, y0 = digraph.nodes[edge[0]]['pos']\n",
    "        x1, y1 = digraph.nodes[edge[1]]['pos']\n",
    "        weight = digraph.edges[edge]['metric']\n",
    "        edge_x.append(x0)\n",
    "        edge_x.append(x1)\n",
    "        edge_x.append(None)\n",
    "        edge_y.append(y0)\n",
    "        edge_y.append(y1)\n",
    "        edge_y.append(None)\n",
    "        edge_weight.append(weight)\n",
    "\n",
    "    edge_trace = go.Scatter(\n",
    "        x=edge_x, y=edge_y,\n",
    "        line=dict(\n",
    "            width=2,\n",
    "        ),\n",
    "        hoverinfo='none',\n",
    "        mode='lines',\n",
    "        opacity = 0.5\n",
    "    )\n",
    "        \n",
    "    node_x = []\n",
    "    node_y = []\n",
    "    node_size = []\n",
    "    node_label = []\n",
    "    hover_label = []\n",
    "    for node in digraph.nodes():\n",
    "        x, y = digraph.nodes[node]['pos']\n",
    "        size = digraph.nodes[node]['size']\n",
    "        n_label = '<b>' + digraph.nodes[node]['title'] + '</b>'\n",
    "        h_label = str(digraph.nodes[node]['count']) + ' artists'\n",
    "        node_x.append(x)\n",
    "        node_y.append(y)\n",
    "        node_size.append(size)\n",
    "        node_label.append(n_label)\n",
    "        hover_label.append(h_label)\n",
    "    \n",
    "        \n",
    "    node_trace = go.Scatter(\n",
    "        x=node_x, y=node_y,\n",
    "        mode='markers+text',\n",
    "        hoverinfo='text',\n",
    "        hovertext= hover_label,\n",
    "        text = node_label,\n",
    "        textfont_color = 'white',\n",
    "        marker=dict(\n",
    "            showscale=False,\n",
    "            color='#76984e',\n",
    "            size=node_size,\n",
    "            line_width=0,\n",
    "            opacity=1,\n",
    "        ))\n",
    "        \n",
    "    fig = go.Figure(data=[edge_trace, node_trace],\n",
    "             layout=go.Layout(\n",
    "                title=title_label,\n",
    "                titlefont=dict(size=16),\n",
    "                showlegend=False,\n",
    "                hovermode='closest',\n",
    "                margin=dict(b=20,l=5,r=5,t=40),\n",
    "                plot_bgcolor='rgb(0,0,0)',\n",
    "                xaxis=dict(showgrid=False, zeroline=False, showticklabels=False),\n",
    "                yaxis=dict(showgrid=False, zeroline=False, showticklabels=False),\n",
    "                annotations = [ dict(\n",
    "                    ax=(digraph.nodes[edge[0]]['pos'][0] + digraph.nodes[edge[1]]['pos'][0]) / 2,\n",
    "                    ay=(digraph.nodes[edge[0]]['pos'][1] + digraph.nodes[edge[1]]['pos'][1]) / 2, axref='x', ayref='y',\n",
    "                    x=(digraph.nodes[edge[1]]['pos'][0] * 3 + digraph.nodes[edge[0]]['pos'][0]) / 4,\n",
    "                    y=(digraph.nodes[edge[1]]['pos'][1] * 3 + digraph.nodes[edge[0]]['pos'][1]) / 4, xref='x', yref='y',\n",
    "                    showarrow=True,\n",
    "                    arrowhead=2,\n",
    "                    arrowsize=2,\n",
    "                    arrowwidth=1,\n",
    "                    opacity=1,\n",
    "                    arrowcolor = mpl.colors.to_hex(digraph.edges[edge]['color']),\n",
    "                    )\n",
    "                for edge in digraph.edges]\n",
    "             ))\n",
    "    \n",
    "    \n",
    "    #Add custom color bar\n",
    "    wistia_color = [mpl.colors.to_hex(plt.cm.Wistia(i/10)) for i in range(0, 12, 2)]\n",
    "    \n",
    "    mx_value = int(edge_list_reduced[metric].max())\n",
    "    \n",
    "    if mx_value % 10 == 0:\n",
    "        colorbar_max = mx_value\n",
    "    else:\n",
    "        colorbar_max = mx_value + (10 - mx_value % 10)\n",
    "        \n",
    "    interval = colorbar_max // 5\n",
    "    tick_values = np.arange(0, colorbar_max + interval, interval)        \n",
    "    \n",
    "    colorbar_trace = go.Scatter(x=[None], y=[None],\n",
    "                                mode='markers',\n",
    "                                marker=dict(\n",
    "                                    colorscale=wistia_color,\n",
    "                                    showscale=True,\n",
    "                                    cmin=0,\n",
    "                                    cmax=colorbar_max,\n",
    "                                    colorbar=dict(\n",
    "                                        thickness=15,\n",
    "                                        tickvals=tick_values,\n",
    "                                        tickformat = '0.2s',\n",
    "                                        outlinewidth=0)\n",
    "                             ),\n",
    "                             hoverinfo='none'\n",
    "                            )\n",
    "    \n",
    "    fig.add_trace(colorbar_trace)\n",
    "    \n",
    "    warnings.filterwarnings('ignore')\n",
    "    fig.show()"
   ]
  },
  {
   "cell_type": "code",
   "execution_count": 13,
   "metadata": {},
   "outputs": [
    {
     "data": {
      "application/vnd.plotly.v1+json": {
       "config": {
        "plotlyServerURL": "https://plot.ly"
       },
       "data": [
        {
         "hoverinfo": "none",
         "line": {
          "width": 2
         },
         "mode": "lines",
         "opacity": 0.5,
         "type": "scatter",
         "x": [
          1,
          -0.8502170699005982,
          null,
          1,
          -0.6026346984546599,
          null,
          1,
          -0.2736628715195022,
          null,
          0.9324722302469113,
          -0.8502170699005982,
          null,
          0.9324722302469113,
          -0.9829730622536694,
          null,
          0.9324722302469113,
          -0.6026346984546599,
          null,
          0.9324722302469113,
          -0.2736628715195022,
          null,
          0.9324722302469113,
          0.44573838538938926,
          null,
          0.9324722302469113,
          0.9324722302469113,
          null,
          0.4457383555870674,
          0.9324722302469113,
          null,
          0.09226838680081847,
          0.7390089083075637,
          null,
          0.09226838680081847,
          -0.273662901321824,
          null,
          0.09226838680081847,
          -0.8502170699005982,
          null,
          0.09226838680081847,
          -0.9829730622536694,
          null,
          0.09226838680081847,
          -0.8502171295052419,
          null,
          0.09226838680081847,
          -0.2736628715195022,
          null,
          0.09226838680081847,
          0.09226820798688744,
          null,
          0.09226838680081847,
          0.7390087294936326,
          null,
          -0.273662901321824,
          -0.8502170699005982,
          null,
          -0.273662901321824,
          -0.9829730622536694,
          null,
          -0.273662901321824,
          -0.8502171295052419,
          null,
          -0.273662901321824,
          -0.6026346984546599,
          null,
          -0.273662901321824,
          -0.2736628715195022,
          null,
          -0.273662901321824,
          0.09226820798688744,
          null,
          -0.6026346388500162,
          0.09226838680081847,
          null,
          -0.8502170699005982,
          1,
          null,
          -0.8502170699005982,
          0.9324722302469113,
          null,
          -0.8502170699005982,
          0.7390089083075637,
          null,
          -0.8502170699005982,
          0.09226838680081847,
          null,
          -0.8502170699005982,
          -0.273662901321824,
          null,
          -0.8502170699005982,
          -0.6026346388500162,
          null,
          -0.8502170699005982,
          -0.9829730622536694,
          null,
          -0.8502170699005982,
          -0.9829730622536694,
          null,
          -0.8502170699005982,
          -0.6026346984546599,
          null,
          -0.8502170699005982,
          -0.2736628715195022,
          null,
          -0.8502170699005982,
          0.09226820798688744,
          null,
          -0.8502170699005982,
          0.44573838538938926,
          null,
          -0.8502170699005982,
          0.7390087294936326,
          null,
          -0.9829730622536694,
          -0.273662901321824,
          null,
          -0.9829730622536694,
          -0.8502170699005982,
          null,
          -0.9829730622536694,
          -0.9829730622536694,
          null,
          -0.9829730622536694,
          -0.2736628715195022,
          null,
          -0.9829730622536694,
          0.09226820798688744,
          null,
          -0.9829730622536694,
          0.44573838538938926,
          null,
          -0.9829730622536694,
          0.7390087294936326,
          null,
          -0.9829730622536694,
          1,
          null,
          -0.8502171295052419,
          -0.273662901321824,
          null,
          -0.8502171295052419,
          -0.8502170699005982,
          null,
          -0.8502171295052419,
          -0.2736628715195022,
          null,
          -0.6026346984546599,
          1,
          null,
          -0.6026346984546599,
          -0.273662901321824,
          null,
          -0.6026346984546599,
          -0.8502170699005982,
          null,
          -0.6026346984546599,
          -0.9829730622536694,
          null,
          -0.6026346984546599,
          -0.2736628715195022,
          null,
          -0.6026346984546599,
          0.09226820798688744,
          null,
          -0.6026346984546599,
          0.44573838538938926,
          null,
          -0.6026346984546599,
          0.7390087294936326,
          null,
          -0.2736628715195022,
          1,
          null,
          -0.2736628715195022,
          0.9324722302469113,
          null,
          -0.2736628715195022,
          0.09226838680081847,
          null,
          -0.2736628715195022,
          -0.273662901321824,
          null,
          -0.2736628715195022,
          -0.8502170699005982,
          null,
          -0.2736628715195022,
          -0.9829730622536694,
          null,
          -0.2736628715195022,
          -0.8502171295052419,
          null,
          -0.2736628715195022,
          -0.6026346984546599,
          null,
          -0.2736628715195022,
          0.09226820798688744,
          null,
          -0.2736628715195022,
          0.44573838538938926,
          null,
          -0.2736628715195022,
          0.7390087294936326,
          null,
          -0.2736628715195022,
          0.9324722302469113,
          null,
          0.09226820798688744,
          -0.273662901321824,
          null,
          0.09226820798688744,
          -0.8502170699005982,
          null,
          0.09226820798688744,
          -0.9829730622536694,
          null,
          0.09226820798688744,
          -0.6026346984546599,
          null,
          0.09226820798688744,
          -0.2736628715195022,
          null,
          0.09226820798688744,
          0.7390087294936326,
          null,
          0.7390087294936326,
          -0.273662901321824,
          null,
          0.7390087294936326,
          -0.8502170699005982,
          null,
          0.7390087294936326,
          -0.9829730622536694,
          null,
          0.7390087294936326,
          -0.2736628715195022,
          null,
          0.7390087294936326,
          0.09226820798688744,
          null,
          0.9324722302469113,
          0.9324722302469113,
          null,
          0.9324722302469113,
          -0.2736628715195022,
          null
         ],
         "y": [
          5.259233265726095e-09,
          0.5264321521318351,
          null,
          5.259233265726095e-09,
          -0.7980171242545987,
          null,
          5.259233265726095e-09,
          -0.9618256458479354,
          null,
          0.3612416670724969,
          0.5264321521318351,
          null,
          0.3612416670724969,
          0.18374952861601807,
          null,
          0.3612416670724969,
          -0.7980171242545987,
          null,
          0.3612416670724969,
          -0.9618256458479354,
          null,
          0.3612416670724969,
          -0.8951632759164109,
          null,
          0.3612416670724969,
          -0.3612416863563521,
          null,
          0.8951632864348774,
          -0.3612416863563521,
          null,
          0.9957341421085096,
          0.6736956167329691,
          null,
          0.9957341421085096,
          0.9618256563664019,
          null,
          0.9957341421085096,
          0.5264321521318351,
          null,
          0.9957341421085096,
          0.18374952861601807,
          null,
          0.9957341421085096,
          -0.5264320820087249,
          null,
          0.9957341421085096,
          -0.9618256458479354,
          null,
          0.9957341421085096,
          -0.9957341911946868,
          null,
          0.9957341421085096,
          -0.6736957850284335,
          null,
          0.9618256563664019,
          0.5264321521318351,
          null,
          0.9618256563664019,
          0.18374952861601807,
          null,
          0.9618256563664019,
          -0.5264320820087249,
          null,
          0.9618256563664019,
          -0.7980171242545987,
          null,
          0.9618256563664019,
          -0.9618256458479354,
          null,
          0.9618256563664019,
          -0.9957341911946868,
          null,
          0.7980171943777089,
          0.9957341421085096,
          null,
          0.5264321521318351,
          5.259233265726095e-09,
          null,
          0.5264321521318351,
          0.3612416670724969,
          null,
          0.5264321521318351,
          0.6736956167329691,
          null,
          0.5264321521318351,
          0.9957341421085096,
          null,
          0.5264321521318351,
          0.9618256563664019,
          null,
          0.5264321521318351,
          0.7980171943777089,
          null,
          0.5264321521318351,
          0.18374952861601807,
          null,
          0.5264321521318351,
          -0.18374945849290786,
          null,
          0.5264321521318351,
          -0.7980171242545987,
          null,
          0.5264321521318351,
          -0.9618256458479354,
          null,
          0.5264321521318351,
          -0.9957341911946868,
          null,
          0.5264321521318351,
          -0.8951632759164109,
          null,
          0.5264321521318351,
          -0.6736957850284335,
          null,
          0.18374952861601807,
          0.9618256563664019,
          null,
          0.18374952861601807,
          0.5264321521318351,
          null,
          0.18374952861601807,
          -0.18374945849290786,
          null,
          0.18374952861601807,
          -0.9618256458479354,
          null,
          0.18374952861601807,
          -0.9957341911946868,
          null,
          0.18374952861601807,
          -0.8951632759164109,
          null,
          0.18374952861601807,
          -0.6736957850284335,
          null,
          -0.18374945849290786,
          5.259233265726095e-09,
          null,
          -0.5264320820087249,
          0.9618256563664019,
          null,
          -0.5264320820087249,
          0.5264321521318351,
          null,
          -0.5264320820087249,
          -0.9618256458479354,
          null,
          -0.7980171242545987,
          5.259233265726095e-09,
          null,
          -0.7980171242545987,
          0.9618256563664019,
          null,
          -0.7980171242545987,
          0.5264321521318351,
          null,
          -0.7980171242545987,
          0.18374952861601807,
          null,
          -0.7980171242545987,
          -0.9618256458479354,
          null,
          -0.7980171242545987,
          -0.9957341911946868,
          null,
          -0.7980171242545987,
          -0.8951632759164109,
          null,
          -0.7980171242545987,
          -0.6736957850284335,
          null,
          -0.9618256458479354,
          5.259233265726095e-09,
          null,
          -0.9618256458479354,
          0.3612416670724969,
          null,
          -0.9618256458479354,
          0.9957341421085096,
          null,
          -0.9618256458479354,
          0.9618256563664019,
          null,
          -0.9618256458479354,
          0.5264321521318351,
          null,
          -0.9618256458479354,
          0.18374952861601807,
          null,
          -0.9618256458479354,
          -0.5264320820087249,
          null,
          -0.9618256458479354,
          -0.7980171242545987,
          null,
          -0.9618256458479354,
          -0.9957341911946868,
          null,
          -0.9618256458479354,
          -0.8951632759164109,
          null,
          -0.9618256458479354,
          -0.6736957850284335,
          null,
          -0.9618256458479354,
          -0.3612416863563521,
          null,
          -0.9957341911946868,
          0.9618256563664019,
          null,
          -0.9957341911946868,
          0.5264321521318351,
          null,
          -0.9957341911946868,
          0.18374952861601807,
          null,
          -0.9957341911946868,
          -0.7980171242545987,
          null,
          -0.9957341911946868,
          -0.9618256458479354,
          null,
          -0.9957341911946868,
          -0.6736957850284335,
          null,
          -0.6736957850284335,
          0.9618256563664019,
          null,
          -0.6736957850284335,
          0.5264321521318351,
          null,
          -0.6736957850284335,
          0.18374952861601807,
          null,
          -0.6736957850284335,
          -0.9618256458479354,
          null,
          -0.6736957850284335,
          -0.9957341911946868,
          null,
          -0.3612416863563521,
          0.3612416670724969,
          null,
          -0.3612416863563521,
          -0.9618256458479354,
          null
         ]
        },
        {
         "hoverinfo": "text",
         "hovertext": [
          "16 artists",
          "39 artists",
          "3 artists",
          "1 artists",
          "126 artists",
          "187 artists",
          "5 artists",
          "3688 artists",
          "386 artists",
          "7 artists",
          "31 artists",
          "293 artists",
          "1785 artists",
          "86 artists",
          "17 artists",
          "71 artists",
          "35 artists"
         ],
         "marker": {
          "color": "#76984e",
          "line": {
           "width": 0
          },
          "opacity": 1,
          "showscale": false,
          "size": [
           12.599210498948732,
           16.95605721507083,
           7.211247851537042,
           5,
           25.066489674822922,
           28.59239532435658,
           8.549879733383484,
           77.25032379779304,
           36.405397098526684,
           9.564655913861944,
           15.706903261956963,
           33.20926097672104,
           60.65259840973538,
           22.070024812210516,
           12.856407953291175,
           20.704088747114263,
           16.35533155094295
          ]
         },
         "mode": "markers+text",
         "text": [
          "<b>blues & rhythm</b>",
          "<b>broadway</b>",
          "<b>christian & gospel</b>",
          "<b>classical</b>",
          "<b>country</b>",
          "<b>electronic, house & dance</b>",
          "<b>folk</b>",
          "<b>hip hop & rap</b>",
          "<b>indie & alternative</b>",
          "<b>jazz</b>",
          "<b>k-pop</b>",
          "<b>latin</b>",
          "<b>pop</b>",
          "<b>r&b & soul</b>",
          "<b>reggae</b>",
          "<b>rock & metal</b>",
          "<b>soundtrack</b>"
         ],
         "textfont": {
          "color": "white"
         },
         "type": "scatter",
         "x": [
          1,
          0.9324722302469113,
          0.7390089083075637,
          0.4457383555870674,
          0.09226838680081847,
          -0.273662901321824,
          -0.6026346388500162,
          -0.8502170699005982,
          -0.9829730622536694,
          -0.9829730622536694,
          -0.8502171295052419,
          -0.6026346984546599,
          -0.2736628715195022,
          0.09226820798688744,
          0.44573838538938926,
          0.7390087294936326,
          0.9324722302469113
         ],
         "y": [
          5.259233265726095e-09,
          0.3612416670724969,
          0.6736956167329691,
          0.8951632864348774,
          0.9957341421085096,
          0.9618256563664019,
          0.7980171943777089,
          0.5264321521318351,
          0.18374952861601807,
          -0.18374945849290786,
          -0.5264320820087249,
          -0.7980171242545987,
          -0.9618256458479354,
          -0.9957341911946868,
          -0.8951632759164109,
          -0.6736957850284335,
          -0.3612416863563521
         ]
        },
        {
         "hoverinfo": "none",
         "marker": {
          "cmax": 350,
          "cmin": 0,
          "colorbar": {
           "outlinewidth": 0,
           "thickness": 15,
           "tickformat": "0.2s",
           "tickvals": [
            0,
            70,
            140,
            210,
            280,
            350
           ]
          },
          "colorscale": [
           [
            0,
            "#e4ff7a"
           ],
           [
            0.2,
            "#faed2d"
           ],
           [
            0.4,
            "#ffce0a"
           ],
           [
            0.6,
            "#ffb100"
           ],
           [
            0.8,
            "#fe9900"
           ],
           [
            1,
            "#fc7f00"
           ]
          ],
          "showscale": true
         },
         "mode": "markers",
         "type": "scatter",
         "x": [
          null
         ],
         "y": [
          null
         ]
        }
       ],
       "layout": {
        "annotations": [
         {
          "arrowcolor": "#e4ff7a",
          "arrowhead": 2,
          "arrowsize": 2,
          "arrowwidth": 1,
          "ax": 0.0748914650497009,
          "axref": "x",
          "ay": 0.2632160786955342,
          "ayref": "y",
          "opacity": 1,
          "showarrow": true,
          "x": -0.3876628024254487,
          "xref": "x",
          "y": 0.3948241154136847,
          "yref": "y"
         },
         {
          "arrowcolor": "#e4ff7a",
          "arrowhead": 2,
          "arrowsize": 2,
          "arrowwidth": 1,
          "ax": 0.19868265077267006,
          "axref": "x",
          "ay": -0.3990085594976827,
          "ayref": "y",
          "opacity": 1,
          "showarrow": true,
          "x": -0.2019760238409949,
          "xref": "x",
          "y": -0.5985128418761407,
          "yref": "y"
         },
         {
          "arrowcolor": "#e4ff78",
          "arrowhead": 2,
          "arrowsize": 2,
          "arrowwidth": 1,
          "ax": 0.3631685642402489,
          "axref": "x",
          "ay": -0.48091282029435106,
          "ayref": "y",
          "opacity": 1,
          "showarrow": true,
          "x": 0.044752846360373355,
          "xref": "x",
          "y": -0.7213692330711433,
          "yref": "y"
         },
         {
          "arrowcolor": "#e5fe77",
          "arrowhead": 2,
          "arrowsize": 2,
          "arrowwidth": 1,
          "ax": 0.04112758017315654,
          "axref": "x",
          "ay": 0.44383690960216604,
          "ayref": "y",
          "opacity": 1,
          "showarrow": true,
          "x": -0.4045447448637209,
          "xref": "x",
          "y": 0.4851345308670006,
          "yref": "y"
         },
         {
          "arrowcolor": "#e5fe77",
          "arrowhead": 2,
          "arrowsize": 2,
          "arrowwidth": 1,
          "ax": -0.025250416003379073,
          "axref": "x",
          "ay": 0.2724955978442575,
          "ayref": "y",
          "opacity": 1,
          "showarrow": true,
          "x": -0.5041117391285244,
          "xref": "x",
          "y": 0.2281225632301378,
          "yref": "y"
         },
         {
          "arrowcolor": "#e7fd71",
          "arrowhead": 2,
          "arrowsize": 2,
          "arrowwidth": 1,
          "ax": 0.1649187658961257,
          "axref": "x",
          "ay": -0.2183877285910509,
          "ayref": "y",
          "opacity": 1,
          "showarrow": true,
          "x": -0.21885796627926707,
          "xref": "x",
          "y": -0.5082024264228248,
          "yref": "y"
         },
         {
          "arrowcolor": "#e5fe77",
          "arrowhead": 2,
          "arrowsize": 2,
          "arrowwidth": 1,
          "ax": 0.32940467936370454,
          "axref": "x",
          "ay": -0.3002919893877193,
          "ayref": "y",
          "opacity": 1,
          "showarrow": true,
          "x": 0.027870903922101176,
          "xref": "x",
          "y": -0.6310588176178273,
          "yref": "y"
         },
         {
          "arrowcolor": "#e4ff7a",
          "arrowhead": 2,
          "arrowsize": 2,
          "arrowwidth": 1,
          "ax": 0.6891053078181503,
          "axref": "x",
          "ay": -0.266960804421957,
          "ayref": "y",
          "opacity": 1,
          "showarrow": true,
          "x": 0.5674218466037697,
          "xref": "x",
          "y": -0.581062040169184,
          "yref": "y"
         },
         {
          "arrowcolor": "#e7fc6f",
          "arrowhead": 2,
          "arrowsize": 2,
          "arrowwidth": 1,
          "ax": 0.9324722302469113,
          "axref": "x",
          "ay": -9.641927617431989e-09,
          "ayref": "y",
          "opacity": 1,
          "showarrow": true,
          "x": 0.9324722302469113,
          "xref": "x",
          "y": -0.18062084799913986,
          "yref": "y"
         },
         {
          "arrowcolor": "#e4ff7a",
          "arrowhead": 2,
          "arrowsize": 2,
          "arrowwidth": 1,
          "ax": 0.6891052929169894,
          "axref": "x",
          "ay": 0.26696080003926265,
          "ayref": "y",
          "opacity": 1,
          "showarrow": true,
          "x": 0.8107887615819503,
          "xref": "x",
          "y": -0.04714044315854474,
          "yref": "y"
         },
         {
          "arrowcolor": "#e4ff7a",
          "arrowhead": 2,
          "arrowsize": 2,
          "arrowwidth": 1,
          "ax": 0.4156386475541911,
          "axref": "x",
          "ay": 0.8347148794207393,
          "ayref": "y",
          "opacity": 1,
          "showarrow": true,
          "x": 0.5773237779308774,
          "xref": "x",
          "y": 0.7542052480768542,
          "yref": "y"
         },
         {
          "arrowcolor": "#e4ff7a",
          "arrowhead": 2,
          "arrowsize": 2,
          "arrowwidth": 1,
          "ax": -0.09069725726050278,
          "axref": "x",
          "ay": 0.9787798992374558,
          "ayref": "y",
          "opacity": 1,
          "showarrow": true,
          "x": -0.1821800792911634,
          "xref": "x",
          "y": 0.9703027778019289,
          "yref": "y"
         },
         {
          "arrowcolor": "#e6fd72",
          "arrowhead": 2,
          "arrowsize": 2,
          "arrowwidth": 1,
          "ax": -0.37897434154988985,
          "axref": "x",
          "ay": 0.7610831471201724,
          "ayref": "y",
          "opacity": 1,
          "showarrow": true,
          "x": -0.6145957057252441,
          "xref": "x",
          "y": 0.6437576496260038,
          "yref": "y"
         },
         {
          "arrowcolor": "#e5fe77",
          "arrowhead": 2,
          "arrowsize": 2,
          "arrowwidth": 1,
          "ax": -0.44535233772642546,
          "axref": "x",
          "ay": 0.5897418353622639,
          "ayref": "y",
          "opacity": 1,
          "showarrow": true,
          "x": -0.7141626999900476,
          "xref": "x",
          "y": 0.38674568198914094,
          "yref": "y"
         },
         {
          "arrowcolor": "#e4ff7a",
          "arrowhead": 2,
          "arrowsize": 2,
          "arrowwidth": 1,
          "ax": -0.3789743713522117,
          "axref": "x",
          "ay": 0.23465103004989235,
          "ayref": "y",
          "opacity": 1,
          "showarrow": true,
          "x": -0.6145957504287268,
          "xref": "x",
          "y": -0.1458905259794163,
          "yref": "y"
         },
         {
          "arrowcolor": "#e9fb69",
          "arrowhead": 2,
          "arrowsize": 2,
          "arrowwidth": 1,
          "ax": -0.09069724235934186,
          "axref": "x",
          "ay": 0.01695424813028712,
          "ayref": "y",
          "opacity": 1,
          "showarrow": true,
          "x": -0.18218005693942202,
          "xref": "x",
          "y": -0.4724356988588242,
          "yref": "y"
         },
         {
          "arrowcolor": "#e4ff7a",
          "arrowhead": 2,
          "arrowsize": 2,
          "arrowwidth": 1,
          "ax": 0.09226829739385295,
          "axref": "x",
          "ay": -2.4543088561479465e-08,
          "ayref": "y",
          "opacity": 1,
          "showarrow": true,
          "x": 0.0922682526903702,
          "xref": "x",
          "y": -0.49786710786888766,
          "yref": "y"
         },
         {
          "arrowcolor": "#e4ff7a",
          "arrowhead": 2,
          "arrowsize": 2,
          "arrowwidth": 1,
          "ax": 0.41563855814722556,
          "axref": "x",
          "ay": 0.16101917854003805,
          "ayref": "y",
          "opacity": 1,
          "showarrow": true,
          "x": 0.577323643820429,
          "xref": "x",
          "y": -0.2563383032441977,
          "yref": "y"
         },
         {
          "arrowcolor": "#ebf960",
          "arrowhead": 2,
          "arrowsize": 2,
          "arrowwidth": 1,
          "ax": -0.5619399856112111,
          "axref": "x",
          "ay": 0.7441289042491186,
          "ayref": "y",
          "opacity": 1,
          "showarrow": true,
          "x": -0.7060785277559047,
          "xref": "x",
          "y": 0.6352805281904769,
          "yref": "y"
         },
         {
          "arrowcolor": "#e7fc6f",
          "arrowhead": 2,
          "arrowsize": 2,
          "arrowwidth": 1,
          "ax": -0.6283179817877467,
          "axref": "x",
          "ay": 0.57278759249121,
          "ayref": "y",
          "opacity": 1,
          "showarrow": true,
          "x": -0.8056455220207082,
          "xref": "x",
          "y": 0.378268560553614,
          "yref": "y"
         },
         {
          "arrowcolor": "#e4ff78",
          "arrowhead": 2,
          "arrowsize": 2,
          "arrowwidth": 1,
          "ax": -0.561940015413533,
          "axref": "x",
          "ay": 0.2176967871788385,
          "ayref": "y",
          "opacity": 1,
          "showarrow": true,
          "x": -0.7060785724593874,
          "xref": "x",
          "y": -0.15436764741494322,
          "yref": "y"
         },
         {
          "arrowcolor": "#e4ff7a",
          "arrowhead": 2,
          "arrowsize": 2,
          "arrowwidth": 1,
          "ax": -0.43814879988824196,
          "axref": "x",
          "ay": 0.08190426605590162,
          "ayref": "y",
          "opacity": 1,
          "showarrow": true,
          "x": -0.5203917491714509,
          "xref": "x",
          "y": -0.35805642909934854,
          "yref": "y"
         },
         {
          "arrowcolor": "#f5f13f",
          "arrowhead": 2,
          "arrowsize": 2,
          "arrowwidth": 1,
          "ax": -0.2736628864206631,
          "axref": "x",
          "ay": 5.2592332711043355e-09,
          "ayref": "y",
          "opacity": 1,
          "showarrow": true,
          "x": -0.2736628789700827,
          "xref": "x",
          "y": -0.4809128202943511,
          "yref": "y"
         },
         {
          "arrowcolor": "#e4ff78",
          "arrowhead": 2,
          "arrowsize": 2,
          "arrowwidth": 1,
          "ax": -0.09069734666746829,
          "axref": "x",
          "ay": -0.01695426741414241,
          "ayref": "y",
          "opacity": 1,
          "showarrow": true,
          "x": 0.0007854306597095684,
          "xref": "x",
          "y": -0.5063442293044146,
          "yref": "y"
         },
         {
          "arrowcolor": "#e4ff7a",
          "arrowhead": 2,
          "arrowsize": 2,
          "arrowwidth": 1,
          "ax": -0.25518312602459886,
          "axref": "x",
          "ay": 0.8968756682431093,
          "ayref": "y",
          "opacity": 1,
          "showarrow": true,
          "x": -0.0814573696118902,
          "xref": "x",
          "y": 0.9463049051758095,
          "yref": "y"
         },
         {
          "arrowcolor": "#e5fe75",
          "arrowhead": 2,
          "arrowsize": 2,
          "arrowwidth": 1,
          "ax": 0.0748914650497009,
          "axref": "x",
          "ay": 0.2632160786955342,
          "ayref": "y",
          "opacity": 1,
          "showarrow": true,
          "x": 0.5374457325248505,
          "xref": "x",
          "y": 0.13160804197738374,
          "yref": "y"
         },
         {
          "arrowcolor": "#e4ff7a",
          "arrowhead": 2,
          "arrowsize": 2,
          "arrowwidth": 1,
          "ax": 0.04112758017315654,
          "axref": "x",
          "ay": 0.44383690960216604,
          "ayref": "y",
          "opacity": 1,
          "showarrow": true,
          "x": 0.48679990521003397,
          "xref": "x",
          "y": 0.40253928833733144,
          "yref": "y"
         },
         {
          "arrowcolor": "#e4ff78",
          "arrowhead": 2,
          "arrowsize": 2,
          "arrowwidth": 1,
          "ax": -0.05560408079651724,
          "axref": "x",
          "ay": 0.6000638844324021,
          "ayref": "y",
          "opacity": 1,
          "showarrow": true,
          "x": 0.3417024137555233,
          "xref": "x",
          "y": 0.6368797505826855,
          "yref": "y"
         },
         {
          "arrowcolor": "#e4ff7a",
          "arrowhead": 2,
          "arrowsize": 2,
          "arrowwidth": 1,
          "ax": -0.37897434154988985,
          "axref": "x",
          "ay": 0.7610831471201724,
          "ayref": "y",
          "opacity": 1,
          "showarrow": true,
          "x": -0.1433529773745357,
          "xref": "x",
          "y": 0.8784086446143411,
          "yref": "y"
         },
         {
          "arrowcolor": "#e9fb68",
          "arrowhead": 2,
          "arrowsize": 2,
          "arrowwidth": 1,
          "ax": -0.5619399856112111,
          "axref": "x",
          "ay": 0.7441289042491186,
          "ayref": "y",
          "opacity": 1,
          "showarrow": true,
          "x": -0.4178014434665176,
          "xref": "x",
          "y": 0.8529772803077602,
          "yref": "y"
         },
         {
          "arrowcolor": "#e5fe77",
          "arrowhead": 2,
          "arrowsize": 2,
          "arrowwidth": 1,
          "ax": -0.7264258543753073,
          "axref": "x",
          "ay": 0.6622246732547721,
          "ayref": "y",
          "opacity": 1,
          "showarrow": true,
          "x": -0.6645302466126617,
          "xref": "x",
          "y": 0.7301209338162404,
          "yref": "y"
         },
         {
          "arrowcolor": "#ffca08",
          "arrowhead": 2,
          "arrowsize": 2,
          "arrowwidth": 1,
          "ax": -0.9165950660771338,
          "axref": "x",
          "ay": 0.3550908403739266,
          "ayref": "y",
          "opacity": 1,
          "showarrow": true,
          "x": -0.9497840641654016,
          "xref": "x",
          "y": 0.26942018449497235,
          "yref": "y"
         },
         {
          "arrowcolor": "#e4ff7a",
          "arrowhead": 2,
          "arrowsize": 2,
          "arrowwidth": 1,
          "ax": -0.9165950660771338,
          "axref": "x",
          "ay": 0.17134134681946364,
          "ayref": "y",
          "opacity": 1,
          "showarrow": true,
          "x": -0.9497840641654016,
          "xref": "x",
          "y": -0.006204055836722122,
          "yref": "y"
         },
         {
          "arrowcolor": "#e9fb68",
          "arrowhead": 2,
          "arrowsize": 2,
          "arrowwidth": 1,
          "ax": -0.726425884177629,
          "axref": "x",
          "ay": -0.13579248606138178,
          "ayref": "y",
          "opacity": 1,
          "showarrow": true,
          "x": -0.6645302913161444,
          "xref": "x",
          "y": -0.4669048051579902,
          "yref": "y"
         },
         {
          "arrowcolor": "#fe9200",
          "arrowhead": 2,
          "arrowsize": 2,
          "arrowwidth": 1,
          "ax": -0.5619399707100502,
          "axref": "x",
          "ay": -0.21769674685805013,
          "ayref": "y",
          "opacity": 1,
          "showarrow": true,
          "x": -0.4178014211147762,
          "xref": "x",
          "y": -0.5897611963529927,
          "yref": "y"
         },
         {
          "arrowcolor": "#ecf95f",
          "arrowhead": 2,
          "arrowsize": 2,
          "arrowwidth": 1,
          "ax": -0.3789744309568554,
          "axref": "x",
          "ay": -0.2346510195314258,
          "ayref": "y",
          "opacity": 1,
          "showarrow": true,
          "x": -0.14335311148498397,
          "xref": "x",
          "y": -0.6151926053630563,
          "yref": "y"
         },
         {
          "arrowcolor": "#e5fe77",
          "arrowhead": 2,
          "arrowsize": 2,
          "arrowwidth": 1,
          "ax": -0.20223934225560447,
          "axref": "x",
          "ay": -0.18436556189228787,
          "ayref": "y",
          "opacity": 1,
          "showarrow": true,
          "x": 0.1217495215668924,
          "xref": "x",
          "y": -0.5397644189043493,
          "yref": "y"
         },
         {
          "arrowcolor": "#e9fb68",
          "arrowhead": 2,
          "arrowsize": 2,
          "arrowwidth": 1,
          "ax": -0.055604170203482794,
          "axref": "x",
          "ay": -0.07363181644829919,
          "ayref": "y",
          "opacity": 1,
          "showarrow": true,
          "x": 0.3417022796450749,
          "xref": "x",
          "y": -0.3736638007383663,
          "yref": "y"
         },
         {
          "arrowcolor": "#e7fd71",
          "arrowhead": 2,
          "arrowsize": 2,
          "arrowwidth": 1,
          "ax": -0.6283179817877467,
          "axref": "x",
          "ay": 0.57278759249121,
          "ayref": "y",
          "opacity": 1,
          "showarrow": true,
          "x": -0.4509904415547854,
          "xref": "x",
          "y": 0.767306624428806,
          "yref": "y"
         },
         {
          "arrowcolor": "#ffd911",
          "arrowhead": 2,
          "arrowsize": 2,
          "arrowwidth": 1,
          "ax": -0.9165950660771338,
          "axref": "x",
          "ay": 0.3550908403739266,
          "ayref": "y",
          "opacity": 1,
          "showarrow": true,
          "x": -0.883406067988866,
          "xref": "x",
          "y": 0.44076149625288086,
          "yref": "y"
         },
         {
          "arrowcolor": "#e4ff78",
          "arrowhead": 2,
          "arrowsize": 2,
          "arrowwidth": 1,
          "ax": -0.9829730622536694,
          "axref": "x",
          "ay": 3.5061555103688136e-08,
          "ayref": "y",
          "opacity": 1,
          "showarrow": true,
          "x": -0.9829730622536694,
          "xref": "x",
          "y": -0.09187471171567639,
          "yref": "y"
         },
         {
          "arrowcolor": "#ebf962",
          "arrowhead": 2,
          "arrowsize": 2,
          "arrowwidth": 1,
          "ax": -0.6283179668865858,
          "axref": "x",
          "ay": -0.38903805861595864,
          "ayref": "y",
          "opacity": 1,
          "showarrow": true,
          "x": -0.450990419203044,
          "xref": "x",
          "y": -0.675431852231947,
          "yref": "y"
         },
         {
          "arrowcolor": "#e5fe77",
          "arrowhead": 2,
          "arrowsize": 2,
          "arrowwidth": 1,
          "ax": -0.445352427133391,
          "axref": "x",
          "ay": -0.4059923312893343,
          "ayref": "y",
          "opacity": 1,
          "showarrow": true,
          "x": -0.17654210957325178,
          "xref": "x",
          "y": -0.7008632612420105,
          "yref": "y"
         },
         {
          "arrowcolor": "#e4ff7a",
          "arrowhead": 2,
          "arrowsize": 2,
          "arrowwidth": 1,
          "ax": -0.2686173384321401,
          "axref": "x",
          "ay": -0.3557068736501964,
          "ayref": "y",
          "opacity": 1,
          "showarrow": true,
          "x": 0.08856052347862459,
          "xref": "x",
          "y": -0.6254350747833036,
          "yref": "y"
         },
         {
          "arrowcolor": "#e4ff78",
          "arrowhead": 2,
          "arrowsize": 2,
          "arrowwidth": 1,
          "ax": -0.12198216638001841,
          "axref": "x",
          "ay": -0.24497312820620773,
          "ayref": "y",
          "opacity": 1,
          "showarrow": true,
          "x": 0.3085132815568071,
          "xref": "x",
          "y": -0.4593344566173206,
          "yref": "y"
         },
         {
          "arrowcolor": "#e4ff7a",
          "arrowhead": 2,
          "arrowsize": 2,
          "arrowwidth": 1,
          "ax": 0.008513468873165286,
          "axref": "x",
          "ay": -0.0918747266168373,
          "ayref": "y",
          "opacity": 1,
          "showarrow": true,
          "x": 0.5042567344365827,
          "xref": "x",
          "y": -0.04593736067880202,
          "yref": "y"
         },
         {
          "arrowcolor": "#e5fe77",
          "arrowhead": 2,
          "arrowsize": 2,
          "arrowwidth": 1,
          "ax": -0.561940015413533,
          "axref": "x",
          "ay": 0.2176967871788385,
          "ayref": "y",
          "opacity": 1,
          "showarrow": true,
          "x": -0.41780145836767846,
          "xref": "x",
          "y": 0.5897612217726202,
          "yref": "y"
         },
         {
          "arrowcolor": "#e5fe77",
          "arrowhead": 2,
          "arrowsize": 2,
          "arrowwidth": 1,
          "ax": -0.85021709970292,
          "axref": "x",
          "ay": 3.5061555103688136e-08,
          "ayref": "y",
          "opacity": 1,
          "showarrow": true,
          "x": -0.8502170848017592,
          "xref": "x",
          "y": 0.2632160935966951,
          "yref": "y"
         },
         {
          "arrowcolor": "#e8fb6b",
          "arrowhead": 2,
          "arrowsize": 2,
          "arrowwidth": 1,
          "ax": -0.561940000512372,
          "axref": "x",
          "ay": -0.7441288639283301,
          "ayref": "y",
          "opacity": 1,
          "showarrow": true,
          "x": -0.4178014360159371,
          "xref": "x",
          "y": -0.8529772548881328,
          "yref": "y"
         },
         {
          "arrowcolor": "#e4ff78",
          "arrowhead": 2,
          "arrowsize": 2,
          "arrowwidth": 1,
          "ax": 0.19868265077267006,
          "axref": "x",
          "ay": -0.3990085594976827,
          "ayref": "y",
          "opacity": 1,
          "showarrow": true,
          "x": 0.599341325386335,
          "xref": "x",
          "y": -0.19950427711922472,
          "yref": "y"
         },
         {
          "arrowcolor": "#e4ff7a",
          "arrowhead": 2,
          "arrowsize": 2,
          "arrowwidth": 1,
          "ax": -0.43814879988824196,
          "axref": "x",
          "ay": 0.08190426605590162,
          "ayref": "y",
          "opacity": 1,
          "showarrow": true,
          "x": -0.355905850605033,
          "xref": "x",
          "y": 0.5218649612111518,
          "yref": "y"
         },
         {
          "arrowcolor": "#e7fc6f",
          "arrowhead": 2,
          "arrowsize": 2,
          "arrowwidth": 1,
          "ax": -0.726425884177629,
          "axref": "x",
          "ay": -0.13579248606138178,
          "ayref": "y",
          "opacity": 1,
          "showarrow": true,
          "x": -0.7883214770391137,
          "xref": "x",
          "y": 0.19531983303522668,
          "yref": "y"
         },
         {
          "arrowcolor": "#e4ff78",
          "arrowhead": 2,
          "arrowsize": 2,
          "arrowwidth": 1,
          "ax": -0.7928038803541646,
          "axref": "x",
          "ay": -0.3071337978192903,
          "ayref": "y",
          "opacity": 1,
          "showarrow": true,
          "x": -0.8878884713039171,
          "xref": "x",
          "y": -0.06169213460163611,
          "yref": "y"
         },
         {
          "arrowcolor": "#eafa66",
          "arrowhead": 2,
          "arrowsize": 2,
          "arrowwidth": 1,
          "ax": -0.43814878498708104,
          "axref": "x",
          "ay": -0.879921385051267,
          "ayref": "y",
          "opacity": 1,
          "showarrow": true,
          "x": -0.35590582825329165,
          "xref": "x",
          "y": -0.9208735154496013,
          "yref": "y"
         },
         {
          "arrowcolor": "#e4ff78",
          "arrowhead": 2,
          "arrowsize": 2,
          "arrowwidth": 1,
          "ax": -0.25518324523388625,
          "axref": "x",
          "ay": -0.8968756577246427,
          "ayref": "y",
          "opacity": 1,
          "showarrow": true,
          "x": -0.0814575186234994,
          "xref": "x",
          "y": -0.9463049244596647,
          "yref": "y"
         },
         {
          "arrowcolor": "#e4ff7a",
          "arrowhead": 2,
          "arrowsize": 2,
          "arrowwidth": 1,
          "ax": -0.07844815653263532,
          "axref": "x",
          "ay": -0.8465902000855048,
          "ayref": "y",
          "opacity": 1,
          "showarrow": true,
          "x": 0.18364511442837697,
          "xref": "x",
          "y": -0.8708767380009579,
          "yref": "y"
         },
         {
          "arrowcolor": "#e4ff7a",
          "arrowhead": 2,
          "arrowsize": 2,
          "arrowwidth": 1,
          "ax": 0.06818701551948636,
          "axref": "x",
          "ay": -0.7358564546415161,
          "ayref": "y",
          "opacity": 1,
          "showarrow": true,
          "x": 0.40359787250655943,
          "xref": "x",
          "y": -0.7047761198349748,
          "yref": "y"
         },
         {
          "arrowcolor": "#e5fe75",
          "arrowhead": 2,
          "arrowsize": 2,
          "arrowwidth": 1,
          "ax": 0.3631685642402489,
          "axref": "x",
          "ay": -0.48091282029435106,
          "ayref": "y",
          "opacity": 1,
          "showarrow": true,
          "x": 0.6815842821201245,
          "xref": "x",
          "y": -0.2404564075175589,
          "yref": "y"
         },
         {
          "arrowcolor": "#e4ff78",
          "arrowhead": 2,
          "arrowsize": 2,
          "arrowwidth": 1,
          "ax": 0.32940467936370454,
          "axref": "x",
          "ay": -0.3002919893877193,
          "ayref": "y",
          "opacity": 1,
          "showarrow": true,
          "x": 0.630938454805308,
          "xref": "x",
          "y": 0.0304748388423888,
          "yref": "y"
         },
         {
          "arrowcolor": "#eef757",
          "arrowhead": 2,
          "arrowsize": 2,
          "arrowwidth": 1,
          "ax": -0.09069724235934186,
          "axref": "x",
          "ay": 0.01695424813028712,
          "ayref": "y",
          "opacity": 1,
          "showarrow": true,
          "x": 0.0007855722207383009,
          "xref": "x",
          "y": 0.5063441951193984,
          "yref": "y"
         },
         {
          "arrowcolor": "#f6ef39",
          "arrowhead": 2,
          "arrowsize": 2,
          "arrowwidth": 1,
          "ax": -0.2736628864206631,
          "axref": "x",
          "ay": 5.2592332711043355e-09,
          "ayref": "y",
          "opacity": 1,
          "showarrow": true,
          "x": -0.27366289387124354,
          "xref": "x",
          "y": 0.48091283081281766,
          "yref": "y"
         },
         {
          "arrowcolor": "#fc7f00",
          "arrowhead": 2,
          "arrowsize": 2,
          "arrowwidth": 1,
          "ax": -0.5619399707100502,
          "axref": "x",
          "ay": -0.21769674685805013,
          "ayref": "y",
          "opacity": 1,
          "showarrow": true,
          "x": -0.7060785203053243,
          "xref": "x",
          "y": 0.1543677026368925,
          "yref": "y"
         },
         {
          "arrowcolor": "#fbec29",
          "arrowhead": 2,
          "arrowsize": 2,
          "arrowwidth": 1,
          "ax": -0.6283179668865858,
          "axref": "x",
          "ay": -0.38903805861595864,
          "ayref": "y",
          "opacity": 1,
          "showarrow": true,
          "x": -0.8056455145701277,
          "xref": "x",
          "y": -0.10264426499997029,
          "yref": "y"
         },
         {
          "arrowcolor": "#e6fd72",
          "arrowhead": 2,
          "arrowsize": 2,
          "arrowwidth": 1,
          "ax": -0.561940000512372,
          "axref": "x",
          "ay": -0.7441288639283301,
          "ayref": "y",
          "opacity": 1,
          "showarrow": true,
          "x": -0.706078565008807,
          "xref": "x",
          "y": -0.6352804729685275,
          "yref": "y"
         },
         {
          "arrowcolor": "#f0f550",
          "arrowhead": 2,
          "arrowsize": 2,
          "arrowwidth": 1,
          "ax": -0.43814878498708104,
          "axref": "x",
          "ay": -0.879921385051267,
          "ayref": "y",
          "opacity": 1,
          "showarrow": true,
          "x": -0.5203917417208704,
          "xref": "x",
          "y": -0.8389692546529328,
          "yref": "y"
         },
         {
          "arrowcolor": "#e9fb69",
          "arrowhead": 2,
          "arrowsize": 2,
          "arrowwidth": 1,
          "ax": -0.09069733176630737,
          "axref": "x",
          "ay": -0.9787799185213111,
          "ayref": "y",
          "opacity": 1,
          "showarrow": true,
          "x": 0.0007854381102900265,
          "xref": "x",
          "y": -0.9872570548579989,
          "yref": "y"
         },
         {
          "arrowcolor": "#e7fc6f",
          "arrowhead": 2,
          "arrowsize": 2,
          "arrowwidth": 1,
          "ax": 0.08603775693494353,
          "axref": "x",
          "ay": -0.9284944608821731,
          "ayref": "y",
          "opacity": 1,
          "showarrow": true,
          "x": 0.2658880711621664,
          "xref": "x",
          "y": -0.911828868399292,
          "yref": "y"
         },
         {
          "arrowcolor": "#ebf962",
          "arrowhead": 2,
          "arrowsize": 2,
          "arrowwidth": 1,
          "ax": 0.2326729289870652,
          "axref": "x",
          "ay": -0.8177607154381845,
          "ayref": "y",
          "opacity": 1,
          "showarrow": true,
          "x": 0.4858408292403489,
          "xref": "x",
          "y": -0.7457282502333089,
          "yref": "y"
         },
         {
          "arrowcolor": "#e5fe75",
          "arrowhead": 2,
          "arrowsize": 2,
          "arrowwidth": 1,
          "ax": 0.32940467936370454,
          "axref": "x",
          "ay": -0.6615336661021438,
          "ayref": "y",
          "opacity": 1,
          "showarrow": true,
          "x": 0.630938454805308,
          "xref": "x",
          "y": -0.511387676229248,
          "yref": "y"
         },
         {
          "arrowcolor": "#e4ff7a",
          "arrowhead": 2,
          "arrowsize": 2,
          "arrowwidth": 1,
          "ax": -0.09069734666746829,
          "axref": "x",
          "ay": -0.01695426741414241,
          "ayref": "y",
          "opacity": 1,
          "showarrow": true,
          "x": -0.18218012399464617,
          "xref": "x",
          "y": 0.47243569447612976,
          "yref": "y"
         },
         {
          "arrowcolor": "#e7fc6f",
          "arrowhead": 2,
          "arrowsize": 2,
          "arrowwidth": 1,
          "ax": -0.3789744309568554,
          "axref": "x",
          "ay": -0.2346510195314258,
          "ayref": "y",
          "opacity": 1,
          "showarrow": true,
          "x": -0.6145957504287268,
          "xref": "x",
          "y": 0.14589056630020467,
          "yref": "y"
         },
         {
          "arrowcolor": "#e4ff78",
          "arrowhead": 2,
          "arrowsize": 2,
          "arrowwidth": 1,
          "ax": -0.445352427133391,
          "axref": "x",
          "ay": -0.4059923312893343,
          "ayref": "y",
          "opacity": 1,
          "showarrow": true,
          "x": -0.7141627446935302,
          "xref": "x",
          "y": -0.11112140133665813,
          "yref": "y"
         },
         {
          "arrowcolor": "#e4ff78",
          "arrowhead": 2,
          "arrowsize": 2,
          "arrowwidth": 1,
          "ax": -0.25518324523388625,
          "axref": "x",
          "ay": -0.8968756577246427,
          "ayref": "y",
          "opacity": 1,
          "showarrow": true,
          "x": -0.428908971844273,
          "xref": "x",
          "y": -0.8474463909896207,
          "yref": "y"
         },
         {
          "arrowcolor": "#e6fe74",
          "arrowhead": 2,
          "arrowsize": 2,
          "arrowwidth": 1,
          "ax": -0.09069733176630737,
          "axref": "x",
          "ay": -0.9787799185213111,
          "ayref": "y",
          "opacity": 1,
          "showarrow": true,
          "x": -0.1821801016429048,
          "xref": "x",
          "y": -0.9703027821846233,
          "yref": "y"
         },
         {
          "arrowcolor": "#e4ff7a",
          "arrowhead": 2,
          "arrowsize": 2,
          "arrowwidth": 1,
          "ax": 0.41563846874026,
          "axref": "x",
          "ay": -0.8347149881115601,
          "ayref": "y",
          "opacity": 1,
          "showarrow": true,
          "x": 0.5773235991169463,
          "xref": "x",
          "y": -0.7542053865699968,
          "yref": "y"
         },
         {
          "arrowcolor": "#e4ff78",
          "arrowhead": 2,
          "arrowsize": 2,
          "arrowwidth": 1,
          "ax": 0.2326729140859043,
          "axref": "x",
          "ay": 0.1440649356689842,
          "ayref": "y",
          "opacity": 1,
          "showarrow": true,
          "x": -0.020494993617959867,
          "xref": "x",
          "y": 0.552945296017693,
          "yref": "y"
         },
         {
          "arrowcolor": "#e5fe77",
          "arrowhead": 2,
          "arrowsize": 2,
          "arrowwidth": 1,
          "ax": -0.055604170203482794,
          "axref": "x",
          "ay": -0.07363181644829919,
          "ayref": "y",
          "opacity": 1,
          "showarrow": true,
          "x": -0.4529106200520405,
          "xref": "x",
          "y": 0.22640016784176797,
          "yref": "y"
         },
         {
          "arrowcolor": "#e5fe75",
          "arrowhead": 2,
          "arrowsize": 2,
          "arrowwidth": 1,
          "ax": -0.12198216638001841,
          "axref": "x",
          "ay": -0.24497312820620773,
          "ayref": "y",
          "opacity": 1,
          "showarrow": true,
          "x": -0.552477614316844,
          "xref": "x",
          "y": -0.03061179979509482,
          "yref": "y"
         },
         {
          "arrowcolor": "#e6fe74",
          "arrowhead": 2,
          "arrowsize": 2,
          "arrowwidth": 1,
          "ax": 0.2326729289870652,
          "axref": "x",
          "ay": -0.8177607154381845,
          "ayref": "y",
          "opacity": 1,
          "showarrow": true,
          "x": -0.020494971266218492,
          "xref": "x",
          "y": -0.8897931806430599,
          "yref": "y"
         },
         {
          "arrowcolor": "#e4ff7a",
          "arrowhead": 2,
          "arrowsize": 2,
          "arrowwidth": 1,
          "ax": 0.41563846874026,
          "axref": "x",
          "ay": -0.8347149881115601,
          "ayref": "y",
          "opacity": 1,
          "showarrow": true,
          "x": 0.2539533383635737,
          "xref": "x",
          "y": -0.9152245896531235,
          "yref": "y"
         },
         {
          "arrowcolor": "#e8fc6c",
          "arrowhead": 2,
          "arrowsize": 2,
          "arrowwidth": 1,
          "ax": 0.9324722302469113,
          "axref": "x",
          "ay": -9.641927617431989e-09,
          "ayref": "y",
          "opacity": 1,
          "showarrow": true,
          "x": 0.9324722302469113,
          "xref": "x",
          "y": 0.18062082871528462,
          "yref": "y"
         },
         {
          "arrowcolor": "#e6fe74",
          "arrowhead": 2,
          "arrowsize": 2,
          "arrowwidth": 1,
          "ax": 0.32940467936370454,
          "axref": "x",
          "ay": -0.6615336661021438,
          "ayref": "y",
          "opacity": 1,
          "showarrow": true,
          "x": 0.027870903922101176,
          "xref": "x",
          "y": -0.8116796559750397,
          "yref": "y"
         }
        ],
        "hovermode": "closest",
        "margin": {
         "b": 20,
         "l": 5,
         "r": 5,
         "t": 40
        },
        "plot_bgcolor": "rgb(0,0,0)",
        "showlegend": false,
        "template": {
         "data": {
          "bar": [
           {
            "error_x": {
             "color": "#2a3f5f"
            },
            "error_y": {
             "color": "#2a3f5f"
            },
            "marker": {
             "line": {
              "color": "#E5ECF6",
              "width": 0.5
             }
            },
            "type": "bar"
           }
          ],
          "barpolar": [
           {
            "marker": {
             "line": {
              "color": "#E5ECF6",
              "width": 0.5
             }
            },
            "type": "barpolar"
           }
          ],
          "carpet": [
           {
            "aaxis": {
             "endlinecolor": "#2a3f5f",
             "gridcolor": "white",
             "linecolor": "white",
             "minorgridcolor": "white",
             "startlinecolor": "#2a3f5f"
            },
            "baxis": {
             "endlinecolor": "#2a3f5f",
             "gridcolor": "white",
             "linecolor": "white",
             "minorgridcolor": "white",
             "startlinecolor": "#2a3f5f"
            },
            "type": "carpet"
           }
          ],
          "choropleth": [
           {
            "colorbar": {
             "outlinewidth": 0,
             "ticks": ""
            },
            "type": "choropleth"
           }
          ],
          "contour": [
           {
            "colorbar": {
             "outlinewidth": 0,
             "ticks": ""
            },
            "colorscale": [
             [
              0,
              "#0d0887"
             ],
             [
              0.1111111111111111,
              "#46039f"
             ],
             [
              0.2222222222222222,
              "#7201a8"
             ],
             [
              0.3333333333333333,
              "#9c179e"
             ],
             [
              0.4444444444444444,
              "#bd3786"
             ],
             [
              0.5555555555555556,
              "#d8576b"
             ],
             [
              0.6666666666666666,
              "#ed7953"
             ],
             [
              0.7777777777777778,
              "#fb9f3a"
             ],
             [
              0.8888888888888888,
              "#fdca26"
             ],
             [
              1,
              "#f0f921"
             ]
            ],
            "type": "contour"
           }
          ],
          "contourcarpet": [
           {
            "colorbar": {
             "outlinewidth": 0,
             "ticks": ""
            },
            "type": "contourcarpet"
           }
          ],
          "heatmap": [
           {
            "colorbar": {
             "outlinewidth": 0,
             "ticks": ""
            },
            "colorscale": [
             [
              0,
              "#0d0887"
             ],
             [
              0.1111111111111111,
              "#46039f"
             ],
             [
              0.2222222222222222,
              "#7201a8"
             ],
             [
              0.3333333333333333,
              "#9c179e"
             ],
             [
              0.4444444444444444,
              "#bd3786"
             ],
             [
              0.5555555555555556,
              "#d8576b"
             ],
             [
              0.6666666666666666,
              "#ed7953"
             ],
             [
              0.7777777777777778,
              "#fb9f3a"
             ],
             [
              0.8888888888888888,
              "#fdca26"
             ],
             [
              1,
              "#f0f921"
             ]
            ],
            "type": "heatmap"
           }
          ],
          "heatmapgl": [
           {
            "colorbar": {
             "outlinewidth": 0,
             "ticks": ""
            },
            "colorscale": [
             [
              0,
              "#0d0887"
             ],
             [
              0.1111111111111111,
              "#46039f"
             ],
             [
              0.2222222222222222,
              "#7201a8"
             ],
             [
              0.3333333333333333,
              "#9c179e"
             ],
             [
              0.4444444444444444,
              "#bd3786"
             ],
             [
              0.5555555555555556,
              "#d8576b"
             ],
             [
              0.6666666666666666,
              "#ed7953"
             ],
             [
              0.7777777777777778,
              "#fb9f3a"
             ],
             [
              0.8888888888888888,
              "#fdca26"
             ],
             [
              1,
              "#f0f921"
             ]
            ],
            "type": "heatmapgl"
           }
          ],
          "histogram": [
           {
            "marker": {
             "colorbar": {
              "outlinewidth": 0,
              "ticks": ""
             }
            },
            "type": "histogram"
           }
          ],
          "histogram2d": [
           {
            "colorbar": {
             "outlinewidth": 0,
             "ticks": ""
            },
            "colorscale": [
             [
              0,
              "#0d0887"
             ],
             [
              0.1111111111111111,
              "#46039f"
             ],
             [
              0.2222222222222222,
              "#7201a8"
             ],
             [
              0.3333333333333333,
              "#9c179e"
             ],
             [
              0.4444444444444444,
              "#bd3786"
             ],
             [
              0.5555555555555556,
              "#d8576b"
             ],
             [
              0.6666666666666666,
              "#ed7953"
             ],
             [
              0.7777777777777778,
              "#fb9f3a"
             ],
             [
              0.8888888888888888,
              "#fdca26"
             ],
             [
              1,
              "#f0f921"
             ]
            ],
            "type": "histogram2d"
           }
          ],
          "histogram2dcontour": [
           {
            "colorbar": {
             "outlinewidth": 0,
             "ticks": ""
            },
            "colorscale": [
             [
              0,
              "#0d0887"
             ],
             [
              0.1111111111111111,
              "#46039f"
             ],
             [
              0.2222222222222222,
              "#7201a8"
             ],
             [
              0.3333333333333333,
              "#9c179e"
             ],
             [
              0.4444444444444444,
              "#bd3786"
             ],
             [
              0.5555555555555556,
              "#d8576b"
             ],
             [
              0.6666666666666666,
              "#ed7953"
             ],
             [
              0.7777777777777778,
              "#fb9f3a"
             ],
             [
              0.8888888888888888,
              "#fdca26"
             ],
             [
              1,
              "#f0f921"
             ]
            ],
            "type": "histogram2dcontour"
           }
          ],
          "mesh3d": [
           {
            "colorbar": {
             "outlinewidth": 0,
             "ticks": ""
            },
            "type": "mesh3d"
           }
          ],
          "parcoords": [
           {
            "line": {
             "colorbar": {
              "outlinewidth": 0,
              "ticks": ""
             }
            },
            "type": "parcoords"
           }
          ],
          "pie": [
           {
            "automargin": true,
            "type": "pie"
           }
          ],
          "scatter": [
           {
            "marker": {
             "colorbar": {
              "outlinewidth": 0,
              "ticks": ""
             }
            },
            "type": "scatter"
           }
          ],
          "scatter3d": [
           {
            "line": {
             "colorbar": {
              "outlinewidth": 0,
              "ticks": ""
             }
            },
            "marker": {
             "colorbar": {
              "outlinewidth": 0,
              "ticks": ""
             }
            },
            "type": "scatter3d"
           }
          ],
          "scattercarpet": [
           {
            "marker": {
             "colorbar": {
              "outlinewidth": 0,
              "ticks": ""
             }
            },
            "type": "scattercarpet"
           }
          ],
          "scattergeo": [
           {
            "marker": {
             "colorbar": {
              "outlinewidth": 0,
              "ticks": ""
             }
            },
            "type": "scattergeo"
           }
          ],
          "scattergl": [
           {
            "marker": {
             "colorbar": {
              "outlinewidth": 0,
              "ticks": ""
             }
            },
            "type": "scattergl"
           }
          ],
          "scattermapbox": [
           {
            "marker": {
             "colorbar": {
              "outlinewidth": 0,
              "ticks": ""
             }
            },
            "type": "scattermapbox"
           }
          ],
          "scatterpolar": [
           {
            "marker": {
             "colorbar": {
              "outlinewidth": 0,
              "ticks": ""
             }
            },
            "type": "scatterpolar"
           }
          ],
          "scatterpolargl": [
           {
            "marker": {
             "colorbar": {
              "outlinewidth": 0,
              "ticks": ""
             }
            },
            "type": "scatterpolargl"
           }
          ],
          "scatterternary": [
           {
            "marker": {
             "colorbar": {
              "outlinewidth": 0,
              "ticks": ""
             }
            },
            "type": "scatterternary"
           }
          ],
          "surface": [
           {
            "colorbar": {
             "outlinewidth": 0,
             "ticks": ""
            },
            "colorscale": [
             [
              0,
              "#0d0887"
             ],
             [
              0.1111111111111111,
              "#46039f"
             ],
             [
              0.2222222222222222,
              "#7201a8"
             ],
             [
              0.3333333333333333,
              "#9c179e"
             ],
             [
              0.4444444444444444,
              "#bd3786"
             ],
             [
              0.5555555555555556,
              "#d8576b"
             ],
             [
              0.6666666666666666,
              "#ed7953"
             ],
             [
              0.7777777777777778,
              "#fb9f3a"
             ],
             [
              0.8888888888888888,
              "#fdca26"
             ],
             [
              1,
              "#f0f921"
             ]
            ],
            "type": "surface"
           }
          ],
          "table": [
           {
            "cells": {
             "fill": {
              "color": "#EBF0F8"
             },
             "line": {
              "color": "white"
             }
            },
            "header": {
             "fill": {
              "color": "#C8D4E3"
             },
             "line": {
              "color": "white"
             }
            },
            "type": "table"
           }
          ]
         },
         "layout": {
          "annotationdefaults": {
           "arrowcolor": "#2a3f5f",
           "arrowhead": 0,
           "arrowwidth": 1
          },
          "autotypenumbers": "strict",
          "coloraxis": {
           "colorbar": {
            "outlinewidth": 0,
            "ticks": ""
           }
          },
          "colorscale": {
           "diverging": [
            [
             0,
             "#8e0152"
            ],
            [
             0.1,
             "#c51b7d"
            ],
            [
             0.2,
             "#de77ae"
            ],
            [
             0.3,
             "#f1b6da"
            ],
            [
             0.4,
             "#fde0ef"
            ],
            [
             0.5,
             "#f7f7f7"
            ],
            [
             0.6,
             "#e6f5d0"
            ],
            [
             0.7,
             "#b8e186"
            ],
            [
             0.8,
             "#7fbc41"
            ],
            [
             0.9,
             "#4d9221"
            ],
            [
             1,
             "#276419"
            ]
           ],
           "sequential": [
            [
             0,
             "#0d0887"
            ],
            [
             0.1111111111111111,
             "#46039f"
            ],
            [
             0.2222222222222222,
             "#7201a8"
            ],
            [
             0.3333333333333333,
             "#9c179e"
            ],
            [
             0.4444444444444444,
             "#bd3786"
            ],
            [
             0.5555555555555556,
             "#d8576b"
            ],
            [
             0.6666666666666666,
             "#ed7953"
            ],
            [
             0.7777777777777778,
             "#fb9f3a"
            ],
            [
             0.8888888888888888,
             "#fdca26"
            ],
            [
             1,
             "#f0f921"
            ]
           ],
           "sequentialminus": [
            [
             0,
             "#0d0887"
            ],
            [
             0.1111111111111111,
             "#46039f"
            ],
            [
             0.2222222222222222,
             "#7201a8"
            ],
            [
             0.3333333333333333,
             "#9c179e"
            ],
            [
             0.4444444444444444,
             "#bd3786"
            ],
            [
             0.5555555555555556,
             "#d8576b"
            ],
            [
             0.6666666666666666,
             "#ed7953"
            ],
            [
             0.7777777777777778,
             "#fb9f3a"
            ],
            [
             0.8888888888888888,
             "#fdca26"
            ],
            [
             1,
             "#f0f921"
            ]
           ]
          },
          "colorway": [
           "#636efa",
           "#EF553B",
           "#00cc96",
           "#ab63fa",
           "#FFA15A",
           "#19d3f3",
           "#FF6692",
           "#B6E880",
           "#FF97FF",
           "#FECB52"
          ],
          "font": {
           "color": "#2a3f5f"
          },
          "geo": {
           "bgcolor": "white",
           "lakecolor": "white",
           "landcolor": "#E5ECF6",
           "showlakes": true,
           "showland": true,
           "subunitcolor": "white"
          },
          "hoverlabel": {
           "align": "left"
          },
          "hovermode": "closest",
          "mapbox": {
           "style": "light"
          },
          "paper_bgcolor": "white",
          "plot_bgcolor": "#E5ECF6",
          "polar": {
           "angularaxis": {
            "gridcolor": "white",
            "linecolor": "white",
            "ticks": ""
           },
           "bgcolor": "#E5ECF6",
           "radialaxis": {
            "gridcolor": "white",
            "linecolor": "white",
            "ticks": ""
           }
          },
          "scene": {
           "xaxis": {
            "backgroundcolor": "#E5ECF6",
            "gridcolor": "white",
            "gridwidth": 2,
            "linecolor": "white",
            "showbackground": true,
            "ticks": "",
            "zerolinecolor": "white"
           },
           "yaxis": {
            "backgroundcolor": "#E5ECF6",
            "gridcolor": "white",
            "gridwidth": 2,
            "linecolor": "white",
            "showbackground": true,
            "ticks": "",
            "zerolinecolor": "white"
           },
           "zaxis": {
            "backgroundcolor": "#E5ECF6",
            "gridcolor": "white",
            "gridwidth": 2,
            "linecolor": "white",
            "showbackground": true,
            "ticks": "",
            "zerolinecolor": "white"
           }
          },
          "shapedefaults": {
           "line": {
            "color": "#2a3f5f"
           }
          },
          "ternary": {
           "aaxis": {
            "gridcolor": "white",
            "linecolor": "white",
            "ticks": ""
           },
           "baxis": {
            "gridcolor": "white",
            "linecolor": "white",
            "ticks": ""
           },
           "bgcolor": "#E5ECF6",
           "caxis": {
            "gridcolor": "white",
            "linecolor": "white",
            "ticks": ""
           }
          },
          "title": {
           "x": 0.05
          },
          "xaxis": {
           "automargin": true,
           "gridcolor": "white",
           "linecolor": "white",
           "ticks": "",
           "title": {
            "standoff": 15
           },
           "zerolinecolor": "white",
           "zerolinewidth": 2
          },
          "yaxis": {
           "automargin": true,
           "gridcolor": "white",
           "linecolor": "white",
           "ticks": "",
           "title": {
            "standoff": 15
           },
           "zerolinecolor": "white",
           "zerolinewidth": 2
          }
         }
        },
        "title": {
         "font": {
          "size": 16
         },
         "text": "No. of Collaborations"
        },
        "xaxis": {
         "showgrid": false,
         "showticklabels": false,
         "zeroline": false
        },
        "yaxis": {
         "showgrid": false,
         "showticklabels": false,
         "zeroline": false
        }
       }
      },
      "text/html": [
       "<div>                            <div id=\"d6f1683d-4418-44d0-b7f6-c0b9a04e35b5\" class=\"plotly-graph-div\" style=\"height:525px; width:100%;\"></div>            <script type=\"text/javascript\">                require([\"plotly\"], function(Plotly) {                    window.PLOTLYENV=window.PLOTLYENV || {};                                    if (document.getElementById(\"d6f1683d-4418-44d0-b7f6-c0b9a04e35b5\")) {                    Plotly.newPlot(                        \"d6f1683d-4418-44d0-b7f6-c0b9a04e35b5\",                        [{\"hoverinfo\": \"none\", \"line\": {\"width\": 2}, \"mode\": \"lines\", \"opacity\": 0.5, \"type\": \"scatter\", \"x\": [1.0, -0.8502170699005982, null, 1.0, -0.6026346984546599, null, 1.0, -0.2736628715195022, null, 0.9324722302469113, -0.8502170699005982, null, 0.9324722302469113, -0.9829730622536694, null, 0.9324722302469113, -0.6026346984546599, null, 0.9324722302469113, -0.2736628715195022, null, 0.9324722302469113, 0.44573838538938926, null, 0.9324722302469113, 0.9324722302469113, null, 0.4457383555870674, 0.9324722302469113, null, 0.09226838680081847, 0.7390089083075637, null, 0.09226838680081847, -0.273662901321824, null, 0.09226838680081847, -0.8502170699005982, null, 0.09226838680081847, -0.9829730622536694, null, 0.09226838680081847, -0.8502171295052419, null, 0.09226838680081847, -0.2736628715195022, null, 0.09226838680081847, 0.09226820798688744, null, 0.09226838680081847, 0.7390087294936326, null, -0.273662901321824, -0.8502170699005982, null, -0.273662901321824, -0.9829730622536694, null, -0.273662901321824, -0.8502171295052419, null, -0.273662901321824, -0.6026346984546599, null, -0.273662901321824, -0.2736628715195022, null, -0.273662901321824, 0.09226820798688744, null, -0.6026346388500162, 0.09226838680081847, null, -0.8502170699005982, 1.0, null, -0.8502170699005982, 0.9324722302469113, null, -0.8502170699005982, 0.7390089083075637, null, -0.8502170699005982, 0.09226838680081847, null, -0.8502170699005982, -0.273662901321824, null, -0.8502170699005982, -0.6026346388500162, null, -0.8502170699005982, -0.9829730622536694, null, -0.8502170699005982, -0.9829730622536694, null, -0.8502170699005982, -0.6026346984546599, null, -0.8502170699005982, -0.2736628715195022, null, -0.8502170699005982, 0.09226820798688744, null, -0.8502170699005982, 0.44573838538938926, null, -0.8502170699005982, 0.7390087294936326, null, -0.9829730622536694, -0.273662901321824, null, -0.9829730622536694, -0.8502170699005982, null, -0.9829730622536694, -0.9829730622536694, null, -0.9829730622536694, -0.2736628715195022, null, -0.9829730622536694, 0.09226820798688744, null, -0.9829730622536694, 0.44573838538938926, null, -0.9829730622536694, 0.7390087294936326, null, -0.9829730622536694, 1.0, null, -0.8502171295052419, -0.273662901321824, null, -0.8502171295052419, -0.8502170699005982, null, -0.8502171295052419, -0.2736628715195022, null, -0.6026346984546599, 1.0, null, -0.6026346984546599, -0.273662901321824, null, -0.6026346984546599, -0.8502170699005982, null, -0.6026346984546599, -0.9829730622536694, null, -0.6026346984546599, -0.2736628715195022, null, -0.6026346984546599, 0.09226820798688744, null, -0.6026346984546599, 0.44573838538938926, null, -0.6026346984546599, 0.7390087294936326, null, -0.2736628715195022, 1.0, null, -0.2736628715195022, 0.9324722302469113, null, -0.2736628715195022, 0.09226838680081847, null, -0.2736628715195022, -0.273662901321824, null, -0.2736628715195022, -0.8502170699005982, null, -0.2736628715195022, -0.9829730622536694, null, -0.2736628715195022, -0.8502171295052419, null, -0.2736628715195022, -0.6026346984546599, null, -0.2736628715195022, 0.09226820798688744, null, -0.2736628715195022, 0.44573838538938926, null, -0.2736628715195022, 0.7390087294936326, null, -0.2736628715195022, 0.9324722302469113, null, 0.09226820798688744, -0.273662901321824, null, 0.09226820798688744, -0.8502170699005982, null, 0.09226820798688744, -0.9829730622536694, null, 0.09226820798688744, -0.6026346984546599, null, 0.09226820798688744, -0.2736628715195022, null, 0.09226820798688744, 0.7390087294936326, null, 0.7390087294936326, -0.273662901321824, null, 0.7390087294936326, -0.8502170699005982, null, 0.7390087294936326, -0.9829730622536694, null, 0.7390087294936326, -0.2736628715195022, null, 0.7390087294936326, 0.09226820798688744, null, 0.9324722302469113, 0.9324722302469113, null, 0.9324722302469113, -0.2736628715195022, null], \"y\": [5.259233265726095e-09, 0.5264321521318351, null, 5.259233265726095e-09, -0.7980171242545987, null, 5.259233265726095e-09, -0.9618256458479354, null, 0.3612416670724969, 0.5264321521318351, null, 0.3612416670724969, 0.18374952861601807, null, 0.3612416670724969, -0.7980171242545987, null, 0.3612416670724969, -0.9618256458479354, null, 0.3612416670724969, -0.8951632759164109, null, 0.3612416670724969, -0.3612416863563521, null, 0.8951632864348774, -0.3612416863563521, null, 0.9957341421085096, 0.6736956167329691, null, 0.9957341421085096, 0.9618256563664019, null, 0.9957341421085096, 0.5264321521318351, null, 0.9957341421085096, 0.18374952861601807, null, 0.9957341421085096, -0.5264320820087249, null, 0.9957341421085096, -0.9618256458479354, null, 0.9957341421085096, -0.9957341911946868, null, 0.9957341421085096, -0.6736957850284335, null, 0.9618256563664019, 0.5264321521318351, null, 0.9618256563664019, 0.18374952861601807, null, 0.9618256563664019, -0.5264320820087249, null, 0.9618256563664019, -0.7980171242545987, null, 0.9618256563664019, -0.9618256458479354, null, 0.9618256563664019, -0.9957341911946868, null, 0.7980171943777089, 0.9957341421085096, null, 0.5264321521318351, 5.259233265726095e-09, null, 0.5264321521318351, 0.3612416670724969, null, 0.5264321521318351, 0.6736956167329691, null, 0.5264321521318351, 0.9957341421085096, null, 0.5264321521318351, 0.9618256563664019, null, 0.5264321521318351, 0.7980171943777089, null, 0.5264321521318351, 0.18374952861601807, null, 0.5264321521318351, -0.18374945849290786, null, 0.5264321521318351, -0.7980171242545987, null, 0.5264321521318351, -0.9618256458479354, null, 0.5264321521318351, -0.9957341911946868, null, 0.5264321521318351, -0.8951632759164109, null, 0.5264321521318351, -0.6736957850284335, null, 0.18374952861601807, 0.9618256563664019, null, 0.18374952861601807, 0.5264321521318351, null, 0.18374952861601807, -0.18374945849290786, null, 0.18374952861601807, -0.9618256458479354, null, 0.18374952861601807, -0.9957341911946868, null, 0.18374952861601807, -0.8951632759164109, null, 0.18374952861601807, -0.6736957850284335, null, -0.18374945849290786, 5.259233265726095e-09, null, -0.5264320820087249, 0.9618256563664019, null, -0.5264320820087249, 0.5264321521318351, null, -0.5264320820087249, -0.9618256458479354, null, -0.7980171242545987, 5.259233265726095e-09, null, -0.7980171242545987, 0.9618256563664019, null, -0.7980171242545987, 0.5264321521318351, null, -0.7980171242545987, 0.18374952861601807, null, -0.7980171242545987, -0.9618256458479354, null, -0.7980171242545987, -0.9957341911946868, null, -0.7980171242545987, -0.8951632759164109, null, -0.7980171242545987, -0.6736957850284335, null, -0.9618256458479354, 5.259233265726095e-09, null, -0.9618256458479354, 0.3612416670724969, null, -0.9618256458479354, 0.9957341421085096, null, -0.9618256458479354, 0.9618256563664019, null, -0.9618256458479354, 0.5264321521318351, null, -0.9618256458479354, 0.18374952861601807, null, -0.9618256458479354, -0.5264320820087249, null, -0.9618256458479354, -0.7980171242545987, null, -0.9618256458479354, -0.9957341911946868, null, -0.9618256458479354, -0.8951632759164109, null, -0.9618256458479354, -0.6736957850284335, null, -0.9618256458479354, -0.3612416863563521, null, -0.9957341911946868, 0.9618256563664019, null, -0.9957341911946868, 0.5264321521318351, null, -0.9957341911946868, 0.18374952861601807, null, -0.9957341911946868, -0.7980171242545987, null, -0.9957341911946868, -0.9618256458479354, null, -0.9957341911946868, -0.6736957850284335, null, -0.6736957850284335, 0.9618256563664019, null, -0.6736957850284335, 0.5264321521318351, null, -0.6736957850284335, 0.18374952861601807, null, -0.6736957850284335, -0.9618256458479354, null, -0.6736957850284335, -0.9957341911946868, null, -0.3612416863563521, 0.3612416670724969, null, -0.3612416863563521, -0.9618256458479354, null]}, {\"hoverinfo\": \"text\", \"hovertext\": [\"16 artists\", \"39 artists\", \"3 artists\", \"1 artists\", \"126 artists\", \"187 artists\", \"5 artists\", \"3688 artists\", \"386 artists\", \"7 artists\", \"31 artists\", \"293 artists\", \"1785 artists\", \"86 artists\", \"17 artists\", \"71 artists\", \"35 artists\"], \"marker\": {\"color\": \"#76984e\", \"line\": {\"width\": 0}, \"opacity\": 1, \"showscale\": false, \"size\": [12.599210498948732, 16.95605721507083, 7.211247851537042, 5.0, 25.066489674822922, 28.59239532435658, 8.549879733383484, 77.25032379779304, 36.405397098526684, 9.564655913861944, 15.706903261956963, 33.20926097672104, 60.65259840973538, 22.070024812210516, 12.856407953291175, 20.704088747114263, 16.35533155094295]}, \"mode\": \"markers+text\", \"text\": [\"<b>blues & rhythm</b>\", \"<b>broadway</b>\", \"<b>christian & gospel</b>\", \"<b>classical</b>\", \"<b>country</b>\", \"<b>electronic, house & dance</b>\", \"<b>folk</b>\", \"<b>hip hop & rap</b>\", \"<b>indie & alternative</b>\", \"<b>jazz</b>\", \"<b>k-pop</b>\", \"<b>latin</b>\", \"<b>pop</b>\", \"<b>r&b & soul</b>\", \"<b>reggae</b>\", \"<b>rock & metal</b>\", \"<b>soundtrack</b>\"], \"textfont\": {\"color\": \"white\"}, \"type\": \"scatter\", \"x\": [1.0, 0.9324722302469113, 0.7390089083075637, 0.4457383555870674, 0.09226838680081847, -0.273662901321824, -0.6026346388500162, -0.8502170699005982, -0.9829730622536694, -0.9829730622536694, -0.8502171295052419, -0.6026346984546599, -0.2736628715195022, 0.09226820798688744, 0.44573838538938926, 0.7390087294936326, 0.9324722302469113], \"y\": [5.259233265726095e-09, 0.3612416670724969, 0.6736956167329691, 0.8951632864348774, 0.9957341421085096, 0.9618256563664019, 0.7980171943777089, 0.5264321521318351, 0.18374952861601807, -0.18374945849290786, -0.5264320820087249, -0.7980171242545987, -0.9618256458479354, -0.9957341911946868, -0.8951632759164109, -0.6736957850284335, -0.3612416863563521]}, {\"hoverinfo\": \"none\", \"marker\": {\"cmax\": 350, \"cmin\": 0, \"colorbar\": {\"outlinewidth\": 0, \"thickness\": 15, \"tickformat\": \"0.2s\", \"tickvals\": [0, 70, 140, 210, 280, 350]}, \"colorscale\": [[0.0, \"#e4ff7a\"], [0.2, \"#faed2d\"], [0.4, \"#ffce0a\"], [0.6, \"#ffb100\"], [0.8, \"#fe9900\"], [1.0, \"#fc7f00\"]], \"showscale\": true}, \"mode\": \"markers\", \"type\": \"scatter\", \"x\": [null], \"y\": [null]}],                        {\"annotations\": [{\"arrowcolor\": \"#e4ff7a\", \"arrowhead\": 2, \"arrowsize\": 2, \"arrowwidth\": 1, \"ax\": 0.0748914650497009, \"axref\": \"x\", \"ay\": 0.2632160786955342, \"ayref\": \"y\", \"opacity\": 1, \"showarrow\": true, \"x\": -0.3876628024254487, \"xref\": \"x\", \"y\": 0.3948241154136847, \"yref\": \"y\"}, {\"arrowcolor\": \"#e4ff7a\", \"arrowhead\": 2, \"arrowsize\": 2, \"arrowwidth\": 1, \"ax\": 0.19868265077267006, \"axref\": \"x\", \"ay\": -0.3990085594976827, \"ayref\": \"y\", \"opacity\": 1, \"showarrow\": true, \"x\": -0.2019760238409949, \"xref\": \"x\", \"y\": -0.5985128418761407, \"yref\": \"y\"}, {\"arrowcolor\": \"#e4ff78\", \"arrowhead\": 2, \"arrowsize\": 2, \"arrowwidth\": 1, \"ax\": 0.3631685642402489, \"axref\": \"x\", \"ay\": -0.48091282029435106, \"ayref\": \"y\", \"opacity\": 1, \"showarrow\": true, \"x\": 0.044752846360373355, \"xref\": \"x\", \"y\": -0.7213692330711433, \"yref\": \"y\"}, {\"arrowcolor\": \"#e5fe77\", \"arrowhead\": 2, \"arrowsize\": 2, \"arrowwidth\": 1, \"ax\": 0.04112758017315654, \"axref\": \"x\", \"ay\": 0.44383690960216604, \"ayref\": \"y\", \"opacity\": 1, \"showarrow\": true, \"x\": -0.4045447448637209, \"xref\": \"x\", \"y\": 0.4851345308670006, \"yref\": \"y\"}, {\"arrowcolor\": \"#e5fe77\", \"arrowhead\": 2, \"arrowsize\": 2, \"arrowwidth\": 1, \"ax\": -0.025250416003379073, \"axref\": \"x\", \"ay\": 0.2724955978442575, \"ayref\": \"y\", \"opacity\": 1, \"showarrow\": true, \"x\": -0.5041117391285244, \"xref\": \"x\", \"y\": 0.2281225632301378, \"yref\": \"y\"}, {\"arrowcolor\": \"#e7fd71\", \"arrowhead\": 2, \"arrowsize\": 2, \"arrowwidth\": 1, \"ax\": 0.1649187658961257, \"axref\": \"x\", \"ay\": -0.2183877285910509, \"ayref\": \"y\", \"opacity\": 1, \"showarrow\": true, \"x\": -0.21885796627926707, \"xref\": \"x\", \"y\": -0.5082024264228248, \"yref\": \"y\"}, {\"arrowcolor\": \"#e5fe77\", \"arrowhead\": 2, \"arrowsize\": 2, \"arrowwidth\": 1, \"ax\": 0.32940467936370454, \"axref\": \"x\", \"ay\": -0.3002919893877193, \"ayref\": \"y\", \"opacity\": 1, \"showarrow\": true, \"x\": 0.027870903922101176, \"xref\": \"x\", \"y\": -0.6310588176178273, \"yref\": \"y\"}, {\"arrowcolor\": \"#e4ff7a\", \"arrowhead\": 2, \"arrowsize\": 2, \"arrowwidth\": 1, \"ax\": 0.6891053078181503, \"axref\": \"x\", \"ay\": -0.266960804421957, \"ayref\": \"y\", \"opacity\": 1, \"showarrow\": true, \"x\": 0.5674218466037697, \"xref\": \"x\", \"y\": -0.581062040169184, \"yref\": \"y\"}, {\"arrowcolor\": \"#e7fc6f\", \"arrowhead\": 2, \"arrowsize\": 2, \"arrowwidth\": 1, \"ax\": 0.9324722302469113, \"axref\": \"x\", \"ay\": -9.641927617431989e-09, \"ayref\": \"y\", \"opacity\": 1, \"showarrow\": true, \"x\": 0.9324722302469113, \"xref\": \"x\", \"y\": -0.18062084799913986, \"yref\": \"y\"}, {\"arrowcolor\": \"#e4ff7a\", \"arrowhead\": 2, \"arrowsize\": 2, \"arrowwidth\": 1, \"ax\": 0.6891052929169894, \"axref\": \"x\", \"ay\": 0.26696080003926265, \"ayref\": \"y\", \"opacity\": 1, \"showarrow\": true, \"x\": 0.8107887615819503, \"xref\": \"x\", \"y\": -0.04714044315854474, \"yref\": \"y\"}, {\"arrowcolor\": \"#e4ff7a\", \"arrowhead\": 2, \"arrowsize\": 2, \"arrowwidth\": 1, \"ax\": 0.4156386475541911, \"axref\": \"x\", \"ay\": 0.8347148794207393, \"ayref\": \"y\", \"opacity\": 1, \"showarrow\": true, \"x\": 0.5773237779308774, \"xref\": \"x\", \"y\": 0.7542052480768542, \"yref\": \"y\"}, {\"arrowcolor\": \"#e4ff7a\", \"arrowhead\": 2, \"arrowsize\": 2, \"arrowwidth\": 1, \"ax\": -0.09069725726050278, \"axref\": \"x\", \"ay\": 0.9787798992374558, \"ayref\": \"y\", \"opacity\": 1, \"showarrow\": true, \"x\": -0.1821800792911634, \"xref\": \"x\", \"y\": 0.9703027778019289, \"yref\": \"y\"}, {\"arrowcolor\": \"#e6fd72\", \"arrowhead\": 2, \"arrowsize\": 2, \"arrowwidth\": 1, \"ax\": -0.37897434154988985, \"axref\": \"x\", \"ay\": 0.7610831471201724, \"ayref\": \"y\", \"opacity\": 1, \"showarrow\": true, \"x\": -0.6145957057252441, \"xref\": \"x\", \"y\": 0.6437576496260038, \"yref\": \"y\"}, {\"arrowcolor\": \"#e5fe77\", \"arrowhead\": 2, \"arrowsize\": 2, \"arrowwidth\": 1, \"ax\": -0.44535233772642546, \"axref\": \"x\", \"ay\": 0.5897418353622639, \"ayref\": \"y\", \"opacity\": 1, \"showarrow\": true, \"x\": -0.7141626999900476, \"xref\": \"x\", \"y\": 0.38674568198914094, \"yref\": \"y\"}, {\"arrowcolor\": \"#e4ff7a\", \"arrowhead\": 2, \"arrowsize\": 2, \"arrowwidth\": 1, \"ax\": -0.3789743713522117, \"axref\": \"x\", \"ay\": 0.23465103004989235, \"ayref\": \"y\", \"opacity\": 1, \"showarrow\": true, \"x\": -0.6145957504287268, \"xref\": \"x\", \"y\": -0.1458905259794163, \"yref\": \"y\"}, {\"arrowcolor\": \"#e9fb69\", \"arrowhead\": 2, \"arrowsize\": 2, \"arrowwidth\": 1, \"ax\": -0.09069724235934186, \"axref\": \"x\", \"ay\": 0.01695424813028712, \"ayref\": \"y\", \"opacity\": 1, \"showarrow\": true, \"x\": -0.18218005693942202, \"xref\": \"x\", \"y\": -0.4724356988588242, \"yref\": \"y\"}, {\"arrowcolor\": \"#e4ff7a\", \"arrowhead\": 2, \"arrowsize\": 2, \"arrowwidth\": 1, \"ax\": 0.09226829739385295, \"axref\": \"x\", \"ay\": -2.4543088561479465e-08, \"ayref\": \"y\", \"opacity\": 1, \"showarrow\": true, \"x\": 0.0922682526903702, \"xref\": \"x\", \"y\": -0.49786710786888766, \"yref\": \"y\"}, {\"arrowcolor\": \"#e4ff7a\", \"arrowhead\": 2, \"arrowsize\": 2, \"arrowwidth\": 1, \"ax\": 0.41563855814722556, \"axref\": \"x\", \"ay\": 0.16101917854003805, \"ayref\": \"y\", \"opacity\": 1, \"showarrow\": true, \"x\": 0.577323643820429, \"xref\": \"x\", \"y\": -0.2563383032441977, \"yref\": \"y\"}, {\"arrowcolor\": \"#ebf960\", \"arrowhead\": 2, \"arrowsize\": 2, \"arrowwidth\": 1, \"ax\": -0.5619399856112111, \"axref\": \"x\", \"ay\": 0.7441289042491186, \"ayref\": \"y\", \"opacity\": 1, \"showarrow\": true, \"x\": -0.7060785277559047, \"xref\": \"x\", \"y\": 0.6352805281904769, \"yref\": \"y\"}, {\"arrowcolor\": \"#e7fc6f\", \"arrowhead\": 2, \"arrowsize\": 2, \"arrowwidth\": 1, \"ax\": -0.6283179817877467, \"axref\": \"x\", \"ay\": 0.57278759249121, \"ayref\": \"y\", \"opacity\": 1, \"showarrow\": true, \"x\": -0.8056455220207082, \"xref\": \"x\", \"y\": 0.378268560553614, \"yref\": \"y\"}, {\"arrowcolor\": \"#e4ff78\", \"arrowhead\": 2, \"arrowsize\": 2, \"arrowwidth\": 1, \"ax\": -0.561940015413533, \"axref\": \"x\", \"ay\": 0.2176967871788385, \"ayref\": \"y\", \"opacity\": 1, \"showarrow\": true, \"x\": -0.7060785724593874, \"xref\": \"x\", \"y\": -0.15436764741494322, \"yref\": \"y\"}, {\"arrowcolor\": \"#e4ff7a\", \"arrowhead\": 2, \"arrowsize\": 2, \"arrowwidth\": 1, \"ax\": -0.43814879988824196, \"axref\": \"x\", \"ay\": 0.08190426605590162, \"ayref\": \"y\", \"opacity\": 1, \"showarrow\": true, \"x\": -0.5203917491714509, \"xref\": \"x\", \"y\": -0.35805642909934854, \"yref\": \"y\"}, {\"arrowcolor\": \"#f5f13f\", \"arrowhead\": 2, \"arrowsize\": 2, \"arrowwidth\": 1, \"ax\": -0.2736628864206631, \"axref\": \"x\", \"ay\": 5.2592332711043355e-09, \"ayref\": \"y\", \"opacity\": 1, \"showarrow\": true, \"x\": -0.2736628789700827, \"xref\": \"x\", \"y\": -0.4809128202943511, \"yref\": \"y\"}, {\"arrowcolor\": \"#e4ff78\", \"arrowhead\": 2, \"arrowsize\": 2, \"arrowwidth\": 1, \"ax\": -0.09069734666746829, \"axref\": \"x\", \"ay\": -0.01695426741414241, \"ayref\": \"y\", \"opacity\": 1, \"showarrow\": true, \"x\": 0.0007854306597095684, \"xref\": \"x\", \"y\": -0.5063442293044146, \"yref\": \"y\"}, {\"arrowcolor\": \"#e4ff7a\", \"arrowhead\": 2, \"arrowsize\": 2, \"arrowwidth\": 1, \"ax\": -0.25518312602459886, \"axref\": \"x\", \"ay\": 0.8968756682431093, \"ayref\": \"y\", \"opacity\": 1, \"showarrow\": true, \"x\": -0.0814573696118902, \"xref\": \"x\", \"y\": 0.9463049051758095, \"yref\": \"y\"}, {\"arrowcolor\": \"#e5fe75\", \"arrowhead\": 2, \"arrowsize\": 2, \"arrowwidth\": 1, \"ax\": 0.0748914650497009, \"axref\": \"x\", \"ay\": 0.2632160786955342, \"ayref\": \"y\", \"opacity\": 1, \"showarrow\": true, \"x\": 0.5374457325248505, \"xref\": \"x\", \"y\": 0.13160804197738374, \"yref\": \"y\"}, {\"arrowcolor\": \"#e4ff7a\", \"arrowhead\": 2, \"arrowsize\": 2, \"arrowwidth\": 1, \"ax\": 0.04112758017315654, \"axref\": \"x\", \"ay\": 0.44383690960216604, \"ayref\": \"y\", \"opacity\": 1, \"showarrow\": true, \"x\": 0.48679990521003397, \"xref\": \"x\", \"y\": 0.40253928833733144, \"yref\": \"y\"}, {\"arrowcolor\": \"#e4ff78\", \"arrowhead\": 2, \"arrowsize\": 2, \"arrowwidth\": 1, \"ax\": -0.05560408079651724, \"axref\": \"x\", \"ay\": 0.6000638844324021, \"ayref\": \"y\", \"opacity\": 1, \"showarrow\": true, \"x\": 0.3417024137555233, \"xref\": \"x\", \"y\": 0.6368797505826855, \"yref\": \"y\"}, {\"arrowcolor\": \"#e4ff7a\", \"arrowhead\": 2, \"arrowsize\": 2, \"arrowwidth\": 1, \"ax\": -0.37897434154988985, \"axref\": \"x\", \"ay\": 0.7610831471201724, \"ayref\": \"y\", \"opacity\": 1, \"showarrow\": true, \"x\": -0.1433529773745357, \"xref\": \"x\", \"y\": 0.8784086446143411, \"yref\": \"y\"}, {\"arrowcolor\": \"#e9fb68\", \"arrowhead\": 2, \"arrowsize\": 2, \"arrowwidth\": 1, \"ax\": -0.5619399856112111, \"axref\": \"x\", \"ay\": 0.7441289042491186, \"ayref\": \"y\", \"opacity\": 1, \"showarrow\": true, \"x\": -0.4178014434665176, \"xref\": \"x\", \"y\": 0.8529772803077602, \"yref\": \"y\"}, {\"arrowcolor\": \"#e5fe77\", \"arrowhead\": 2, \"arrowsize\": 2, \"arrowwidth\": 1, \"ax\": -0.7264258543753073, \"axref\": \"x\", \"ay\": 0.6622246732547721, \"ayref\": \"y\", \"opacity\": 1, \"showarrow\": true, \"x\": -0.6645302466126617, \"xref\": \"x\", \"y\": 0.7301209338162404, \"yref\": \"y\"}, {\"arrowcolor\": \"#ffca08\", \"arrowhead\": 2, \"arrowsize\": 2, \"arrowwidth\": 1, \"ax\": -0.9165950660771338, \"axref\": \"x\", \"ay\": 0.3550908403739266, \"ayref\": \"y\", \"opacity\": 1, \"showarrow\": true, \"x\": -0.9497840641654016, \"xref\": \"x\", \"y\": 0.26942018449497235, \"yref\": \"y\"}, {\"arrowcolor\": \"#e4ff7a\", \"arrowhead\": 2, \"arrowsize\": 2, \"arrowwidth\": 1, \"ax\": -0.9165950660771338, \"axref\": \"x\", \"ay\": 0.17134134681946364, \"ayref\": \"y\", \"opacity\": 1, \"showarrow\": true, \"x\": -0.9497840641654016, \"xref\": \"x\", \"y\": -0.006204055836722122, \"yref\": \"y\"}, {\"arrowcolor\": \"#e9fb68\", \"arrowhead\": 2, \"arrowsize\": 2, \"arrowwidth\": 1, \"ax\": -0.726425884177629, \"axref\": \"x\", \"ay\": -0.13579248606138178, \"ayref\": \"y\", \"opacity\": 1, \"showarrow\": true, \"x\": -0.6645302913161444, \"xref\": \"x\", \"y\": -0.4669048051579902, \"yref\": \"y\"}, {\"arrowcolor\": \"#fe9200\", \"arrowhead\": 2, \"arrowsize\": 2, \"arrowwidth\": 1, \"ax\": -0.5619399707100502, \"axref\": \"x\", \"ay\": -0.21769674685805013, \"ayref\": \"y\", \"opacity\": 1, \"showarrow\": true, \"x\": -0.4178014211147762, \"xref\": \"x\", \"y\": -0.5897611963529927, \"yref\": \"y\"}, {\"arrowcolor\": \"#ecf95f\", \"arrowhead\": 2, \"arrowsize\": 2, \"arrowwidth\": 1, \"ax\": -0.3789744309568554, \"axref\": \"x\", \"ay\": -0.2346510195314258, \"ayref\": \"y\", \"opacity\": 1, \"showarrow\": true, \"x\": -0.14335311148498397, \"xref\": \"x\", \"y\": -0.6151926053630563, \"yref\": \"y\"}, {\"arrowcolor\": \"#e5fe77\", \"arrowhead\": 2, \"arrowsize\": 2, \"arrowwidth\": 1, \"ax\": -0.20223934225560447, \"axref\": \"x\", \"ay\": -0.18436556189228787, \"ayref\": \"y\", \"opacity\": 1, \"showarrow\": true, \"x\": 0.1217495215668924, \"xref\": \"x\", \"y\": -0.5397644189043493, \"yref\": \"y\"}, {\"arrowcolor\": \"#e9fb68\", \"arrowhead\": 2, \"arrowsize\": 2, \"arrowwidth\": 1, \"ax\": -0.055604170203482794, \"axref\": \"x\", \"ay\": -0.07363181644829919, \"ayref\": \"y\", \"opacity\": 1, \"showarrow\": true, \"x\": 0.3417022796450749, \"xref\": \"x\", \"y\": -0.3736638007383663, \"yref\": \"y\"}, {\"arrowcolor\": \"#e7fd71\", \"arrowhead\": 2, \"arrowsize\": 2, \"arrowwidth\": 1, \"ax\": -0.6283179817877467, \"axref\": \"x\", \"ay\": 0.57278759249121, \"ayref\": \"y\", \"opacity\": 1, \"showarrow\": true, \"x\": -0.4509904415547854, \"xref\": \"x\", \"y\": 0.767306624428806, \"yref\": \"y\"}, {\"arrowcolor\": \"#ffd911\", \"arrowhead\": 2, \"arrowsize\": 2, \"arrowwidth\": 1, \"ax\": -0.9165950660771338, \"axref\": \"x\", \"ay\": 0.3550908403739266, \"ayref\": \"y\", \"opacity\": 1, \"showarrow\": true, \"x\": -0.883406067988866, \"xref\": \"x\", \"y\": 0.44076149625288086, \"yref\": \"y\"}, {\"arrowcolor\": \"#e4ff78\", \"arrowhead\": 2, \"arrowsize\": 2, \"arrowwidth\": 1, \"ax\": -0.9829730622536694, \"axref\": \"x\", \"ay\": 3.5061555103688136e-08, \"ayref\": \"y\", \"opacity\": 1, \"showarrow\": true, \"x\": -0.9829730622536694, \"xref\": \"x\", \"y\": -0.09187471171567639, \"yref\": \"y\"}, {\"arrowcolor\": \"#ebf962\", \"arrowhead\": 2, \"arrowsize\": 2, \"arrowwidth\": 1, \"ax\": -0.6283179668865858, \"axref\": \"x\", \"ay\": -0.38903805861595864, \"ayref\": \"y\", \"opacity\": 1, \"showarrow\": true, \"x\": -0.450990419203044, \"xref\": \"x\", \"y\": -0.675431852231947, \"yref\": \"y\"}, {\"arrowcolor\": \"#e5fe77\", \"arrowhead\": 2, \"arrowsize\": 2, \"arrowwidth\": 1, \"ax\": -0.445352427133391, \"axref\": \"x\", \"ay\": -0.4059923312893343, \"ayref\": \"y\", \"opacity\": 1, \"showarrow\": true, \"x\": -0.17654210957325178, \"xref\": \"x\", \"y\": -0.7008632612420105, \"yref\": \"y\"}, {\"arrowcolor\": \"#e4ff7a\", \"arrowhead\": 2, \"arrowsize\": 2, \"arrowwidth\": 1, \"ax\": -0.2686173384321401, \"axref\": \"x\", \"ay\": -0.3557068736501964, \"ayref\": \"y\", \"opacity\": 1, \"showarrow\": true, \"x\": 0.08856052347862459, \"xref\": \"x\", \"y\": -0.6254350747833036, \"yref\": \"y\"}, {\"arrowcolor\": \"#e4ff78\", \"arrowhead\": 2, \"arrowsize\": 2, \"arrowwidth\": 1, \"ax\": -0.12198216638001841, \"axref\": \"x\", \"ay\": -0.24497312820620773, \"ayref\": \"y\", \"opacity\": 1, \"showarrow\": true, \"x\": 0.3085132815568071, \"xref\": \"x\", \"y\": -0.4593344566173206, \"yref\": \"y\"}, {\"arrowcolor\": \"#e4ff7a\", \"arrowhead\": 2, \"arrowsize\": 2, \"arrowwidth\": 1, \"ax\": 0.008513468873165286, \"axref\": \"x\", \"ay\": -0.0918747266168373, \"ayref\": \"y\", \"opacity\": 1, \"showarrow\": true, \"x\": 0.5042567344365827, \"xref\": \"x\", \"y\": -0.04593736067880202, \"yref\": \"y\"}, {\"arrowcolor\": \"#e5fe77\", \"arrowhead\": 2, \"arrowsize\": 2, \"arrowwidth\": 1, \"ax\": -0.561940015413533, \"axref\": \"x\", \"ay\": 0.2176967871788385, \"ayref\": \"y\", \"opacity\": 1, \"showarrow\": true, \"x\": -0.41780145836767846, \"xref\": \"x\", \"y\": 0.5897612217726202, \"yref\": \"y\"}, {\"arrowcolor\": \"#e5fe77\", \"arrowhead\": 2, \"arrowsize\": 2, \"arrowwidth\": 1, \"ax\": -0.85021709970292, \"axref\": \"x\", \"ay\": 3.5061555103688136e-08, \"ayref\": \"y\", \"opacity\": 1, \"showarrow\": true, \"x\": -0.8502170848017592, \"xref\": \"x\", \"y\": 0.2632160935966951, \"yref\": \"y\"}, {\"arrowcolor\": \"#e8fb6b\", \"arrowhead\": 2, \"arrowsize\": 2, \"arrowwidth\": 1, \"ax\": -0.561940000512372, \"axref\": \"x\", \"ay\": -0.7441288639283301, \"ayref\": \"y\", \"opacity\": 1, \"showarrow\": true, \"x\": -0.4178014360159371, \"xref\": \"x\", \"y\": -0.8529772548881328, \"yref\": \"y\"}, {\"arrowcolor\": \"#e4ff78\", \"arrowhead\": 2, \"arrowsize\": 2, \"arrowwidth\": 1, \"ax\": 0.19868265077267006, \"axref\": \"x\", \"ay\": -0.3990085594976827, \"ayref\": \"y\", \"opacity\": 1, \"showarrow\": true, \"x\": 0.599341325386335, \"xref\": \"x\", \"y\": -0.19950427711922472, \"yref\": \"y\"}, {\"arrowcolor\": \"#e4ff7a\", \"arrowhead\": 2, \"arrowsize\": 2, \"arrowwidth\": 1, \"ax\": -0.43814879988824196, \"axref\": \"x\", \"ay\": 0.08190426605590162, \"ayref\": \"y\", \"opacity\": 1, \"showarrow\": true, \"x\": -0.355905850605033, \"xref\": \"x\", \"y\": 0.5218649612111518, \"yref\": \"y\"}, {\"arrowcolor\": \"#e7fc6f\", \"arrowhead\": 2, \"arrowsize\": 2, \"arrowwidth\": 1, \"ax\": -0.726425884177629, \"axref\": \"x\", \"ay\": -0.13579248606138178, \"ayref\": \"y\", \"opacity\": 1, \"showarrow\": true, \"x\": -0.7883214770391137, \"xref\": \"x\", \"y\": 0.19531983303522668, \"yref\": \"y\"}, {\"arrowcolor\": \"#e4ff78\", \"arrowhead\": 2, \"arrowsize\": 2, \"arrowwidth\": 1, \"ax\": -0.7928038803541646, \"axref\": \"x\", \"ay\": -0.3071337978192903, \"ayref\": \"y\", \"opacity\": 1, \"showarrow\": true, \"x\": -0.8878884713039171, \"xref\": \"x\", \"y\": -0.06169213460163611, \"yref\": \"y\"}, {\"arrowcolor\": \"#eafa66\", \"arrowhead\": 2, \"arrowsize\": 2, \"arrowwidth\": 1, \"ax\": -0.43814878498708104, \"axref\": \"x\", \"ay\": -0.879921385051267, \"ayref\": \"y\", \"opacity\": 1, \"showarrow\": true, \"x\": -0.35590582825329165, \"xref\": \"x\", \"y\": -0.9208735154496013, \"yref\": \"y\"}, {\"arrowcolor\": \"#e4ff78\", \"arrowhead\": 2, \"arrowsize\": 2, \"arrowwidth\": 1, \"ax\": -0.25518324523388625, \"axref\": \"x\", \"ay\": -0.8968756577246427, \"ayref\": \"y\", \"opacity\": 1, \"showarrow\": true, \"x\": -0.0814575186234994, \"xref\": \"x\", \"y\": -0.9463049244596647, \"yref\": \"y\"}, {\"arrowcolor\": \"#e4ff7a\", \"arrowhead\": 2, \"arrowsize\": 2, \"arrowwidth\": 1, \"ax\": -0.07844815653263532, \"axref\": \"x\", \"ay\": -0.8465902000855048, \"ayref\": \"y\", \"opacity\": 1, \"showarrow\": true, \"x\": 0.18364511442837697, \"xref\": \"x\", \"y\": -0.8708767380009579, \"yref\": \"y\"}, {\"arrowcolor\": \"#e4ff7a\", \"arrowhead\": 2, \"arrowsize\": 2, \"arrowwidth\": 1, \"ax\": 0.06818701551948636, \"axref\": \"x\", \"ay\": -0.7358564546415161, \"ayref\": \"y\", \"opacity\": 1, \"showarrow\": true, \"x\": 0.40359787250655943, \"xref\": \"x\", \"y\": -0.7047761198349748, \"yref\": \"y\"}, {\"arrowcolor\": \"#e5fe75\", \"arrowhead\": 2, \"arrowsize\": 2, \"arrowwidth\": 1, \"ax\": 0.3631685642402489, \"axref\": \"x\", \"ay\": -0.48091282029435106, \"ayref\": \"y\", \"opacity\": 1, \"showarrow\": true, \"x\": 0.6815842821201245, \"xref\": \"x\", \"y\": -0.2404564075175589, \"yref\": \"y\"}, {\"arrowcolor\": \"#e4ff78\", \"arrowhead\": 2, \"arrowsize\": 2, \"arrowwidth\": 1, \"ax\": 0.32940467936370454, \"axref\": \"x\", \"ay\": -0.3002919893877193, \"ayref\": \"y\", \"opacity\": 1, \"showarrow\": true, \"x\": 0.630938454805308, \"xref\": \"x\", \"y\": 0.0304748388423888, \"yref\": \"y\"}, {\"arrowcolor\": \"#eef757\", \"arrowhead\": 2, \"arrowsize\": 2, \"arrowwidth\": 1, \"ax\": -0.09069724235934186, \"axref\": \"x\", \"ay\": 0.01695424813028712, \"ayref\": \"y\", \"opacity\": 1, \"showarrow\": true, \"x\": 0.0007855722207383009, \"xref\": \"x\", \"y\": 0.5063441951193984, \"yref\": \"y\"}, {\"arrowcolor\": \"#f6ef39\", \"arrowhead\": 2, \"arrowsize\": 2, \"arrowwidth\": 1, \"ax\": -0.2736628864206631, \"axref\": \"x\", \"ay\": 5.2592332711043355e-09, \"ayref\": \"y\", \"opacity\": 1, \"showarrow\": true, \"x\": -0.27366289387124354, \"xref\": \"x\", \"y\": 0.48091283081281766, \"yref\": \"y\"}, {\"arrowcolor\": \"#fc7f00\", \"arrowhead\": 2, \"arrowsize\": 2, \"arrowwidth\": 1, \"ax\": -0.5619399707100502, \"axref\": \"x\", \"ay\": -0.21769674685805013, \"ayref\": \"y\", \"opacity\": 1, \"showarrow\": true, \"x\": -0.7060785203053243, \"xref\": \"x\", \"y\": 0.1543677026368925, \"yref\": \"y\"}, {\"arrowcolor\": \"#fbec29\", \"arrowhead\": 2, \"arrowsize\": 2, \"arrowwidth\": 1, \"ax\": -0.6283179668865858, \"axref\": \"x\", \"ay\": -0.38903805861595864, \"ayref\": \"y\", \"opacity\": 1, \"showarrow\": true, \"x\": -0.8056455145701277, \"xref\": \"x\", \"y\": -0.10264426499997029, \"yref\": \"y\"}, {\"arrowcolor\": \"#e6fd72\", \"arrowhead\": 2, \"arrowsize\": 2, \"arrowwidth\": 1, \"ax\": -0.561940000512372, \"axref\": \"x\", \"ay\": -0.7441288639283301, \"ayref\": \"y\", \"opacity\": 1, \"showarrow\": true, \"x\": -0.706078565008807, \"xref\": \"x\", \"y\": -0.6352804729685275, \"yref\": \"y\"}, {\"arrowcolor\": \"#f0f550\", \"arrowhead\": 2, \"arrowsize\": 2, \"arrowwidth\": 1, \"ax\": -0.43814878498708104, \"axref\": \"x\", \"ay\": -0.879921385051267, \"ayref\": \"y\", \"opacity\": 1, \"showarrow\": true, \"x\": -0.5203917417208704, \"xref\": \"x\", \"y\": -0.8389692546529328, \"yref\": \"y\"}, {\"arrowcolor\": \"#e9fb69\", \"arrowhead\": 2, \"arrowsize\": 2, \"arrowwidth\": 1, \"ax\": -0.09069733176630737, \"axref\": \"x\", \"ay\": -0.9787799185213111, \"ayref\": \"y\", \"opacity\": 1, \"showarrow\": true, \"x\": 0.0007854381102900265, \"xref\": \"x\", \"y\": -0.9872570548579989, \"yref\": \"y\"}, {\"arrowcolor\": \"#e7fc6f\", \"arrowhead\": 2, \"arrowsize\": 2, \"arrowwidth\": 1, \"ax\": 0.08603775693494353, \"axref\": \"x\", \"ay\": -0.9284944608821731, \"ayref\": \"y\", \"opacity\": 1, \"showarrow\": true, \"x\": 0.2658880711621664, \"xref\": \"x\", \"y\": -0.911828868399292, \"yref\": \"y\"}, {\"arrowcolor\": \"#ebf962\", \"arrowhead\": 2, \"arrowsize\": 2, \"arrowwidth\": 1, \"ax\": 0.2326729289870652, \"axref\": \"x\", \"ay\": -0.8177607154381845, \"ayref\": \"y\", \"opacity\": 1, \"showarrow\": true, \"x\": 0.4858408292403489, \"xref\": \"x\", \"y\": -0.7457282502333089, \"yref\": \"y\"}, {\"arrowcolor\": \"#e5fe75\", \"arrowhead\": 2, \"arrowsize\": 2, \"arrowwidth\": 1, \"ax\": 0.32940467936370454, \"axref\": \"x\", \"ay\": -0.6615336661021438, \"ayref\": \"y\", \"opacity\": 1, \"showarrow\": true, \"x\": 0.630938454805308, \"xref\": \"x\", \"y\": -0.511387676229248, \"yref\": \"y\"}, {\"arrowcolor\": \"#e4ff7a\", \"arrowhead\": 2, \"arrowsize\": 2, \"arrowwidth\": 1, \"ax\": -0.09069734666746829, \"axref\": \"x\", \"ay\": -0.01695426741414241, \"ayref\": \"y\", \"opacity\": 1, \"showarrow\": true, \"x\": -0.18218012399464617, \"xref\": \"x\", \"y\": 0.47243569447612976, \"yref\": \"y\"}, {\"arrowcolor\": \"#e7fc6f\", \"arrowhead\": 2, \"arrowsize\": 2, \"arrowwidth\": 1, \"ax\": -0.3789744309568554, \"axref\": \"x\", \"ay\": -0.2346510195314258, \"ayref\": \"y\", \"opacity\": 1, \"showarrow\": true, \"x\": -0.6145957504287268, \"xref\": \"x\", \"y\": 0.14589056630020467, \"yref\": \"y\"}, {\"arrowcolor\": \"#e4ff78\", \"arrowhead\": 2, \"arrowsize\": 2, \"arrowwidth\": 1, \"ax\": -0.445352427133391, \"axref\": \"x\", \"ay\": -0.4059923312893343, \"ayref\": \"y\", \"opacity\": 1, \"showarrow\": true, \"x\": -0.7141627446935302, \"xref\": \"x\", \"y\": -0.11112140133665813, \"yref\": \"y\"}, {\"arrowcolor\": \"#e4ff78\", \"arrowhead\": 2, \"arrowsize\": 2, \"arrowwidth\": 1, \"ax\": -0.25518324523388625, \"axref\": \"x\", \"ay\": -0.8968756577246427, \"ayref\": \"y\", \"opacity\": 1, \"showarrow\": true, \"x\": -0.428908971844273, \"xref\": \"x\", \"y\": -0.8474463909896207, \"yref\": \"y\"}, {\"arrowcolor\": \"#e6fe74\", \"arrowhead\": 2, \"arrowsize\": 2, \"arrowwidth\": 1, \"ax\": -0.09069733176630737, \"axref\": \"x\", \"ay\": -0.9787799185213111, \"ayref\": \"y\", \"opacity\": 1, \"showarrow\": true, \"x\": -0.1821801016429048, \"xref\": \"x\", \"y\": -0.9703027821846233, \"yref\": \"y\"}, {\"arrowcolor\": \"#e4ff7a\", \"arrowhead\": 2, \"arrowsize\": 2, \"arrowwidth\": 1, \"ax\": 0.41563846874026, \"axref\": \"x\", \"ay\": -0.8347149881115601, \"ayref\": \"y\", \"opacity\": 1, \"showarrow\": true, \"x\": 0.5773235991169463, \"xref\": \"x\", \"y\": -0.7542053865699968, \"yref\": \"y\"}, {\"arrowcolor\": \"#e4ff78\", \"arrowhead\": 2, \"arrowsize\": 2, \"arrowwidth\": 1, \"ax\": 0.2326729140859043, \"axref\": \"x\", \"ay\": 0.1440649356689842, \"ayref\": \"y\", \"opacity\": 1, \"showarrow\": true, \"x\": -0.020494993617959867, \"xref\": \"x\", \"y\": 0.552945296017693, \"yref\": \"y\"}, {\"arrowcolor\": \"#e5fe77\", \"arrowhead\": 2, \"arrowsize\": 2, \"arrowwidth\": 1, \"ax\": -0.055604170203482794, \"axref\": \"x\", \"ay\": -0.07363181644829919, \"ayref\": \"y\", \"opacity\": 1, \"showarrow\": true, \"x\": -0.4529106200520405, \"xref\": \"x\", \"y\": 0.22640016784176797, \"yref\": \"y\"}, {\"arrowcolor\": \"#e5fe75\", \"arrowhead\": 2, \"arrowsize\": 2, \"arrowwidth\": 1, \"ax\": -0.12198216638001841, \"axref\": \"x\", \"ay\": -0.24497312820620773, \"ayref\": \"y\", \"opacity\": 1, \"showarrow\": true, \"x\": -0.552477614316844, \"xref\": \"x\", \"y\": -0.03061179979509482, \"yref\": \"y\"}, {\"arrowcolor\": \"#e6fe74\", \"arrowhead\": 2, \"arrowsize\": 2, \"arrowwidth\": 1, \"ax\": 0.2326729289870652, \"axref\": \"x\", \"ay\": -0.8177607154381845, \"ayref\": \"y\", \"opacity\": 1, \"showarrow\": true, \"x\": -0.020494971266218492, \"xref\": \"x\", \"y\": -0.8897931806430599, \"yref\": \"y\"}, {\"arrowcolor\": \"#e4ff7a\", \"arrowhead\": 2, \"arrowsize\": 2, \"arrowwidth\": 1, \"ax\": 0.41563846874026, \"axref\": \"x\", \"ay\": -0.8347149881115601, \"ayref\": \"y\", \"opacity\": 1, \"showarrow\": true, \"x\": 0.2539533383635737, \"xref\": \"x\", \"y\": -0.9152245896531235, \"yref\": \"y\"}, {\"arrowcolor\": \"#e8fc6c\", \"arrowhead\": 2, \"arrowsize\": 2, \"arrowwidth\": 1, \"ax\": 0.9324722302469113, \"axref\": \"x\", \"ay\": -9.641927617431989e-09, \"ayref\": \"y\", \"opacity\": 1, \"showarrow\": true, \"x\": 0.9324722302469113, \"xref\": \"x\", \"y\": 0.18062082871528462, \"yref\": \"y\"}, {\"arrowcolor\": \"#e6fe74\", \"arrowhead\": 2, \"arrowsize\": 2, \"arrowwidth\": 1, \"ax\": 0.32940467936370454, \"axref\": \"x\", \"ay\": -0.6615336661021438, \"ayref\": \"y\", \"opacity\": 1, \"showarrow\": true, \"x\": 0.027870903922101176, \"xref\": \"x\", \"y\": -0.8116796559750397, \"yref\": \"y\"}], \"hovermode\": \"closest\", \"margin\": {\"b\": 20, \"l\": 5, \"r\": 5, \"t\": 40}, \"plot_bgcolor\": \"rgb(0,0,0)\", \"showlegend\": false, \"template\": {\"data\": {\"bar\": [{\"error_x\": {\"color\": \"#2a3f5f\"}, \"error_y\": {\"color\": \"#2a3f5f\"}, \"marker\": {\"line\": {\"color\": \"#E5ECF6\", \"width\": 0.5}}, \"type\": \"bar\"}], \"barpolar\": [{\"marker\": {\"line\": {\"color\": \"#E5ECF6\", \"width\": 0.5}}, \"type\": \"barpolar\"}], \"carpet\": [{\"aaxis\": {\"endlinecolor\": \"#2a3f5f\", \"gridcolor\": \"white\", \"linecolor\": \"white\", \"minorgridcolor\": \"white\", \"startlinecolor\": \"#2a3f5f\"}, \"baxis\": {\"endlinecolor\": \"#2a3f5f\", \"gridcolor\": \"white\", \"linecolor\": \"white\", \"minorgridcolor\": \"white\", \"startlinecolor\": \"#2a3f5f\"}, \"type\": \"carpet\"}], \"choropleth\": [{\"colorbar\": {\"outlinewidth\": 0, \"ticks\": \"\"}, \"type\": \"choropleth\"}], \"contour\": [{\"colorbar\": {\"outlinewidth\": 0, \"ticks\": \"\"}, \"colorscale\": [[0.0, \"#0d0887\"], [0.1111111111111111, \"#46039f\"], [0.2222222222222222, \"#7201a8\"], [0.3333333333333333, \"#9c179e\"], [0.4444444444444444, \"#bd3786\"], [0.5555555555555556, \"#d8576b\"], [0.6666666666666666, \"#ed7953\"], [0.7777777777777778, \"#fb9f3a\"], [0.8888888888888888, \"#fdca26\"], [1.0, \"#f0f921\"]], \"type\": \"contour\"}], \"contourcarpet\": [{\"colorbar\": {\"outlinewidth\": 0, \"ticks\": \"\"}, \"type\": \"contourcarpet\"}], \"heatmap\": [{\"colorbar\": {\"outlinewidth\": 0, \"ticks\": \"\"}, \"colorscale\": [[0.0, \"#0d0887\"], [0.1111111111111111, \"#46039f\"], [0.2222222222222222, \"#7201a8\"], [0.3333333333333333, \"#9c179e\"], [0.4444444444444444, \"#bd3786\"], [0.5555555555555556, \"#d8576b\"], [0.6666666666666666, \"#ed7953\"], [0.7777777777777778, \"#fb9f3a\"], [0.8888888888888888, \"#fdca26\"], [1.0, \"#f0f921\"]], \"type\": \"heatmap\"}], \"heatmapgl\": [{\"colorbar\": {\"outlinewidth\": 0, \"ticks\": \"\"}, \"colorscale\": [[0.0, \"#0d0887\"], [0.1111111111111111, \"#46039f\"], [0.2222222222222222, \"#7201a8\"], [0.3333333333333333, \"#9c179e\"], [0.4444444444444444, \"#bd3786\"], [0.5555555555555556, \"#d8576b\"], [0.6666666666666666, \"#ed7953\"], [0.7777777777777778, \"#fb9f3a\"], [0.8888888888888888, \"#fdca26\"], [1.0, \"#f0f921\"]], \"type\": \"heatmapgl\"}], \"histogram\": [{\"marker\": {\"colorbar\": {\"outlinewidth\": 0, \"ticks\": \"\"}}, \"type\": \"histogram\"}], \"histogram2d\": [{\"colorbar\": {\"outlinewidth\": 0, \"ticks\": \"\"}, \"colorscale\": [[0.0, \"#0d0887\"], [0.1111111111111111, \"#46039f\"], [0.2222222222222222, \"#7201a8\"], [0.3333333333333333, \"#9c179e\"], [0.4444444444444444, \"#bd3786\"], [0.5555555555555556, \"#d8576b\"], [0.6666666666666666, \"#ed7953\"], [0.7777777777777778, \"#fb9f3a\"], [0.8888888888888888, \"#fdca26\"], [1.0, \"#f0f921\"]], \"type\": \"histogram2d\"}], \"histogram2dcontour\": [{\"colorbar\": {\"outlinewidth\": 0, \"ticks\": \"\"}, \"colorscale\": [[0.0, \"#0d0887\"], [0.1111111111111111, \"#46039f\"], [0.2222222222222222, \"#7201a8\"], [0.3333333333333333, \"#9c179e\"], [0.4444444444444444, \"#bd3786\"], [0.5555555555555556, \"#d8576b\"], [0.6666666666666666, \"#ed7953\"], [0.7777777777777778, \"#fb9f3a\"], [0.8888888888888888, \"#fdca26\"], [1.0, \"#f0f921\"]], \"type\": \"histogram2dcontour\"}], \"mesh3d\": [{\"colorbar\": {\"outlinewidth\": 0, \"ticks\": \"\"}, \"type\": \"mesh3d\"}], \"parcoords\": [{\"line\": {\"colorbar\": {\"outlinewidth\": 0, \"ticks\": \"\"}}, \"type\": \"parcoords\"}], \"pie\": [{\"automargin\": true, \"type\": \"pie\"}], \"scatter\": [{\"marker\": {\"colorbar\": {\"outlinewidth\": 0, \"ticks\": \"\"}}, \"type\": \"scatter\"}], \"scatter3d\": [{\"line\": {\"colorbar\": {\"outlinewidth\": 0, \"ticks\": \"\"}}, \"marker\": {\"colorbar\": {\"outlinewidth\": 0, \"ticks\": \"\"}}, \"type\": \"scatter3d\"}], \"scattercarpet\": [{\"marker\": {\"colorbar\": {\"outlinewidth\": 0, \"ticks\": \"\"}}, \"type\": \"scattercarpet\"}], \"scattergeo\": [{\"marker\": {\"colorbar\": {\"outlinewidth\": 0, \"ticks\": \"\"}}, \"type\": \"scattergeo\"}], \"scattergl\": [{\"marker\": {\"colorbar\": {\"outlinewidth\": 0, \"ticks\": \"\"}}, \"type\": \"scattergl\"}], \"scattermapbox\": [{\"marker\": {\"colorbar\": {\"outlinewidth\": 0, \"ticks\": \"\"}}, \"type\": \"scattermapbox\"}], \"scatterpolar\": [{\"marker\": {\"colorbar\": {\"outlinewidth\": 0, \"ticks\": \"\"}}, \"type\": \"scatterpolar\"}], \"scatterpolargl\": [{\"marker\": {\"colorbar\": {\"outlinewidth\": 0, \"ticks\": \"\"}}, \"type\": \"scatterpolargl\"}], \"scatterternary\": [{\"marker\": {\"colorbar\": {\"outlinewidth\": 0, \"ticks\": \"\"}}, \"type\": \"scatterternary\"}], \"surface\": [{\"colorbar\": {\"outlinewidth\": 0, \"ticks\": \"\"}, \"colorscale\": [[0.0, \"#0d0887\"], [0.1111111111111111, \"#46039f\"], [0.2222222222222222, \"#7201a8\"], [0.3333333333333333, \"#9c179e\"], [0.4444444444444444, \"#bd3786\"], [0.5555555555555556, \"#d8576b\"], [0.6666666666666666, \"#ed7953\"], [0.7777777777777778, \"#fb9f3a\"], [0.8888888888888888, \"#fdca26\"], [1.0, \"#f0f921\"]], \"type\": \"surface\"}], \"table\": [{\"cells\": {\"fill\": {\"color\": \"#EBF0F8\"}, \"line\": {\"color\": \"white\"}}, \"header\": {\"fill\": {\"color\": \"#C8D4E3\"}, \"line\": {\"color\": \"white\"}}, \"type\": \"table\"}]}, \"layout\": {\"annotationdefaults\": {\"arrowcolor\": \"#2a3f5f\", \"arrowhead\": 0, \"arrowwidth\": 1}, \"autotypenumbers\": \"strict\", \"coloraxis\": {\"colorbar\": {\"outlinewidth\": 0, \"ticks\": \"\"}}, \"colorscale\": {\"diverging\": [[0, \"#8e0152\"], [0.1, \"#c51b7d\"], [0.2, \"#de77ae\"], [0.3, \"#f1b6da\"], [0.4, \"#fde0ef\"], [0.5, \"#f7f7f7\"], [0.6, \"#e6f5d0\"], [0.7, \"#b8e186\"], [0.8, \"#7fbc41\"], [0.9, \"#4d9221\"], [1, \"#276419\"]], \"sequential\": [[0.0, \"#0d0887\"], [0.1111111111111111, \"#46039f\"], [0.2222222222222222, \"#7201a8\"], [0.3333333333333333, \"#9c179e\"], [0.4444444444444444, \"#bd3786\"], [0.5555555555555556, \"#d8576b\"], [0.6666666666666666, \"#ed7953\"], [0.7777777777777778, \"#fb9f3a\"], [0.8888888888888888, \"#fdca26\"], [1.0, \"#f0f921\"]], \"sequentialminus\": [[0.0, \"#0d0887\"], [0.1111111111111111, \"#46039f\"], [0.2222222222222222, \"#7201a8\"], [0.3333333333333333, \"#9c179e\"], [0.4444444444444444, \"#bd3786\"], [0.5555555555555556, \"#d8576b\"], [0.6666666666666666, \"#ed7953\"], [0.7777777777777778, \"#fb9f3a\"], [0.8888888888888888, \"#fdca26\"], [1.0, \"#f0f921\"]]}, \"colorway\": [\"#636efa\", \"#EF553B\", \"#00cc96\", \"#ab63fa\", \"#FFA15A\", \"#19d3f3\", \"#FF6692\", \"#B6E880\", \"#FF97FF\", \"#FECB52\"], \"font\": {\"color\": \"#2a3f5f\"}, \"geo\": {\"bgcolor\": \"white\", \"lakecolor\": \"white\", \"landcolor\": \"#E5ECF6\", \"showlakes\": true, \"showland\": true, \"subunitcolor\": \"white\"}, \"hoverlabel\": {\"align\": \"left\"}, \"hovermode\": \"closest\", \"mapbox\": {\"style\": \"light\"}, \"paper_bgcolor\": \"white\", \"plot_bgcolor\": \"#E5ECF6\", \"polar\": {\"angularaxis\": {\"gridcolor\": \"white\", \"linecolor\": \"white\", \"ticks\": \"\"}, \"bgcolor\": \"#E5ECF6\", \"radialaxis\": {\"gridcolor\": \"white\", \"linecolor\": \"white\", \"ticks\": \"\"}}, \"scene\": {\"xaxis\": {\"backgroundcolor\": \"#E5ECF6\", \"gridcolor\": \"white\", \"gridwidth\": 2, \"linecolor\": \"white\", \"showbackground\": true, \"ticks\": \"\", \"zerolinecolor\": \"white\"}, \"yaxis\": {\"backgroundcolor\": \"#E5ECF6\", \"gridcolor\": \"white\", \"gridwidth\": 2, \"linecolor\": \"white\", \"showbackground\": true, \"ticks\": \"\", \"zerolinecolor\": \"white\"}, \"zaxis\": {\"backgroundcolor\": \"#E5ECF6\", \"gridcolor\": \"white\", \"gridwidth\": 2, \"linecolor\": \"white\", \"showbackground\": true, \"ticks\": \"\", \"zerolinecolor\": \"white\"}}, \"shapedefaults\": {\"line\": {\"color\": \"#2a3f5f\"}}, \"ternary\": {\"aaxis\": {\"gridcolor\": \"white\", \"linecolor\": \"white\", \"ticks\": \"\"}, \"baxis\": {\"gridcolor\": \"white\", \"linecolor\": \"white\", \"ticks\": \"\"}, \"bgcolor\": \"#E5ECF6\", \"caxis\": {\"gridcolor\": \"white\", \"linecolor\": \"white\", \"ticks\": \"\"}}, \"title\": {\"x\": 0.05}, \"xaxis\": {\"automargin\": true, \"gridcolor\": \"white\", \"linecolor\": \"white\", \"ticks\": \"\", \"title\": {\"standoff\": 15}, \"zerolinecolor\": \"white\", \"zerolinewidth\": 2}, \"yaxis\": {\"automargin\": true, \"gridcolor\": \"white\", \"linecolor\": \"white\", \"ticks\": \"\", \"title\": {\"standoff\": 15}, \"zerolinecolor\": \"white\", \"zerolinewidth\": 2}}}, \"title\": {\"font\": {\"size\": 16}, \"text\": \"No. of Collaborations\"}, \"xaxis\": {\"showgrid\": false, \"showticklabels\": false, \"zeroline\": false}, \"yaxis\": {\"showgrid\": false, \"showticklabels\": false, \"zeroline\": false}},                        {\"responsive\": true}                    ).then(function(){\n",
       "                            \n",
       "var gd = document.getElementById('d6f1683d-4418-44d0-b7f6-c0b9a04e35b5');\n",
       "var x = new MutationObserver(function (mutations, observer) {{\n",
       "        var display = window.getComputedStyle(gd).display;\n",
       "        if (!display || display === 'none') {{\n",
       "            console.log([gd, 'removed!']);\n",
       "            Plotly.purge(gd);\n",
       "            observer.disconnect();\n",
       "        }}\n",
       "}});\n",
       "\n",
       "// Listen for the removal of the full notebook cells\n",
       "var notebookContainer = gd.closest('#notebook-container');\n",
       "if (notebookContainer) {{\n",
       "    x.observe(notebookContainer, {childList: true});\n",
       "}}\n",
       "\n",
       "// Listen for the clearing of the current output cell\n",
       "var outputEl = gd.closest('.output');\n",
       "if (outputEl) {{\n",
       "    x.observe(outputEl, {childList: true});\n",
       "}}\n",
       "\n",
       "                        })                };                });            </script>        </div>"
      ]
     },
     "metadata": {},
     "output_type": "display_data"
    }
   ],
   "source": [
    "generate_network_plotly(df)"
   ]
  },
  {
   "cell_type": "code",
   "execution_count": null,
   "metadata": {},
   "outputs": [],
   "source": []
  }
 ],
 "metadata": {
  "kernelspec": {
   "display_name": "Python 3",
   "language": "python",
   "name": "python3"
  },
  "language_info": {
   "codemirror_mode": {
    "name": "ipython",
    "version": 3
   },
   "file_extension": ".py",
   "mimetype": "text/x-python",
   "name": "python",
   "nbconvert_exporter": "python",
   "pygments_lexer": "ipython3",
   "version": "3.8.5"
  }
 },
 "nbformat": 4,
 "nbformat_minor": 4
}
