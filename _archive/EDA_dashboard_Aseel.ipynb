{
 "cells": [
  {
   "cell_type": "markdown",
   "metadata": {},
   "source": [
    "# Spotify Collaborations Extended EDA - Aseel's Part "
   ]
  },
  {
   "cell_type": "markdown",
   "metadata": {},
   "source": [
    "### Initial Set Up"
   ]
  },
  {
   "cell_type": "markdown",
   "metadata": {},
   "source": [
    "#### Importing Packages"
   ]
  },
  {
   "cell_type": "code",
   "execution_count": 1,
   "metadata": {},
   "outputs": [],
   "source": [
    "# Load relevant packages\n",
    "import pandas as pd\n",
    "import numpy as np\n",
    "import matplotlib.pyplot as plt\n",
    "import seaborn as sns"
   ]
  },
  {
   "cell_type": "markdown",
   "metadata": {},
   "source": [
    "#### Importing Dataset"
   ]
  },
  {
   "cell_type": "code",
   "execution_count": 8,
   "metadata": {},
   "outputs": [
    {
     "data": {
      "text/html": [
       "<div>\n",
       "<style scoped>\n",
       "    .dataframe tbody tr th:only-of-type {\n",
       "        vertical-align: middle;\n",
       "    }\n",
       "\n",
       "    .dataframe tbody tr th {\n",
       "        vertical-align: top;\n",
       "    }\n",
       "\n",
       "    .dataframe thead th {\n",
       "        text-align: right;\n",
       "    }\n",
       "</style>\n",
       "<table border=\"1\" class=\"dataframe\">\n",
       "  <thead>\n",
       "    <tr style=\"text-align: right;\">\n",
       "      <th></th>\n",
       "      <th>Unnamed: 0</th>\n",
       "      <th>Date</th>\n",
       "      <th>Track Name</th>\n",
       "      <th>Streams</th>\n",
       "      <th>Position</th>\n",
       "      <th>Artist Name</th>\n",
       "      <th>Artist No.</th>\n",
       "      <th>No. of Artists</th>\n",
       "      <th>Artist Genre</th>\n",
       "      <th>Track URI</th>\n",
       "      <th>...</th>\n",
       "      <th>Artist_first_onchart</th>\n",
       "      <th>Artist_cumu_songs</th>\n",
       "      <th>Artist_cumu_collab</th>\n",
       "      <th>Artist_cumu_solo</th>\n",
       "      <th>Artist_days_onchart</th>\n",
       "      <th>Collab_avg_days_onchart</th>\n",
       "      <th>Collab_avg_cumu_songs</th>\n",
       "      <th>Collab_avg_cumu_collab</th>\n",
       "      <th>Collab_avg_cumu_solo</th>\n",
       "      <th>Profit</th>\n",
       "    </tr>\n",
       "  </thead>\n",
       "  <tbody>\n",
       "    <tr>\n",
       "      <th>0</th>\n",
       "      <td>0</td>\n",
       "      <td>2017-01-01</td>\n",
       "      <td>Lighthouse - Andrelli Remix</td>\n",
       "      <td>149929.0</td>\n",
       "      <td>183.0</td>\n",
       "      <td>Hearts &amp; Colors</td>\n",
       "      <td>1</td>\n",
       "      <td>2</td>\n",
       "      <td>['viral pop']</td>\n",
       "      <td>04CttTezSnv71USiiG9mIo</td>\n",
       "      <td>...</td>\n",
       "      <td>2017-01-01</td>\n",
       "      <td>1</td>\n",
       "      <td>1</td>\n",
       "      <td>0</td>\n",
       "      <td>1</td>\n",
       "      <td>1.0</td>\n",
       "      <td>1.000000</td>\n",
       "      <td>1.000000</td>\n",
       "      <td>0.0</td>\n",
       "      <td>496.26499</td>\n",
       "    </tr>\n",
       "    <tr>\n",
       "      <th>1</th>\n",
       "      <td>1</td>\n",
       "      <td>2017-01-01</td>\n",
       "      <td>Lighthouse - Andrelli Remix</td>\n",
       "      <td>149929.0</td>\n",
       "      <td>183.0</td>\n",
       "      <td>Andrelli</td>\n",
       "      <td>2</td>\n",
       "      <td>2</td>\n",
       "      <td>['swedish pop']</td>\n",
       "      <td>04CttTezSnv71USiiG9mIo</td>\n",
       "      <td>...</td>\n",
       "      <td>2017-01-01</td>\n",
       "      <td>1</td>\n",
       "      <td>1</td>\n",
       "      <td>0</td>\n",
       "      <td>1</td>\n",
       "      <td>1.0</td>\n",
       "      <td>1.000000</td>\n",
       "      <td>1.000000</td>\n",
       "      <td>0.0</td>\n",
       "      <td>496.26499</td>\n",
       "    </tr>\n",
       "    <tr>\n",
       "      <th>2</th>\n",
       "      <td>2</td>\n",
       "      <td>2017-01-01</td>\n",
       "      <td>In the Name of Love</td>\n",
       "      <td>435945.0</td>\n",
       "      <td>27.0</td>\n",
       "      <td>Martin Garrix</td>\n",
       "      <td>1</td>\n",
       "      <td>2</td>\n",
       "      <td>['big room', 'dance pop', 'edm', 'electro hous...</td>\n",
       "      <td>04DwTuZ2VBdJCCC5TROn7L</td>\n",
       "      <td>...</td>\n",
       "      <td>2017-01-01</td>\n",
       "      <td>1</td>\n",
       "      <td>1</td>\n",
       "      <td>0</td>\n",
       "      <td>1</td>\n",
       "      <td>1.0</td>\n",
       "      <td>2.000000</td>\n",
       "      <td>1.500000</td>\n",
       "      <td>0.5</td>\n",
       "      <td>1442.97795</td>\n",
       "    </tr>\n",
       "    <tr>\n",
       "      <th>3</th>\n",
       "      <td>3</td>\n",
       "      <td>2017-01-01</td>\n",
       "      <td>In the Name of Love</td>\n",
       "      <td>435945.0</td>\n",
       "      <td>27.0</td>\n",
       "      <td>Bebe Rexha</td>\n",
       "      <td>2</td>\n",
       "      <td>2</td>\n",
       "      <td>['dance pop', 'electropop', 'pop', 'pop dance'...</td>\n",
       "      <td>04DwTuZ2VBdJCCC5TROn7L</td>\n",
       "      <td>...</td>\n",
       "      <td>2017-01-01</td>\n",
       "      <td>3</td>\n",
       "      <td>2</td>\n",
       "      <td>1</td>\n",
       "      <td>1</td>\n",
       "      <td>1.0</td>\n",
       "      <td>2.000000</td>\n",
       "      <td>1.500000</td>\n",
       "      <td>0.5</td>\n",
       "      <td>1442.97795</td>\n",
       "    </tr>\n",
       "    <tr>\n",
       "      <th>4</th>\n",
       "      <td>4</td>\n",
       "      <td>2017-01-01</td>\n",
       "      <td>Party</td>\n",
       "      <td>151474.0</td>\n",
       "      <td>178.0</td>\n",
       "      <td>Chris Brown</td>\n",
       "      <td>1</td>\n",
       "      <td>3</td>\n",
       "      <td>['dance pop', 'pop', 'pop rap', 'r&amp;b', 'rap']</td>\n",
       "      <td>05Z7jet4VDNVgNQWcYHnrk</td>\n",
       "      <td>...</td>\n",
       "      <td>2017-01-01</td>\n",
       "      <td>1</td>\n",
       "      <td>1</td>\n",
       "      <td>0</td>\n",
       "      <td>1</td>\n",
       "      <td>1.0</td>\n",
       "      <td>1.666667</td>\n",
       "      <td>1.666667</td>\n",
       "      <td>0.0</td>\n",
       "      <td>501.37894</td>\n",
       "    </tr>\n",
       "  </tbody>\n",
       "</table>\n",
       "<p>5 rows × 34 columns</p>\n",
       "</div>"
      ],
      "text/plain": [
       "   Unnamed: 0        Date                   Track Name   Streams  Position  \\\n",
       "0           0  2017-01-01  Lighthouse - Andrelli Remix  149929.0     183.0   \n",
       "1           1  2017-01-01  Lighthouse - Andrelli Remix  149929.0     183.0   \n",
       "2           2  2017-01-01          In the Name of Love  435945.0      27.0   \n",
       "3           3  2017-01-01          In the Name of Love  435945.0      27.0   \n",
       "4           4  2017-01-01                        Party  151474.0     178.0   \n",
       "\n",
       "       Artist Name  Artist No.  No. of Artists  \\\n",
       "0  Hearts & Colors           1               2   \n",
       "1         Andrelli           2               2   \n",
       "2    Martin Garrix           1               2   \n",
       "3       Bebe Rexha           2               2   \n",
       "4      Chris Brown           1               3   \n",
       "\n",
       "                                        Artist Genre               Track URI  \\\n",
       "0                                      ['viral pop']  04CttTezSnv71USiiG9mIo   \n",
       "1                                    ['swedish pop']  04CttTezSnv71USiiG9mIo   \n",
       "2  ['big room', 'dance pop', 'edm', 'electro hous...  04DwTuZ2VBdJCCC5TROn7L   \n",
       "3  ['dance pop', 'electropop', 'pop', 'pop dance'...  04DwTuZ2VBdJCCC5TROn7L   \n",
       "4      ['dance pop', 'pop', 'pop rap', 'r&b', 'rap']  05Z7jet4VDNVgNQWcYHnrk   \n",
       "\n",
       "   ... Artist_first_onchart Artist_cumu_songs Artist_cumu_collab  \\\n",
       "0  ...           2017-01-01                 1                  1   \n",
       "1  ...           2017-01-01                 1                  1   \n",
       "2  ...           2017-01-01                 1                  1   \n",
       "3  ...           2017-01-01                 3                  2   \n",
       "4  ...           2017-01-01                 1                  1   \n",
       "\n",
       "   Artist_cumu_solo Artist_days_onchart Collab_avg_days_onchart  \\\n",
       "0                 0                   1                     1.0   \n",
       "1                 0                   1                     1.0   \n",
       "2                 0                   1                     1.0   \n",
       "3                 1                   1                     1.0   \n",
       "4                 0                   1                     1.0   \n",
       "\n",
       "   Collab_avg_cumu_songs  Collab_avg_cumu_collab Collab_avg_cumu_solo  \\\n",
       "0               1.000000                1.000000                  0.0   \n",
       "1               1.000000                1.000000                  0.0   \n",
       "2               2.000000                1.500000                  0.5   \n",
       "3               2.000000                1.500000                  0.5   \n",
       "4               1.666667                1.666667                  0.0   \n",
       "\n",
       "       Profit  \n",
       "0   496.26499  \n",
       "1   496.26499  \n",
       "2  1442.97795  \n",
       "3  1442.97795  \n",
       "4   501.37894  \n",
       "\n",
       "[5 rows x 34 columns]"
      ]
     },
     "execution_count": 8,
     "metadata": {},
     "output_type": "execute_result"
    }
   ],
   "source": [
    "top_us = pd.read_csv(\"./data/spotify_us_all_fe.csv\")\n",
    "top_us.head()"
   ]
  },
  {
   "cell_type": "markdown",
   "metadata": {},
   "source": [
    "#### Basic Information For Each Column"
   ]
  },
  {
   "cell_type": "code",
   "execution_count": 9,
   "metadata": {},
   "outputs": [
    {
     "name": "stdout",
     "output_type": "stream",
     "text": [
      "<class 'pandas.core.frame.DataFrame'>\n",
      "RangeIndex: 454322 entries, 0 to 454321\n",
      "Data columns (total 34 columns):\n",
      " #   Column                   Non-Null Count   Dtype  \n",
      "---  ------                   --------------   -----  \n",
      " 0   Unnamed: 0               454322 non-null  int64  \n",
      " 1   Date                     454322 non-null  object \n",
      " 2   Track Name               454306 non-null  object \n",
      " 3   Streams                  454322 non-null  float64\n",
      " 4   Position                 454322 non-null  float64\n",
      " 5   Artist Name              454306 non-null  object \n",
      " 6   Artist No.               454322 non-null  int64  \n",
      " 7   No. of Artists           454322 non-null  int64  \n",
      " 8   Artist Genre             454322 non-null  object \n",
      " 9   Track URI                454322 non-null  object \n",
      " 10  Country                  454322 non-null  object \n",
      " 11  Artist URI               454322 non-null  object \n",
      " 12  Album URI                454322 non-null  object \n",
      " 13  Album_release_month      454322 non-null  int64  \n",
      " 14  Album_release_dayweek    454322 non-null  object \n",
      " 15  Album Release            454322 non-null  object \n",
      " 16  Year_chart               454322 non-null  int64  \n",
      " 17  Month_chart              454322 non-null  int64  \n",
      " 18  Song_first_onchart       454322 non-null  object \n",
      " 19  Song_days_since_first    454322 non-null  int64  \n",
      " 20  Song_days_onchart        454322 non-null  int64  \n",
      " 21  Song_days_since_release  454322 non-null  int64  \n",
      " 22  Song_streak_id           454322 non-null  int64  \n",
      " 23  Song_consec_day          454322 non-null  int64  \n",
      " 24  Artist_first_onchart     454322 non-null  object \n",
      " 25  Artist_cumu_songs        454322 non-null  int64  \n",
      " 26  Artist_cumu_collab       454322 non-null  int64  \n",
      " 27  Artist_cumu_solo         454322 non-null  int64  \n",
      " 28  Artist_days_onchart      454322 non-null  int64  \n",
      " 29  Collab_avg_days_onchart  454322 non-null  float64\n",
      " 30  Collab_avg_cumu_songs    454322 non-null  float64\n",
      " 31  Collab_avg_cumu_collab   454322 non-null  float64\n",
      " 32  Collab_avg_cumu_solo     454322 non-null  float64\n",
      " 33  Profit                   454322 non-null  float64\n",
      "dtypes: float64(7), int64(15), object(12)\n",
      "memory usage: 117.9+ MB\n"
     ]
    }
   ],
   "source": [
    "top_us.info()"
   ]
  },
  {
   "cell_type": "markdown",
   "metadata": {},
   "source": [
    "### Chart C: Relationship between streams and position "
   ]
  },
  {
   "cell_type": "code",
   "execution_count": 135,
   "metadata": {},
   "outputs": [
    {
     "data": {
      "text/plain": [
       "Text(0.5, 1.0, 'Chart C')"
      ]
     },
     "execution_count": 135,
     "metadata": {},
     "output_type": "execute_result"
    },
    {
     "data": {
      "image/png": "[encoded data removed]",
      "text/plain": [
       "<Figure size 432x288 with 1 Axes>"
      ]
     },
     "metadata": {
      "needs_background": "light"
     },
     "output_type": "display_data"
    }
   ],
   "source": [
    "# Relationship between streams and position\n",
    "# No need to group by position b/c it is scatter graph for all track in each day. Correct me if I'm wrong\n",
    "g1 = (\n",
    "    top_us\n",
    "    .plot.scatter(x=\"Position\", y=\"Streams\", color='limegreen')\n",
    ")\n",
    "g1.set_xlabel(\"Position\")\n",
    "g1.set_ylabel(\"Streams (in millions)\")\n",
    "g1.set_facecolor('black')\n",
    "g1.set_title(\"Chart C\")"
   ]
  },
  {
   "cell_type": "markdown",
   "metadata": {},
   "source": [
    "### Chart D: Relationship between profits and position "
   ]
  },
  {
   "cell_type": "code",
   "execution_count": 136,
   "metadata": {},
   "outputs": [
    {
     "data": {
      "text/plain": [
       "Text(0.5, 1.0, 'Chart D')"
      ]
     },
     "execution_count": 136,
     "metadata": {},
     "output_type": "execute_result"
    },
    {
     "data": {
      "image/png": "[encoded data removed]",
      "text/plain": [
       "<Figure size 432x288 with 1 Axes>"
      ]
     },
     "metadata": {
      "needs_background": "light"
     },
     "output_type": "display_data"
    }
   ],
   "source": [
    "# Relationship between profits and position\n",
    "# No need to group by position b/c it is scatter graph for all track in each day. Correct me if I'm wrong\n",
    "g2 = (\n",
    "    top_us\n",
    "    .plot.scatter(x=\"Position\", y=\"Profit\", color='limegreen')\n",
    ")\n",
    "g2.set_xlabel(\"Position\")\n",
    "g2.set_ylabel(\"Profit in USD\") # what is the unit of profit here? Thousands USD? \n",
    "g2.set_facecolor('black')\n",
    "g2.set_title(\"Chart D\")"
   ]
  },
  {
   "cell_type": "markdown",
   "metadata": {},
   "source": [
    "### Chart A-1: Relationship between no. of collaborators and success (Position)"
   ]
  },
  {
   "cell_type": "code",
   "execution_count": 138,
   "metadata": {},
   "outputs": [
    {
     "data": {
      "text/plain": [
       "Text(0.5, 1.0, 'Average Song Position and Number of Collaborators')"
      ]
     },
     "execution_count": 138,
     "metadata": {},
     "output_type": "execute_result"
    },
    {
     "data": {
      "image/png": "[encoded data removed]",
      "text/plain": [
       "<Figure size 432x288 with 1 Axes>"
      ]
     },
     "metadata": {
      "needs_background": "light"
     },
     "output_type": "display_data"
    }
   ],
   "source": [
    "# the genres will be included in the dash application (Jonathan)\n",
    "#Relationship between no. of collaborators and success (Position)\n",
    "g3 = (\n",
    "    top_us.groupby([\"No. of Artists\"])[\"Position\"]\n",
    "    .mean()\n",
    "    .reset_index(name=\"Position\")\n",
    "    .sort_values(by=\"No. of Artists\", ascending= True)\n",
    "    .plot.bar(x=\"No. of Artists\", y=\"Position\", color = '#b0e575')\n",
    ")\n",
    "g3.set_facecolor('black')\n",
    "g3.get_legend().remove()\n",
    "g3.set_xlabel(\"No. of Artists\")\n",
    "g3.set_ylabel(\"Average Position\")\n",
    "g3.set_title(\"Average Song Position and Number of Collaborators\")"
   ]
  },
  {
   "cell_type": "markdown",
   "metadata": {},
   "source": [
    "### Chart A-2: Relationship between no. of collaborators and success (Streams)"
   ]
  },
  {
   "cell_type": "code",
   "execution_count": 139,
   "metadata": {},
   "outputs": [
    {
     "data": {
      "text/plain": [
       "Text(0.5, 1.0, 'Average streams and Number of Collaborators')"
      ]
     },
     "execution_count": 139,
     "metadata": {},
     "output_type": "execute_result"
    },
    {
     "data": {
      "image/png": "[encoded data removed]",
      "text/plain": [
       "<Figure size 432x288 with 1 Axes>"
      ]
     },
     "metadata": {
      "needs_background": "light"
     },
     "output_type": "display_data"
    }
   ],
   "source": [
    "#Relationship between no. of collaborators and success (Streams)\n",
    "g4 = (\n",
    "    top_us.groupby([\"No. of Artists\"])[\"Streams\"]\n",
    "    .mean()\n",
    "    .reset_index(name=\"Streams\")\n",
    "    .sort_values(by=\"No. of Artists\", ascending= True)\n",
    "    .plot.bar(x=\"No. of Artists\", y=\"Streams\", color = '#b0e575')\n",
    ")\n",
    "g4.set_facecolor('black')\n",
    "g4.get_legend().remove()\n",
    "g4.set_xlabel(\"No. of Artists\")\n",
    "g4.set_ylabel(\"Average Streams\")\n",
    "g4.set_title(\"Average streams and Number of Collaborators\")"
   ]
  },
  {
   "cell_type": "markdown",
   "metadata": {},
   "source": [
    "### Chart A-3: Relationship between no. of collaborators and success (Profit)"
   ]
  },
  {
   "cell_type": "code",
   "execution_count": 142,
   "metadata": {},
   "outputs": [
    {
     "data": {
      "text/plain": [
       "Text(0.5, 1.0, 'Average Profit and Number of Collaborators')"
      ]
     },
     "execution_count": 142,
     "metadata": {},
     "output_type": "execute_result"
    },
    {
     "data": {
      "image/png": "[encoded data removed]",
      "text/plain": [
       "<Figure size 432x288 with 1 Axes>"
      ]
     },
     "metadata": {
      "needs_background": "light"
     },
     "output_type": "display_data"
    }
   ],
   "source": [
    "#Relationship between no. of collaborators and success (Profit)\n",
    "g5 = (\n",
    "    top_us.groupby([\"No. of Artists\"])[\"Profit\"]\n",
    "    .mean()\n",
    "    .reset_index(name=\"Profit\")\n",
    "    .sort_values(by=\"No. of Artists\", ascending= True)\n",
    "    .plot.bar(x=\"No. of Artists\", y=\"Profit\", color = '#b0e575')\n",
    ")\n",
    "g5.set_facecolor('black')\n",
    "g5.get_legend().remove()\n",
    "g5.set_xlabel(\"No. of Artists\")\n",
    "g5.set_ylabel(\"Average Profit (USD)\")\n",
    "g5.set_title(\"Average Profit and Number of Collaborators\")"
   ]
  },
  {
   "cell_type": "markdown",
   "metadata": {},
   "source": [
    "### Exploring relationship between no. of collaborators and success by Artist Genre - Additional EDA"
   ]
  },
  {
   "cell_type": "code",
   "execution_count": 143,
   "metadata": {},
   "outputs": [],
   "source": [
    "# Cleaning Genre column\n",
    "top_us_genre = top_us[[\"Artist Name\", \"Artist Genre\", \"No. of Artists\", \"Position\", \"Streams\", \"Profit\"]].copy()\n",
    "\n",
    "top_us_genre['Artist Genre Clean'] = top_us_genre['Artist Genre'].apply(lambda x: x.replace('[', ''))\n",
    "top_us_genre['Artist Genre Clean'] = top_us_genre['Artist Genre Clean'].apply(lambda x: x.replace(']', ''))\n",
    "top_us_genre['Artist Genre Clean'] = top_us_genre['Artist Genre Clean'].apply(lambda x: x.replace(\"'\", ''))\n",
    "top_us_genre['Artist Genre Clean'] = top_us_genre['Artist Genre Clean'].apply(lambda x: x.replace(', ', ','))\n",
    "top_us_genre['Artist Genre Clean'] = top_us_genre['Artist Genre Clean'].apply(lambda x: x.split(','))\n",
    "\n",
    "top_us_genre = top_us_genre.explode('Artist Genre Clean')\n",
    "# drop the unclean genre column and rename the clean column\n",
    "top_us_genre.drop(columns=[\"Artist Genre\"],  inplace = True)\n",
    "top_us_genre.rename(columns = {\"Artist Genre Clean\": \"Artist Genre\"},  inplace = True) \n"
   ]
  },
  {
   "cell_type": "code",
   "execution_count": 125,
   "metadata": {},
   "outputs": [
    {
     "data": {
      "text/html": [
       "<div>\n",
       "<style scoped>\n",
       "    .dataframe tbody tr th:only-of-type {\n",
       "        vertical-align: middle;\n",
       "    }\n",
       "\n",
       "    .dataframe tbody tr th {\n",
       "        vertical-align: top;\n",
       "    }\n",
       "\n",
       "    .dataframe thead th {\n",
       "        text-align: right;\n",
       "    }\n",
       "</style>\n",
       "<table border=\"1\" class=\"dataframe\">\n",
       "  <thead>\n",
       "    <tr style=\"text-align: right;\">\n",
       "      <th></th>\n",
       "      <th>Count</th>\n",
       "    </tr>\n",
       "    <tr>\n",
       "      <th>Artist Genre</th>\n",
       "      <th></th>\n",
       "    </tr>\n",
       "  </thead>\n",
       "  <tbody>\n",
       "    <tr>\n",
       "      <th>rap</th>\n",
       "      <td>13417</td>\n",
       "    </tr>\n",
       "    <tr>\n",
       "      <th>pop rap</th>\n",
       "      <td>7946</td>\n",
       "    </tr>\n",
       "    <tr>\n",
       "      <th>trap</th>\n",
       "      <td>7071</td>\n",
       "    </tr>\n",
       "    <tr>\n",
       "      <th>pop</th>\n",
       "      <td>6494</td>\n",
       "    </tr>\n",
       "    <tr>\n",
       "      <th>hip hop</th>\n",
       "      <td>5990</td>\n",
       "    </tr>\n",
       "  </tbody>\n",
       "</table>\n",
       "</div>"
      ],
      "text/plain": [
       "              Count\n",
       "Artist Genre       \n",
       "rap           13417\n",
       "pop rap        7946\n",
       "trap           7071\n",
       "pop            6494\n",
       "hip hop        5990"
      ]
     },
     "execution_count": 125,
     "metadata": {},
     "output_type": "execute_result"
    }
   ],
   "source": [
    "# finding top 5 genres for songs ranked in the first 10 positions\n",
    "top_10_positions = top_us_genre[top_us_genre['Position']<= 10]\n",
    "\n",
    "top_10_positions = (\n",
    "    top_10_positions.groupby([\"Artist Genre\"])[\"Position\"]\n",
    "    .count()\n",
    "    .reset_index(name=\"Count\")\n",
    "    .sort_values(by=\"Count\", ascending= False)\n",
    "    .head(5)\n",
    ")\n",
    "top_10_positions = top_10_positions.set_index('Artist Genre')\n",
    "top_10_positions"
   ]
  },
  {
   "cell_type": "code",
   "execution_count": 127,
   "metadata": {},
   "outputs": [
    {
     "data": {
      "text/html": [
       "<div>\n",
       "<style scoped>\n",
       "    .dataframe tbody tr th:only-of-type {\n",
       "        vertical-align: middle;\n",
       "    }\n",
       "\n",
       "    .dataframe tbody tr th {\n",
       "        vertical-align: top;\n",
       "    }\n",
       "\n",
       "    .dataframe thead th {\n",
       "        text-align: right;\n",
       "    }\n",
       "</style>\n",
       "<table border=\"1\" class=\"dataframe\">\n",
       "  <thead>\n",
       "    <tr style=\"text-align: right;\">\n",
       "      <th></th>\n",
       "      <th>Artist Name</th>\n",
       "      <th>No. of Artists</th>\n",
       "      <th>Position</th>\n",
       "      <th>Streams</th>\n",
       "      <th>Profit</th>\n",
       "      <th>Artist Genre</th>\n",
       "    </tr>\n",
       "  </thead>\n",
       "  <tbody>\n",
       "    <tr>\n",
       "      <th>2</th>\n",
       "      <td>Martin Garrix</td>\n",
       "      <td>2</td>\n",
       "      <td>27.0</td>\n",
       "      <td>435945.0</td>\n",
       "      <td>1442.97795</td>\n",
       "      <td>pop</td>\n",
       "    </tr>\n",
       "    <tr>\n",
       "      <th>3</th>\n",
       "      <td>Bebe Rexha</td>\n",
       "      <td>2</td>\n",
       "      <td>27.0</td>\n",
       "      <td>435945.0</td>\n",
       "      <td>1442.97795</td>\n",
       "      <td>pop</td>\n",
       "    </tr>\n",
       "    <tr>\n",
       "      <th>4</th>\n",
       "      <td>Chris Brown</td>\n",
       "      <td>3</td>\n",
       "      <td>178.0</td>\n",
       "      <td>151474.0</td>\n",
       "      <td>501.37894</td>\n",
       "      <td>pop</td>\n",
       "    </tr>\n",
       "    <tr>\n",
       "      <th>4</th>\n",
       "      <td>Chris Brown</td>\n",
       "      <td>3</td>\n",
       "      <td>178.0</td>\n",
       "      <td>151474.0</td>\n",
       "      <td>501.37894</td>\n",
       "      <td>pop rap</td>\n",
       "    </tr>\n",
       "    <tr>\n",
       "      <th>4</th>\n",
       "      <td>Chris Brown</td>\n",
       "      <td>3</td>\n",
       "      <td>178.0</td>\n",
       "      <td>151474.0</td>\n",
       "      <td>501.37894</td>\n",
       "      <td>rap</td>\n",
       "    </tr>\n",
       "    <tr>\n",
       "      <th>...</th>\n",
       "      <td>...</td>\n",
       "      <td>...</td>\n",
       "      <td>...</td>\n",
       "      <td>...</td>\n",
       "      <td>...</td>\n",
       "      <td>...</td>\n",
       "    </tr>\n",
       "    <tr>\n",
       "      <th>454320</th>\n",
       "      <td>Playboi Carti</td>\n",
       "      <td>2</td>\n",
       "      <td>182.0</td>\n",
       "      <td>230435.0</td>\n",
       "      <td>762.73985</td>\n",
       "      <td>rap</td>\n",
       "    </tr>\n",
       "    <tr>\n",
       "      <th>454320</th>\n",
       "      <td>Playboi Carti</td>\n",
       "      <td>2</td>\n",
       "      <td>182.0</td>\n",
       "      <td>230435.0</td>\n",
       "      <td>762.73985</td>\n",
       "      <td>trap</td>\n",
       "    </tr>\n",
       "    <tr>\n",
       "      <th>454321</th>\n",
       "      <td>Kid Cudi</td>\n",
       "      <td>2</td>\n",
       "      <td>182.0</td>\n",
       "      <td>230435.0</td>\n",
       "      <td>762.73985</td>\n",
       "      <td>hip hop</td>\n",
       "    </tr>\n",
       "    <tr>\n",
       "      <th>454321</th>\n",
       "      <td>Kid Cudi</td>\n",
       "      <td>2</td>\n",
       "      <td>182.0</td>\n",
       "      <td>230435.0</td>\n",
       "      <td>762.73985</td>\n",
       "      <td>pop rap</td>\n",
       "    </tr>\n",
       "    <tr>\n",
       "      <th>454321</th>\n",
       "      <td>Kid Cudi</td>\n",
       "      <td>2</td>\n",
       "      <td>182.0</td>\n",
       "      <td>230435.0</td>\n",
       "      <td>762.73985</td>\n",
       "      <td>rap</td>\n",
       "    </tr>\n",
       "  </tbody>\n",
       "</table>\n",
       "<p>697940 rows × 6 columns</p>\n",
       "</div>"
      ],
      "text/plain": [
       "          Artist Name  No. of Artists  Position   Streams      Profit  \\\n",
       "2       Martin Garrix               2      27.0  435945.0  1442.97795   \n",
       "3          Bebe Rexha               2      27.0  435945.0  1442.97795   \n",
       "4         Chris Brown               3     178.0  151474.0   501.37894   \n",
       "4         Chris Brown               3     178.0  151474.0   501.37894   \n",
       "4         Chris Brown               3     178.0  151474.0   501.37894   \n",
       "...               ...             ...       ...       ...         ...   \n",
       "454320  Playboi Carti               2     182.0  230435.0   762.73985   \n",
       "454320  Playboi Carti               2     182.0  230435.0   762.73985   \n",
       "454321       Kid Cudi               2     182.0  230435.0   762.73985   \n",
       "454321       Kid Cudi               2     182.0  230435.0   762.73985   \n",
       "454321       Kid Cudi               2     182.0  230435.0   762.73985   \n",
       "\n",
       "       Artist Genre  \n",
       "2               pop  \n",
       "3               pop  \n",
       "4               pop  \n",
       "4           pop rap  \n",
       "4               rap  \n",
       "...             ...  \n",
       "454320          rap  \n",
       "454320         trap  \n",
       "454321      hip hop  \n",
       "454321      pop rap  \n",
       "454321          rap  \n",
       "\n",
       "[697940 rows x 6 columns]"
      ]
     },
     "execution_count": 127,
     "metadata": {},
     "output_type": "execute_result"
    }
   ],
   "source": [
    "#subseting for the top 5 genres\n",
    "top_5_genres= [\"rap\", \"pop rap\", \"trap\", \"pop\", \"hip hop\"]\n",
    "top_us_5_genres= top_us_genre[top_us_genre['Artist Genre'].isin(top_5_genres)] \n",
    "top_us_5_genres"
   ]
  },
  {
   "cell_type": "code",
   "execution_count": 128,
   "metadata": {},
   "outputs": [
    {
     "name": "stderr",
     "output_type": "stream",
     "text": [
      "/Applications/anaconda3/lib/python3.8/site-packages/seaborn/axisgrid.py:645: UserWarning: Using the barplot function without specifying `order` is likely to produce an incorrect plot.\n",
      "  warnings.warn(warning)\n"
     ]
    },
    {
     "data": {
      "text/plain": [
       "<seaborn.axisgrid.FacetGrid at 0x1af866fd0>"
      ]
     },
     "execution_count": 128,
     "metadata": {},
     "output_type": "execute_result"
    },
    {
     "data": {
      "image/png": "[encoded data removed]",
      "text/plain": [
       "<Figure size 1080x216 with 5 Axes>"
      ]
     },
     "metadata": {
      "needs_background": "light"
     },
     "output_type": "display_data"
    }
   ],
   "source": [
    "# Aseel's Chart A-1\n",
    "# Relationship between no. of collaborators and success (Position)\n",
    "top_us_5_genres_grouped_pos = (\n",
    "    top_us_5_genres.groupby([\"Artist Genre\",\"No. of Artists\"])[\"Position\"]\n",
    "    .mean()\n",
    "    .reset_index(name=\"Position\")\n",
    "    .sort_values(by=\"No. of Artists\", ascending= True)\n",
    ")\n",
    "a = sns.FacetGrid(top_us_5_genres_grouped_pos, col=\"Artist Genre\")\n",
    "g.map(sns.barplot,'No. of Artists','Position')"
   ]
  },
  {
   "cell_type": "code",
   "execution_count": 120,
   "metadata": {},
   "outputs": [
    {
     "name": "stderr",
     "output_type": "stream",
     "text": [
      "/Applications/anaconda3/lib/python3.8/site-packages/seaborn/axisgrid.py:645: UserWarning: Using the barplot function without specifying `order` is likely to produce an incorrect plot.\n",
      "  warnings.warn(warning)\n"
     ]
    },
    {
     "data": {
      "text/plain": [
       "<seaborn.axisgrid.FacetGrid at 0x1ae2117c0>"
      ]
     },
     "execution_count": 120,
     "metadata": {},
     "output_type": "execute_result"
    },
    {
     "data": {
      "image/png": "[encoded data removed]",
      "text/plain": [
       "<Figure size 1080x216 with 5 Axes>"
      ]
     },
     "metadata": {
      "needs_background": "light"
     },
     "output_type": "display_data"
    }
   ],
   "source": [
    "# Aseel's Chart A-2\n",
    "# Relationship between no. of collaborators and success (Streams)\n",
    "top_us_5_genres_grouped_str = (\n",
    "    top_us_5_genres.groupby([\"Artist Genre\",\"No. of Artists\"])[\"Streams\"]\n",
    "    .mean()\n",
    "    .reset_index(name=\"Streams\")\n",
    "    .sort_values(by=\"No. of Artists\", ascending= True)\n",
    ")\n",
    "a_2 = sns.FacetGrid(top_us_5_genres_grouped_str, col=\"Artist Genre\")\n",
    "a_2.map(sns.barplot,'No. of Artists','Streams')"
   ]
  },
  {
   "cell_type": "code",
   "execution_count": 121,
   "metadata": {},
   "outputs": [
    {
     "name": "stderr",
     "output_type": "stream",
     "text": [
      "/Applications/anaconda3/lib/python3.8/site-packages/seaborn/axisgrid.py:645: UserWarning: Using the barplot function without specifying `order` is likely to produce an incorrect plot.\n",
      "  warnings.warn(warning)\n"
     ]
    },
    {
     "data": {
      "text/plain": [
       "<seaborn.axisgrid.FacetGrid at 0x1b42de0d0>"
      ]
     },
     "execution_count": 121,
     "metadata": {},
     "output_type": "execute_result"
    },
    {
     "data": {
      "image/png": "[encoded data removed]",
      "text/plain": [
       "<Figure size 1080x216 with 5 Axes>"
      ]
     },
     "metadata": {
      "needs_background": "light"
     },
     "output_type": "display_data"
    }
   ],
   "source": [
    "# Aseel's Chart A-3\n",
    "# Relationship between no. of collaborators and success (Profit)\n",
    "top_us_5_genres_grouped_pro = (\n",
    "    top_us_5_genres.groupby([\"Artist Genre\",\"No. of Artists\"])[\"Profit\"]\n",
    "    .mean()\n",
    "    .reset_index(name=\"Profit\")\n",
    "    .sort_values(by=\"No. of Artists\", ascending= True)\n",
    ")\n",
    "a_3 = sns.FacetGrid(top_us_5_genres_grouped_pro, col=\"Artist Genre\")\n",
    "a_3.map(sns.barplot,'No. of Artists','Profit')"
   ]
  }
 ],
 "metadata": {
  "kernelspec": {
   "display_name": "Python 3",
   "language": "python",
   "name": "python3"
  },
  "language_info": {
   "codemirror_mode": {
    "name": "ipython",
    "version": 3
   },
   "file_extension": ".py",
   "mimetype": "text/x-python",
   "name": "python",
   "nbconvert_exporter": "python",
   "pygments_lexer": "ipython3",
   "version": "3.8.5"
  }
 },
 "nbformat": 4,
 "nbformat_minor": 4
}
