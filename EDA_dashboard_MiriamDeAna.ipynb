{
 "cells": [
  {
   "cell_type": "code",
   "execution_count": 1,
   "metadata": {},
   "outputs": [],
   "source": [
    "# Load relevant packages\n",
    "import pandas as pd\n",
    "import numpy as np\n",
    "import matplotlib.pyplot as plt\n",
    "import seaborn as sns"
   ]
  },
  {
   "cell_type": "code",
   "execution_count": 4,
   "metadata": {},
   "outputs": [],
   "source": [
    "top_us = pd.read_csv(\"2021.01.19 spotify_us_all_fe.csv\")\n",
    "top_us = top_us[top_us['No. of Artists'] >= 2]\n",
    "top_us1 = top_us[['Date', 'Track Name', 'Track URI', 'Song_days_onchart','Profit', 'Song_consec_day']]"
   ]
  },
  {
   "cell_type": "code",
   "execution_count": 37,
   "metadata": {},
   "outputs": [
    {
     "data": {
      "text/plain": [
       "(283753, 5)"
      ]
     },
     "execution_count": 37,
     "metadata": {},
     "output_type": "execute_result"
    }
   ],
   "source": [
    "top_us1.shape"
   ]
  },
  {
   "cell_type": "code",
   "execution_count": 54,
   "metadata": {},
   "outputs": [
    {
     "data": {
      "text/html": [
       "<div>\n",
       "<style scoped>\n",
       "    .dataframe tbody tr th:only-of-type {\n",
       "        vertical-align: middle;\n",
       "    }\n",
       "\n",
       "    .dataframe tbody tr th {\n",
       "        vertical-align: top;\n",
       "    }\n",
       "\n",
       "    .dataframe thead th {\n",
       "        text-align: right;\n",
       "    }\n",
       "</style>\n",
       "<table border=\"1\" class=\"dataframe\">\n",
       "  <thead>\n",
       "    <tr style=\"text-align: right;\">\n",
       "      <th></th>\n",
       "      <th>Date</th>\n",
       "      <th>Track Name</th>\n",
       "      <th>Track URI</th>\n",
       "      <th>Song_days_onchart</th>\n",
       "      <th>Profit</th>\n",
       "    </tr>\n",
       "  </thead>\n",
       "  <tbody>\n",
       "    <tr>\n",
       "      <th>0</th>\n",
       "      <td>2017-01-01</td>\n",
       "      <td>Lighthouse - Andrelli Remix</td>\n",
       "      <td>04CttTezSnv71USiiG9mIo</td>\n",
       "      <td>1</td>\n",
       "      <td>496.26499</td>\n",
       "    </tr>\n",
       "    <tr>\n",
       "      <th>2</th>\n",
       "      <td>2017-01-01</td>\n",
       "      <td>In the Name of Love</td>\n",
       "      <td>04DwTuZ2VBdJCCC5TROn7L</td>\n",
       "      <td>1</td>\n",
       "      <td>1442.97795</td>\n",
       "    </tr>\n",
       "    <tr>\n",
       "      <th>4</th>\n",
       "      <td>2017-01-01</td>\n",
       "      <td>Party</td>\n",
       "      <td>05Z7jet4VDNVgNQWcYHnrk</td>\n",
       "      <td>1</td>\n",
       "      <td>501.37894</td>\n",
       "    </tr>\n",
       "    <tr>\n",
       "      <th>8</th>\n",
       "      <td>2017-01-01</td>\n",
       "      <td>Setting Fires</td>\n",
       "      <td>0B8B8cVRFIG1yznoQe7c9s</td>\n",
       "      <td>1</td>\n",
       "      <td>599.48403</td>\n",
       "    </tr>\n",
       "    <tr>\n",
       "      <th>11</th>\n",
       "      <td>2017-01-01</td>\n",
       "      <td>Too Many Years</td>\n",
       "      <td>0BU7nIcCZxYSE0hYcc5oZz</td>\n",
       "      <td>1</td>\n",
       "      <td>714.20532</td>\n",
       "    </tr>\n",
       "    <tr>\n",
       "      <th>...</th>\n",
       "      <td>...</td>\n",
       "      <td>...</td>\n",
       "      <td>...</td>\n",
       "      <td>...</td>\n",
       "      <td>...</td>\n",
       "    </tr>\n",
       "    <tr>\n",
       "      <th>454021</th>\n",
       "      <td>2020-12-30</td>\n",
       "      <td>Adderall (Corvette Corvette) - Remix</td>\n",
       "      <td>7s95nPLMfiLTPoQ7pqUFmO</td>\n",
       "      <td>5</td>\n",
       "      <td>1058.11432</td>\n",
       "    </tr>\n",
       "    <tr>\n",
       "      <th>454029</th>\n",
       "      <td>2020-12-30</td>\n",
       "      <td>M3tamorphosis (feat. Kid Cudi)</td>\n",
       "      <td>7zLMYtNJcabv4h4wBnjNQI</td>\n",
       "      <td>6</td>\n",
       "      <td>819.95982</td>\n",
       "    </tr>\n",
       "    <tr>\n",
       "      <th>454172</th>\n",
       "      <td>2020-12-31</td>\n",
       "      <td>Still Trappin' (with King Von)</td>\n",
       "      <td>43BlKpJcSrC9AsJ3F1DKg9</td>\n",
       "      <td>8</td>\n",
       "      <td>940.16578</td>\n",
       "    </tr>\n",
       "    <tr>\n",
       "      <th>454312</th>\n",
       "      <td>2020-12-31</td>\n",
       "      <td>Adderall (Corvette Corvette) - Remix</td>\n",
       "      <td>7s95nPLMfiLTPoQ7pqUFmO</td>\n",
       "      <td>6</td>\n",
       "      <td>1090.60197</td>\n",
       "    </tr>\n",
       "    <tr>\n",
       "      <th>454320</th>\n",
       "      <td>2020-12-31</td>\n",
       "      <td>M3tamorphosis (feat. Kid Cudi)</td>\n",
       "      <td>7zLMYtNJcabv4h4wBnjNQI</td>\n",
       "      <td>7</td>\n",
       "      <td>762.73985</td>\n",
       "    </tr>\n",
       "  </tbody>\n",
       "</table>\n",
       "<p>16051 rows × 5 columns</p>\n",
       "</div>"
      ],
      "text/plain": [
       "              Date                            Track Name  \\\n",
       "0       2017-01-01           Lighthouse - Andrelli Remix   \n",
       "2       2017-01-01                   In the Name of Love   \n",
       "4       2017-01-01                                 Party   \n",
       "8       2017-01-01                         Setting Fires   \n",
       "11      2017-01-01                        Too Many Years   \n",
       "...            ...                                   ...   \n",
       "454021  2020-12-30  Adderall (Corvette Corvette) - Remix   \n",
       "454029  2020-12-30        M3tamorphosis (feat. Kid Cudi)   \n",
       "454172  2020-12-31        Still Trappin' (with King Von)   \n",
       "454312  2020-12-31  Adderall (Corvette Corvette) - Remix   \n",
       "454320  2020-12-31        M3tamorphosis (feat. Kid Cudi)   \n",
       "\n",
       "                     Track URI  Song_days_onchart      Profit  \n",
       "0       04CttTezSnv71USiiG9mIo                  1   496.26499  \n",
       "2       04DwTuZ2VBdJCCC5TROn7L                  1  1442.97795  \n",
       "4       05Z7jet4VDNVgNQWcYHnrk                  1   501.37894  \n",
       "8       0B8B8cVRFIG1yznoQe7c9s                  1   599.48403  \n",
       "11      0BU7nIcCZxYSE0hYcc5oZz                  1   714.20532  \n",
       "...                        ...                ...         ...  \n",
       "454021  7s95nPLMfiLTPoQ7pqUFmO                  5  1058.11432  \n",
       "454029  7zLMYtNJcabv4h4wBnjNQI                  6   819.95982  \n",
       "454172  43BlKpJcSrC9AsJ3F1DKg9                  8   940.16578  \n",
       "454312  7s95nPLMfiLTPoQ7pqUFmO                  6  1090.60197  \n",
       "454320  7zLMYtNJcabv4h4wBnjNQI                  7   762.73985  \n",
       "\n",
       "[16051 rows x 5 columns]"
      ]
     },
     "execution_count": 54,
     "metadata": {},
     "output_type": "execute_result"
    }
   ],
   "source": [
    "top_us1.drop_duplicates().groupby(['Track Name']).head(10)"
   ]
  },
  {
   "cell_type": "code",
   "execution_count": 77,
   "metadata": {
    "scrolled": true
   },
   "outputs": [
    {
     "data": {
      "text/html": [
       "<div>\n",
       "<style scoped>\n",
       "    .dataframe tbody tr th:only-of-type {\n",
       "        vertical-align: middle;\n",
       "    }\n",
       "\n",
       "    .dataframe tbody tr th {\n",
       "        vertical-align: top;\n",
       "    }\n",
       "\n",
       "    .dataframe thead th {\n",
       "        text-align: right;\n",
       "    }\n",
       "</style>\n",
       "<table border=\"1\" class=\"dataframe\">\n",
       "  <thead>\n",
       "    <tr style=\"text-align: right;\">\n",
       "      <th></th>\n",
       "      <th>Date</th>\n",
       "      <th>Track Name</th>\n",
       "      <th>Track URI</th>\n",
       "      <th>Song_days_onchart</th>\n",
       "      <th>Profit</th>\n",
       "    </tr>\n",
       "  </thead>\n",
       "  <tbody>\n",
       "    <tr>\n",
       "      <th>134604</th>\n",
       "      <td>2018-02-24</td>\n",
       "      <td>'Till I Collapse</td>\n",
       "      <td>6yr8GiTHWvFfi4o6Q5ebdT</td>\n",
       "      <td>239</td>\n",
       "      <td>615.90494</td>\n",
       "    </tr>\n",
       "    <tr>\n",
       "      <th>134605</th>\n",
       "      <td>2018-02-24</td>\n",
       "      <td>'Till I Collapse</td>\n",
       "      <td>6yr8GiTHWvFfi4o6Q5ebdT</td>\n",
       "      <td>239</td>\n",
       "      <td>615.90494</td>\n",
       "    </tr>\n",
       "    <tr>\n",
       "      <th>133928</th>\n",
       "      <td>2018-02-22</td>\n",
       "      <td>'Till I Collapse</td>\n",
       "      <td>6yr8GiTHWvFfi4o6Q5ebdT</td>\n",
       "      <td>238</td>\n",
       "      <td>652.61946</td>\n",
       "    </tr>\n",
       "    <tr>\n",
       "      <th>133929</th>\n",
       "      <td>2018-02-22</td>\n",
       "      <td>'Till I Collapse</td>\n",
       "      <td>6yr8GiTHWvFfi4o6Q5ebdT</td>\n",
       "      <td>238</td>\n",
       "      <td>652.61946</td>\n",
       "    </tr>\n",
       "    <tr>\n",
       "      <th>133589</th>\n",
       "      <td>2018-02-21</td>\n",
       "      <td>'Till I Collapse</td>\n",
       "      <td>6yr8GiTHWvFfi4o6Q5ebdT</td>\n",
       "      <td>237</td>\n",
       "      <td>674.53497</td>\n",
       "    </tr>\n",
       "    <tr>\n",
       "      <th>...</th>\n",
       "      <td>...</td>\n",
       "      <td>...</td>\n",
       "      <td>...</td>\n",
       "      <td>...</td>\n",
       "      <td>...</td>\n",
       "    </tr>\n",
       "    <tr>\n",
       "      <th>305644</th>\n",
       "      <td>2019-08-23</td>\n",
       "      <td>#PROUDCATOWNERREMIX</td>\n",
       "      <td>5dkZ2DrcPJrqwlRQe6Q35e</td>\n",
       "      <td>1</td>\n",
       "      <td>1195.58855</td>\n",
       "    </tr>\n",
       "    <tr>\n",
       "      <th>305645</th>\n",
       "      <td>2019-08-23</td>\n",
       "      <td>#PROUDCATOWNERREMIX</td>\n",
       "      <td>5dkZ2DrcPJrqwlRQe6Q35e</td>\n",
       "      <td>1</td>\n",
       "      <td>1195.58855</td>\n",
       "    </tr>\n",
       "    <tr>\n",
       "      <th>157120</th>\n",
       "      <td>2018-05-04</td>\n",
       "      <td>\"42\" - From SR3MM</td>\n",
       "      <td>5lf91lPnGKtIqsgmG1z8Ip</td>\n",
       "      <td>1</td>\n",
       "      <td>985.48961</td>\n",
       "    </tr>\n",
       "    <tr>\n",
       "      <th>157121</th>\n",
       "      <td>2018-05-04</td>\n",
       "      <td>\"42\" - From SR3MM</td>\n",
       "      <td>5lf91lPnGKtIqsgmG1z8Ip</td>\n",
       "      <td>1</td>\n",
       "      <td>985.48961</td>\n",
       "    </tr>\n",
       "    <tr>\n",
       "      <th>157122</th>\n",
       "      <td>2018-05-04</td>\n",
       "      <td>\"42\" - From SR3MM</td>\n",
       "      <td>5lf91lPnGKtIqsgmG1z8Ip</td>\n",
       "      <td>1</td>\n",
       "      <td>985.48961</td>\n",
       "    </tr>\n",
       "  </tbody>\n",
       "</table>\n",
       "<p>555 rows × 5 columns</p>\n",
       "</div>"
      ],
      "text/plain": [
       "              Date           Track Name               Track URI  \\\n",
       "134604  2018-02-24     'Till I Collapse  6yr8GiTHWvFfi4o6Q5ebdT   \n",
       "134605  2018-02-24     'Till I Collapse  6yr8GiTHWvFfi4o6Q5ebdT   \n",
       "133928  2018-02-22     'Till I Collapse  6yr8GiTHWvFfi4o6Q5ebdT   \n",
       "133929  2018-02-22     'Till I Collapse  6yr8GiTHWvFfi4o6Q5ebdT   \n",
       "133589  2018-02-21     'Till I Collapse  6yr8GiTHWvFfi4o6Q5ebdT   \n",
       "...            ...                  ...                     ...   \n",
       "305644  2019-08-23  #PROUDCATOWNERREMIX  5dkZ2DrcPJrqwlRQe6Q35e   \n",
       "305645  2019-08-23  #PROUDCATOWNERREMIX  5dkZ2DrcPJrqwlRQe6Q35e   \n",
       "157120  2018-05-04    \"42\" - From SR3MM  5lf91lPnGKtIqsgmG1z8Ip   \n",
       "157121  2018-05-04    \"42\" - From SR3MM  5lf91lPnGKtIqsgmG1z8Ip   \n",
       "157122  2018-05-04    \"42\" - From SR3MM  5lf91lPnGKtIqsgmG1z8Ip   \n",
       "\n",
       "        Song_days_onchart      Profit  \n",
       "134604                239   615.90494  \n",
       "134605                239   615.90494  \n",
       "133928                238   652.61946  \n",
       "133929                238   652.61946  \n",
       "133589                237   674.53497  \n",
       "...                   ...         ...  \n",
       "305644                  1  1195.58855  \n",
       "305645                  1  1195.58855  \n",
       "157120                  1   985.48961  \n",
       "157121                  1   985.48961  \n",
       "157122                  1   985.48961  \n",
       "\n",
       "[555 rows x 5 columns]"
      ]
     },
     "execution_count": 77,
     "metadata": {},
     "output_type": "execute_result"
    }
   ],
   "source": [
    "# (top_us1\n",
    "#    .groupby(['Track Name', 'Date'])\n",
    "#    .sort_values(by=\"Track Name\", ascending=True)\n",
    "#    .drop_duplicates())\n",
    "\n",
    "\n",
    "(top_us1\n",
    "#  .groupby(['Track Name', 'Date']).mean()\n",
    " .sort_values(by=[\"Track Name\", \"Date\"], ascending= False)).tail(555)"
   ]
  },
  {
   "cell_type": "code",
   "execution_count": 18,
   "metadata": {},
   "outputs": [
    {
     "data": {
      "text/plain": [
       "<AxesSubplot:xlabel='Song_days_onchart'>"
      ]
     },
     "execution_count": 18,
     "metadata": {},
     "output_type": "execute_result"
    },
    {
     "data": {
      "image/png": "[encoded data removed]",
      "text/plain": [
       "<Figure size 432x288 with 1 Axes>"
      ]
     },
     "metadata": {
      "needs_background": "light"
     },
     "output_type": "display_data"
    }
   ],
   "source": [
    "(top_us1\n",
    " .drop_duplicates()\n",
    " .sort_values(by=\"Song_days_onchart\", ascending= True)\n",
    " .plot(x=\"Song_days_onchart\", y=\"Profit\", color='limegreen'))"
   ]
  },
  {
   "cell_type": "code",
   "execution_count": 122,
   "metadata": {},
   "outputs": [
    {
     "data": {
      "text/plain": [
       "<AxesSubplot:xlabel='Song_days_onchart'>"
      ]
     },
     "execution_count": 122,
     "metadata": {},
     "output_type": "execute_result"
    },
    {
     "data": {
      "image/png": "[encoded data removed]",
      "text/plain": [
       "<Figure size 432x288 with 1 Axes>"
      ]
     },
     "metadata": {
      "needs_background": "light"
     },
     "output_type": "display_data"
    }
   ],
   "source": [
    "(top_us1\n",
    " .drop_duplicates()\n",
    " .sort_values(by=\"Date\", ascending= True)\n",
    " .plot(x=\"Song_days_onchart\", y=\"Profit\", color='limegreen'))"
   ]
  },
  {
   "cell_type": "code",
   "execution_count": 127,
   "metadata": {},
   "outputs": [
    {
     "data": {
      "text/plain": [
       "<AxesSubplot:xlabel='Song_days_onchart'>"
      ]
     },
     "execution_count": 127,
     "metadata": {},
     "output_type": "execute_result"
    },
    {
     "data": {
      "image/png": "[encoded data removed]",
      "text/plain": [
       "<Figure size 432x288 with 1 Axes>"
      ]
     },
     "metadata": {
      "needs_background": "light"
     },
     "output_type": "display_data"
    }
   ],
   "source": [
    "(top_us1[top_us1['Track Name'] == \"#PROUDCATOWNERREMIX\"]\n",
    " .drop_duplicates()\n",
    " .sort_values(by=\"Date\", ascending= True)\n",
    " .plot(x=\"Song_days_onchart\", y=\"Profit\", color='limegreen'))"
   ]
  },
  {
   "cell_type": "code",
   "execution_count": 17,
   "metadata": {},
   "outputs": [
    {
     "data": {
      "text/plain": [
       "<AxesSubplot:xlabel='Date'>"
      ]
     },
     "execution_count": 17,
     "metadata": {},
     "output_type": "execute_result"
    },
    {
     "data": {
      "image/png": "[encoded data removed]",
      "text/plain": [
       "<Figure size 432x288 with 1 Axes>"
      ]
     },
     "metadata": {
      "needs_background": "light"
     },
     "output_type": "display_data"
    }
   ],
   "source": [
    "(top_us1\n",
    " .drop_duplicates()\n",
    " .sort_values(by=\"Profit\", ascending= True)\n",
    " .plot(x=\"Date\", y=\"Profit\", color='limegreen'))"
   ]
  },
  {
   "cell_type": "code",
   "execution_count": 87,
   "metadata": {},
   "outputs": [
    {
     "data": {
      "text/html": [
       "<div>\n",
       "<style scoped>\n",
       "    .dataframe tbody tr th:only-of-type {\n",
       "        vertical-align: middle;\n",
       "    }\n",
       "\n",
       "    .dataframe tbody tr th {\n",
       "        vertical-align: top;\n",
       "    }\n",
       "\n",
       "    .dataframe thead th {\n",
       "        text-align: right;\n",
       "    }\n",
       "</style>\n",
       "<table border=\"1\" class=\"dataframe\">\n",
       "  <thead>\n",
       "    <tr style=\"text-align: right;\">\n",
       "      <th></th>\n",
       "      <th></th>\n",
       "      <th>Song_days_onchart</th>\n",
       "      <th>Profit</th>\n",
       "    </tr>\n",
       "    <tr>\n",
       "      <th>Track Name</th>\n",
       "      <th>Date</th>\n",
       "      <th></th>\n",
       "      <th></th>\n",
       "    </tr>\n",
       "  </thead>\n",
       "  <tbody>\n",
       "    <tr>\n",
       "      <th rowspan=\"25\" valign=\"top\">'Till I Collapse</th>\n",
       "      <th>2018-02-10</th>\n",
       "      <td>227</td>\n",
       "      <td>647.38304</td>\n",
       "    </tr>\n",
       "    <tr>\n",
       "      <th>2018-02-11</th>\n",
       "      <td>228</td>\n",
       "      <td>563.47123</td>\n",
       "    </tr>\n",
       "    <tr>\n",
       "      <th>2018-02-12</th>\n",
       "      <td>229</td>\n",
       "      <td>638.11835</td>\n",
       "    </tr>\n",
       "    <tr>\n",
       "      <th>2018-02-13</th>\n",
       "      <td>230</td>\n",
       "      <td>689.66829</td>\n",
       "    </tr>\n",
       "    <tr>\n",
       "      <th>2018-02-14</th>\n",
       "      <td>231</td>\n",
       "      <td>665.72375</td>\n",
       "    </tr>\n",
       "    <tr>\n",
       "      <th>2018-02-15</th>\n",
       "      <td>232</td>\n",
       "      <td>654.65180</td>\n",
       "    </tr>\n",
       "    <tr>\n",
       "      <th>2018-02-16</th>\n",
       "      <td>233</td>\n",
       "      <td>695.07021</td>\n",
       "    </tr>\n",
       "    <tr>\n",
       "      <th>2018-02-17</th>\n",
       "      <td>234</td>\n",
       "      <td>624.24614</td>\n",
       "    </tr>\n",
       "    <tr>\n",
       "      <th>2018-02-19</th>\n",
       "      <td>235</td>\n",
       "      <td>609.06648</td>\n",
       "    </tr>\n",
       "    <tr>\n",
       "      <th>2018-02-20</th>\n",
       "      <td>236</td>\n",
       "      <td>637.31402</td>\n",
       "    </tr>\n",
       "    <tr>\n",
       "      <th>2018-02-21</th>\n",
       "      <td>237</td>\n",
       "      <td>674.53497</td>\n",
       "    </tr>\n",
       "    <tr>\n",
       "      <th>2018-02-22</th>\n",
       "      <td>238</td>\n",
       "      <td>652.61946</td>\n",
       "    </tr>\n",
       "    <tr>\n",
       "      <th>2018-02-24</th>\n",
       "      <td>239</td>\n",
       "      <td>615.90494</td>\n",
       "    </tr>\n",
       "    <tr>\n",
       "      <th>2018-02-28</th>\n",
       "      <td>240</td>\n",
       "      <td>646.18482</td>\n",
       "    </tr>\n",
       "    <tr>\n",
       "      <th>2018-03-01</th>\n",
       "      <td>241</td>\n",
       "      <td>637.28754</td>\n",
       "    </tr>\n",
       "    <tr>\n",
       "      <th>2018-08-01</th>\n",
       "      <td>1</td>\n",
       "      <td>633.43470</td>\n",
       "    </tr>\n",
       "    <tr>\n",
       "      <th>2018-08-31</th>\n",
       "      <td>2</td>\n",
       "      <td>836.88054</td>\n",
       "    </tr>\n",
       "    <tr>\n",
       "      <th>2018-09-01</th>\n",
       "      <td>3</td>\n",
       "      <td>803.05896</td>\n",
       "    </tr>\n",
       "    <tr>\n",
       "      <th>2018-09-02</th>\n",
       "      <td>4</td>\n",
       "      <td>704.19588</td>\n",
       "    </tr>\n",
       "    <tr>\n",
       "      <th>2018-09-03</th>\n",
       "      <td>5</td>\n",
       "      <td>739.09983</td>\n",
       "    </tr>\n",
       "    <tr>\n",
       "      <th>2018-09-04</th>\n",
       "      <td>6</td>\n",
       "      <td>904.17946</td>\n",
       "    </tr>\n",
       "    <tr>\n",
       "      <th>2018-09-05</th>\n",
       "      <td>7</td>\n",
       "      <td>947.37165</td>\n",
       "    </tr>\n",
       "    <tr>\n",
       "      <th>2018-09-06</th>\n",
       "      <td>8</td>\n",
       "      <td>884.06459</td>\n",
       "    </tr>\n",
       "    <tr>\n",
       "      <th>2018-09-07</th>\n",
       "      <td>9</td>\n",
       "      <td>843.86133</td>\n",
       "    </tr>\n",
       "    <tr>\n",
       "      <th>2018-09-08</th>\n",
       "      <td>10</td>\n",
       "      <td>723.70833</td>\n",
       "    </tr>\n",
       "  </tbody>\n",
       "</table>\n",
       "</div>"
      ],
      "text/plain": [
       "                             Song_days_onchart     Profit\n",
       "Track Name       Date                                    \n",
       "'Till I Collapse 2018-02-10                227  647.38304\n",
       "                 2018-02-11                228  563.47123\n",
       "                 2018-02-12                229  638.11835\n",
       "                 2018-02-13                230  689.66829\n",
       "                 2018-02-14                231  665.72375\n",
       "                 2018-02-15                232  654.65180\n",
       "                 2018-02-16                233  695.07021\n",
       "                 2018-02-17                234  624.24614\n",
       "                 2018-02-19                235  609.06648\n",
       "                 2018-02-20                236  637.31402\n",
       "                 2018-02-21                237  674.53497\n",
       "                 2018-02-22                238  652.61946\n",
       "                 2018-02-24                239  615.90494\n",
       "                 2018-02-28                240  646.18482\n",
       "                 2018-03-01                241  637.28754\n",
       "                 2018-08-01                  1  633.43470\n",
       "                 2018-08-31                  2  836.88054\n",
       "                 2018-09-01                  3  803.05896\n",
       "                 2018-09-02                  4  704.19588\n",
       "                 2018-09-03                  5  739.09983\n",
       "                 2018-09-04                  6  904.17946\n",
       "                 2018-09-05                  7  947.37165\n",
       "                 2018-09-06                  8  884.06459\n",
       "                 2018-09-07                  9  843.86133\n",
       "                 2018-09-08                 10  723.70833"
      ]
     },
     "execution_count": 87,
     "metadata": {},
     "output_type": "execute_result"
    }
   ],
   "source": [
    "top_us1[top_us1['Track Name'] == \"'Till I Collapse\"].drop_duplicates().groupby(['Track Name', 'Date']).sum().tail(25)"
   ]
  },
  {
   "cell_type": "code",
   "execution_count": 93,
   "metadata": {},
   "outputs": [
    {
     "data": {
      "text/html": [
       "<div>\n",
       "<style scoped>\n",
       "    .dataframe tbody tr th:only-of-type {\n",
       "        vertical-align: middle;\n",
       "    }\n",
       "\n",
       "    .dataframe tbody tr th {\n",
       "        vertical-align: top;\n",
       "    }\n",
       "\n",
       "    .dataframe thead th {\n",
       "        text-align: right;\n",
       "    }\n",
       "</style>\n",
       "<table border=\"1\" class=\"dataframe\">\n",
       "  <thead>\n",
       "    <tr style=\"text-align: right;\">\n",
       "      <th></th>\n",
       "      <th></th>\n",
       "      <th>Song_days_onchart</th>\n",
       "      <th>Profit</th>\n",
       "    </tr>\n",
       "    <tr>\n",
       "      <th>Track Name</th>\n",
       "      <th>Date</th>\n",
       "      <th></th>\n",
       "      <th></th>\n",
       "    </tr>\n",
       "  </thead>\n",
       "  <tbody>\n",
       "    <tr>\n",
       "      <th>\"42\" - From SR3MM</th>\n",
       "      <th>2018-05-04</th>\n",
       "      <td>1</td>\n",
       "      <td>985.48961</td>\n",
       "    </tr>\n",
       "    <tr>\n",
       "      <th rowspan=\"4\" valign=\"top\">#PROUDCATOWNERREMIX</th>\n",
       "      <th>2019-08-23</th>\n",
       "      <td>1</td>\n",
       "      <td>1195.58855</td>\n",
       "    </tr>\n",
       "    <tr>\n",
       "      <th>2019-08-24</th>\n",
       "      <td>2</td>\n",
       "      <td>1096.64272</td>\n",
       "    </tr>\n",
       "    <tr>\n",
       "      <th>2019-08-25</th>\n",
       "      <td>3</td>\n",
       "      <td>920.65333</td>\n",
       "    </tr>\n",
       "    <tr>\n",
       "      <th>2019-08-26</th>\n",
       "      <td>4</td>\n",
       "      <td>869.96399</td>\n",
       "    </tr>\n",
       "    <tr>\n",
       "      <th>...</th>\n",
       "      <th>...</th>\n",
       "      <td>...</td>\n",
       "      <td>...</td>\n",
       "    </tr>\n",
       "    <tr>\n",
       "      <th rowspan=\"5\" valign=\"top\">美女と野獣</th>\n",
       "      <th>2017-03-19</th>\n",
       "      <td>4</td>\n",
       "      <td>568.95590</td>\n",
       "    </tr>\n",
       "    <tr>\n",
       "      <th>2017-03-20</th>\n",
       "      <td>5</td>\n",
       "      <td>612.31028</td>\n",
       "    </tr>\n",
       "    <tr>\n",
       "      <th>2017-03-21</th>\n",
       "      <td>6</td>\n",
       "      <td>576.57221</td>\n",
       "    </tr>\n",
       "    <tr>\n",
       "      <th>2017-03-22</th>\n",
       "      <td>7</td>\n",
       "      <td>579.74981</td>\n",
       "    </tr>\n",
       "    <tr>\n",
       "      <th>2017-03-26</th>\n",
       "      <td>8</td>\n",
       "      <td>494.04729</td>\n",
       "    </tr>\n",
       "  </tbody>\n",
       "</table>\n",
       "<p>120617 rows × 2 columns</p>\n",
       "</div>"
      ],
      "text/plain": [
       "                                Song_days_onchart      Profit\n",
       "Track Name          Date                                     \n",
       "\"42\" - From SR3MM   2018-05-04                  1   985.48961\n",
       "#PROUDCATOWNERREMIX 2019-08-23                  1  1195.58855\n",
       "                    2019-08-24                  2  1096.64272\n",
       "                    2019-08-25                  3   920.65333\n",
       "                    2019-08-26                  4   869.96399\n",
       "...                                           ...         ...\n",
       "美女と野獣               2017-03-19                  4   568.95590\n",
       "                    2017-03-20                  5   612.31028\n",
       "                    2017-03-21                  6   576.57221\n",
       "                    2017-03-22                  7   579.74981\n",
       "                    2017-03-26                  8   494.04729\n",
       "\n",
       "[120617 rows x 2 columns]"
      ]
     },
     "execution_count": 93,
     "metadata": {},
     "output_type": "execute_result"
    }
   ],
   "source": [
    "top_us1[top_us1['Track Name'] == 'ROCKSTAR (feat. Roddy Ricch)'].drop_duplicates().groupby(['Track Name', 'Date']).sum()"
   ]
  },
  {
   "cell_type": "code",
   "execution_count": 80,
   "metadata": {},
   "outputs": [],
   "source": [
    "def generate_date_graph(song_name =  'ROCKSTAR (feat. Roddy Ricch)'):\n",
    "    return top_us1[top_us1['Track Name'] == song_name].drop_duplicates().groupby(['Track Name', 'Date']).sum().plot()\n",
    "    \n",
    "                   "
   ]
  },
  {
   "cell_type": "code",
   "execution_count": 61,
   "metadata": {},
   "outputs": [
    {
     "data": {
      "text/plain": [
       "<AxesSubplot:xlabel='Track Name,Date'>"
      ]
     },
     "execution_count": 61,
     "metadata": {},
     "output_type": "execute_result"
    },
    {
     "data": {
      "image/png": "[encoded data removed]",
      "text/plain": [
       "<Figure size 432x288 with 1 Axes>"
      ]
     },
     "metadata": {
      "needs_background": "light"
     },
     "output_type": "display_data"
    }
   ],
   "source": [
    "generate_date_graph(song_name = \"In the Name of Love\")"
   ]
  },
  {
   "cell_type": "code",
   "execution_count": 64,
   "metadata": {},
   "outputs": [
    {
     "data": {
      "text/plain": [
       "<AxesSubplot:xlabel='Track Name,Date'>"
      ]
     },
     "execution_count": 64,
     "metadata": {},
     "output_type": "execute_result"
    },
    {
     "data": {
      "image/png": "[encoded data removed]",
      "text/plain": [
       "<Figure size 432x288 with 1 Axes>"
      ]
     },
     "metadata": {
      "needs_background": "light"
     },
     "output_type": "display_data"
    }
   ],
   "source": [
    "generate_date_graph()"
   ]
  },
  {
   "cell_type": "code",
   "execution_count": 119,
   "metadata": {},
   "outputs": [],
   "source": [
    "def generate_songDays_graph(song_name =  'ROCKSTAR (feat. Roddy Ricch)'):\n",
    "    return top_us1[top_us1['Track Name'] == song_name].drop_duplicates().groupby(['Track Name', 'Song_days_onchart']).sum().plot()\n",
    "   "
   ]
  },
  {
   "cell_type": "code",
   "execution_count": 120,
   "metadata": {},
   "outputs": [
    {
     "data": {
      "text/plain": [
       "<AxesSubplot:xlabel='Track Name,Song_days_onchart'>"
      ]
     },
     "execution_count": 120,
     "metadata": {},
     "output_type": "execute_result"
    },
    {
     "data": {
      "image/png": "[encoded data removed]",
      "text/plain": [
       "<Figure size 432x288 with 1 Axes>"
      ]
     },
     "metadata": {
      "needs_background": "light"
     },
     "output_type": "display_data"
    }
   ],
   "source": [
    "generate_songDays_graph()"
   ]
  },
  {
   "cell_type": "code",
   "execution_count": 107,
   "metadata": {},
   "outputs": [
    {
     "data": {
      "text/plain": [
       "<AxesSubplot:xlabel='Track Name,Song_days_onchart'>"
      ]
     },
     "execution_count": 107,
     "metadata": {},
     "output_type": "execute_result"
    },
    {
     "data": {
      "image/png": "[encoded data removed]",
      "text/plain": [
       "<Figure size 432x288 with 1 Axes>"
      ]
     },
     "metadata": {
      "needs_background": "light"
     },
     "output_type": "display_data"
    }
   ],
   "source": [
    "generate_songDays_graph(\"'Till I Collapse\")"
   ]
  },
  {
   "cell_type": "code",
   "execution_count": 81,
   "metadata": {},
   "outputs": [
    {
     "data": {
      "text/plain": [
       "<AxesSubplot:xlabel='Track Name,Date'>"
      ]
     },
     "execution_count": 81,
     "metadata": {},
     "output_type": "execute_result"
    },
    {
     "data": {
      "image/png": "[encoded data removed]",
      "text/plain": [
       "<Figure size 432x288 with 1 Axes>"
      ]
     },
     "metadata": {
      "needs_background": "light"
     },
     "output_type": "display_data"
    }
   ],
   "source": [
    "generate_date_graph(\"'Till I Collapse\")"
   ]
  },
  {
   "cell_type": "code",
   "execution_count": 88,
   "metadata": {},
   "outputs": [
    {
     "data": {
      "text/html": [
       "<div>\n",
       "<style scoped>\n",
       "    .dataframe tbody tr th:only-of-type {\n",
       "        vertical-align: middle;\n",
       "    }\n",
       "\n",
       "    .dataframe tbody tr th {\n",
       "        vertical-align: top;\n",
       "    }\n",
       "\n",
       "    .dataframe thead th {\n",
       "        text-align: right;\n",
       "    }\n",
       "</style>\n",
       "<table border=\"1\" class=\"dataframe\">\n",
       "  <thead>\n",
       "    <tr style=\"text-align: right;\">\n",
       "      <th></th>\n",
       "      <th></th>\n",
       "      <th>Song_days_onchart</th>\n",
       "      <th>Profit</th>\n",
       "    </tr>\n",
       "    <tr>\n",
       "      <th>Track Name</th>\n",
       "      <th>Date</th>\n",
       "      <th></th>\n",
       "      <th></th>\n",
       "    </tr>\n",
       "  </thead>\n",
       "  <tbody>\n",
       "    <tr>\n",
       "      <th rowspan=\"25\" valign=\"top\">'Till I Collapse</th>\n",
       "      <th>2018-02-10</th>\n",
       "      <td>227</td>\n",
       "      <td>647.38304</td>\n",
       "    </tr>\n",
       "    <tr>\n",
       "      <th>2018-02-11</th>\n",
       "      <td>228</td>\n",
       "      <td>563.47123</td>\n",
       "    </tr>\n",
       "    <tr>\n",
       "      <th>2018-02-12</th>\n",
       "      <td>229</td>\n",
       "      <td>638.11835</td>\n",
       "    </tr>\n",
       "    <tr>\n",
       "      <th>2018-02-13</th>\n",
       "      <td>230</td>\n",
       "      <td>689.66829</td>\n",
       "    </tr>\n",
       "    <tr>\n",
       "      <th>2018-02-14</th>\n",
       "      <td>231</td>\n",
       "      <td>665.72375</td>\n",
       "    </tr>\n",
       "    <tr>\n",
       "      <th>2018-02-15</th>\n",
       "      <td>232</td>\n",
       "      <td>654.65180</td>\n",
       "    </tr>\n",
       "    <tr>\n",
       "      <th>2018-02-16</th>\n",
       "      <td>233</td>\n",
       "      <td>695.07021</td>\n",
       "    </tr>\n",
       "    <tr>\n",
       "      <th>2018-02-17</th>\n",
       "      <td>234</td>\n",
       "      <td>624.24614</td>\n",
       "    </tr>\n",
       "    <tr>\n",
       "      <th>2018-02-19</th>\n",
       "      <td>235</td>\n",
       "      <td>609.06648</td>\n",
       "    </tr>\n",
       "    <tr>\n",
       "      <th>2018-02-20</th>\n",
       "      <td>236</td>\n",
       "      <td>637.31402</td>\n",
       "    </tr>\n",
       "    <tr>\n",
       "      <th>2018-02-21</th>\n",
       "      <td>237</td>\n",
       "      <td>674.53497</td>\n",
       "    </tr>\n",
       "    <tr>\n",
       "      <th>2018-02-22</th>\n",
       "      <td>238</td>\n",
       "      <td>652.61946</td>\n",
       "    </tr>\n",
       "    <tr>\n",
       "      <th>2018-02-24</th>\n",
       "      <td>239</td>\n",
       "      <td>615.90494</td>\n",
       "    </tr>\n",
       "    <tr>\n",
       "      <th>2018-02-28</th>\n",
       "      <td>240</td>\n",
       "      <td>646.18482</td>\n",
       "    </tr>\n",
       "    <tr>\n",
       "      <th>2018-03-01</th>\n",
       "      <td>241</td>\n",
       "      <td>637.28754</td>\n",
       "    </tr>\n",
       "    <tr>\n",
       "      <th>2018-08-01</th>\n",
       "      <td>1</td>\n",
       "      <td>633.43470</td>\n",
       "    </tr>\n",
       "    <tr>\n",
       "      <th>2018-08-31</th>\n",
       "      <td>2</td>\n",
       "      <td>836.88054</td>\n",
       "    </tr>\n",
       "    <tr>\n",
       "      <th>2018-09-01</th>\n",
       "      <td>3</td>\n",
       "      <td>803.05896</td>\n",
       "    </tr>\n",
       "    <tr>\n",
       "      <th>2018-09-02</th>\n",
       "      <td>4</td>\n",
       "      <td>704.19588</td>\n",
       "    </tr>\n",
       "    <tr>\n",
       "      <th>2018-09-03</th>\n",
       "      <td>5</td>\n",
       "      <td>739.09983</td>\n",
       "    </tr>\n",
       "    <tr>\n",
       "      <th>2018-09-04</th>\n",
       "      <td>6</td>\n",
       "      <td>904.17946</td>\n",
       "    </tr>\n",
       "    <tr>\n",
       "      <th>2018-09-05</th>\n",
       "      <td>7</td>\n",
       "      <td>947.37165</td>\n",
       "    </tr>\n",
       "    <tr>\n",
       "      <th>2018-09-06</th>\n",
       "      <td>8</td>\n",
       "      <td>884.06459</td>\n",
       "    </tr>\n",
       "    <tr>\n",
       "      <th>2018-09-07</th>\n",
       "      <td>9</td>\n",
       "      <td>843.86133</td>\n",
       "    </tr>\n",
       "    <tr>\n",
       "      <th>2018-09-08</th>\n",
       "      <td>10</td>\n",
       "      <td>723.70833</td>\n",
       "    </tr>\n",
       "  </tbody>\n",
       "</table>\n",
       "</div>"
      ],
      "text/plain": [
       "                             Song_days_onchart     Profit\n",
       "Track Name       Date                                    \n",
       "'Till I Collapse 2018-02-10                227  647.38304\n",
       "                 2018-02-11                228  563.47123\n",
       "                 2018-02-12                229  638.11835\n",
       "                 2018-02-13                230  689.66829\n",
       "                 2018-02-14                231  665.72375\n",
       "                 2018-02-15                232  654.65180\n",
       "                 2018-02-16                233  695.07021\n",
       "                 2018-02-17                234  624.24614\n",
       "                 2018-02-19                235  609.06648\n",
       "                 2018-02-20                236  637.31402\n",
       "                 2018-02-21                237  674.53497\n",
       "                 2018-02-22                238  652.61946\n",
       "                 2018-02-24                239  615.90494\n",
       "                 2018-02-28                240  646.18482\n",
       "                 2018-03-01                241  637.28754\n",
       "                 2018-08-01                  1  633.43470\n",
       "                 2018-08-31                  2  836.88054\n",
       "                 2018-09-01                  3  803.05896\n",
       "                 2018-09-02                  4  704.19588\n",
       "                 2018-09-03                  5  739.09983\n",
       "                 2018-09-04                  6  904.17946\n",
       "                 2018-09-05                  7  947.37165\n",
       "                 2018-09-06                  8  884.06459\n",
       "                 2018-09-07                  9  843.86133\n",
       "                 2018-09-08                 10  723.70833"
      ]
     },
     "execution_count": 88,
     "metadata": {},
     "output_type": "execute_result"
    }
   ],
   "source": [
    "top_us1[top_us1['Track Name'] == \"'Till I Collapse\"].drop_duplicates().groupby(['Track Name', 'Date']).sum().tail(25)"
   ]
  },
  {
   "cell_type": "code",
   "execution_count": 89,
   "metadata": {},
   "outputs": [
    {
     "data": {
      "text/html": [
       "<div>\n",
       "<style scoped>\n",
       "    .dataframe tbody tr th:only-of-type {\n",
       "        vertical-align: middle;\n",
       "    }\n",
       "\n",
       "    .dataframe tbody tr th {\n",
       "        vertical-align: top;\n",
       "    }\n",
       "\n",
       "    .dataframe thead th {\n",
       "        text-align: right;\n",
       "    }\n",
       "</style>\n",
       "<table border=\"1\" class=\"dataframe\">\n",
       "  <thead>\n",
       "    <tr style=\"text-align: right;\">\n",
       "      <th></th>\n",
       "      <th></th>\n",
       "      <th>Song_days_onchart</th>\n",
       "      <th>Profit</th>\n",
       "    </tr>\n",
       "    <tr>\n",
       "      <th>Track Name</th>\n",
       "      <th>Date</th>\n",
       "      <th></th>\n",
       "      <th></th>\n",
       "    </tr>\n",
       "  </thead>\n",
       "  <tbody>\n",
       "    <tr>\n",
       "      <th rowspan=\"25\" valign=\"top\">'Till I Collapse</th>\n",
       "      <th>2017-01-02</th>\n",
       "      <td>1</td>\n",
       "      <td>453.32436</td>\n",
       "    </tr>\n",
       "    <tr>\n",
       "      <th>2017-01-03</th>\n",
       "      <td>2</td>\n",
       "      <td>499.39294</td>\n",
       "    </tr>\n",
       "    <tr>\n",
       "      <th>2017-01-04</th>\n",
       "      <td>3</td>\n",
       "      <td>518.54460</td>\n",
       "    </tr>\n",
       "    <tr>\n",
       "      <th>2017-01-05</th>\n",
       "      <td>4</td>\n",
       "      <td>527.57097</td>\n",
       "    </tr>\n",
       "    <tr>\n",
       "      <th>2017-01-06</th>\n",
       "      <td>5</td>\n",
       "      <td>543.77011</td>\n",
       "    </tr>\n",
       "    <tr>\n",
       "      <th>2017-01-07</th>\n",
       "      <td>6</td>\n",
       "      <td>505.09276</td>\n",
       "    </tr>\n",
       "    <tr>\n",
       "      <th>2017-01-08</th>\n",
       "      <td>7</td>\n",
       "      <td>465.22381</td>\n",
       "    </tr>\n",
       "    <tr>\n",
       "      <th>2017-01-09</th>\n",
       "      <td>8</td>\n",
       "      <td>496.52648</td>\n",
       "    </tr>\n",
       "    <tr>\n",
       "      <th>2017-01-10</th>\n",
       "      <td>9</td>\n",
       "      <td>544.10111</td>\n",
       "    </tr>\n",
       "    <tr>\n",
       "      <th>2017-01-11</th>\n",
       "      <td>10</td>\n",
       "      <td>559.61508</td>\n",
       "    </tr>\n",
       "    <tr>\n",
       "      <th>2017-01-12</th>\n",
       "      <td>11</td>\n",
       "      <td>574.12943</td>\n",
       "    </tr>\n",
       "    <tr>\n",
       "      <th>2017-01-13</th>\n",
       "      <td>12</td>\n",
       "      <td>592.10273</td>\n",
       "    </tr>\n",
       "    <tr>\n",
       "      <th>2017-01-14</th>\n",
       "      <td>13</td>\n",
       "      <td>552.88254</td>\n",
       "    </tr>\n",
       "    <tr>\n",
       "      <th>2017-01-15</th>\n",
       "      <td>14</td>\n",
       "      <td>498.98250</td>\n",
       "    </tr>\n",
       "    <tr>\n",
       "      <th>2017-01-16</th>\n",
       "      <td>15</td>\n",
       "      <td>523.01310</td>\n",
       "    </tr>\n",
       "    <tr>\n",
       "      <th>2017-01-17</th>\n",
       "      <td>16</td>\n",
       "      <td>553.36580</td>\n",
       "    </tr>\n",
       "    <tr>\n",
       "      <th>2017-01-18</th>\n",
       "      <td>17</td>\n",
       "      <td>578.04847</td>\n",
       "    </tr>\n",
       "    <tr>\n",
       "      <th>2017-01-19</th>\n",
       "      <td>18</td>\n",
       "      <td>581.17973</td>\n",
       "    </tr>\n",
       "    <tr>\n",
       "      <th>2017-01-20</th>\n",
       "      <td>19</td>\n",
       "      <td>591.85779</td>\n",
       "    </tr>\n",
       "    <tr>\n",
       "      <th>2017-01-21</th>\n",
       "      <td>20</td>\n",
       "      <td>558.91005</td>\n",
       "    </tr>\n",
       "    <tr>\n",
       "      <th>2017-01-22</th>\n",
       "      <td>21</td>\n",
       "      <td>515.12537</td>\n",
       "    </tr>\n",
       "    <tr>\n",
       "      <th>2017-01-23</th>\n",
       "      <td>22</td>\n",
       "      <td>520.60342</td>\n",
       "    </tr>\n",
       "    <tr>\n",
       "      <th>2017-01-24</th>\n",
       "      <td>23</td>\n",
       "      <td>585.93289</td>\n",
       "    </tr>\n",
       "    <tr>\n",
       "      <th>2017-01-25</th>\n",
       "      <td>24</td>\n",
       "      <td>585.85345</td>\n",
       "    </tr>\n",
       "    <tr>\n",
       "      <th>2017-01-26</th>\n",
       "      <td>25</td>\n",
       "      <td>594.80038</td>\n",
       "    </tr>\n",
       "  </tbody>\n",
       "</table>\n",
       "</div>"
      ],
      "text/plain": [
       "                             Song_days_onchart     Profit\n",
       "Track Name       Date                                    \n",
       "'Till I Collapse 2017-01-02                  1  453.32436\n",
       "                 2017-01-03                  2  499.39294\n",
       "                 2017-01-04                  3  518.54460\n",
       "                 2017-01-05                  4  527.57097\n",
       "                 2017-01-06                  5  543.77011\n",
       "                 2017-01-07                  6  505.09276\n",
       "                 2017-01-08                  7  465.22381\n",
       "                 2017-01-09                  8  496.52648\n",
       "                 2017-01-10                  9  544.10111\n",
       "                 2017-01-11                 10  559.61508\n",
       "                 2017-01-12                 11  574.12943\n",
       "                 2017-01-13                 12  592.10273\n",
       "                 2017-01-14                 13  552.88254\n",
       "                 2017-01-15                 14  498.98250\n",
       "                 2017-01-16                 15  523.01310\n",
       "                 2017-01-17                 16  553.36580\n",
       "                 2017-01-18                 17  578.04847\n",
       "                 2017-01-19                 18  581.17973\n",
       "                 2017-01-20                 19  591.85779\n",
       "                 2017-01-21                 20  558.91005\n",
       "                 2017-01-22                 21  515.12537\n",
       "                 2017-01-23                 22  520.60342\n",
       "                 2017-01-24                 23  585.93289\n",
       "                 2017-01-25                 24  585.85345\n",
       "                 2017-01-26                 25  594.80038"
      ]
     },
     "execution_count": 89,
     "metadata": {},
     "output_type": "execute_result"
    }
   ],
   "source": [
    "top_us1[top_us1['Track Name'] == \"'Till I Collapse\"].drop_duplicates().groupby(['Track Name', 'Date']).sum().head(25)"
   ]
  },
  {
   "cell_type": "markdown",
   "metadata": {},
   "source": [
    "# **2B: Track Profit Over Time (User should be able to select single track.)**\n",
    "\n",
    "This loop will error out because of the volume of figures.  In dash, this loop should work."
   ]
  },
  {
   "cell_type": "code",
   "execution_count": 143,
   "metadata": {},
   "outputs": [
    {
     "data": {
      "text/plain": [
       "<AxesSubplot:xlabel='Song_days_onchart'>"
      ]
     },
     "execution_count": 143,
     "metadata": {},
     "output_type": "execute_result"
    },
    {
     "data": {
      "image/png": "[encoded data removed]",
      "text/plain": [
       "<Figure size 432x288 with 1 Axes>"
      ]
     },
     "metadata": {
      "needs_background": "light"
     },
     "output_type": "display_data"
    }
   ],
   "source": [
    "def generate_songDays_profit(song_name =  'ROCKSTAR (feat. Roddy Ricch)'):\n",
    "    return top_us1[top_us1['Track Name'] == song_name].drop_duplicates().plot(x=\"Song_days_onchart\", y=\"Profit\", color='limegreen')\n",
    "\n",
    "for track in top_us1:\n",
    "    generate_songDays_profit(track)\n"
   ]
  },
  {
   "cell_type": "markdown",
   "metadata": {},
   "source": [
    "\n",
    "# **3A: Top Artists by Avg Position**"
   ]
  },
  {
   "cell_type": "code",
   "execution_count": 159,
   "metadata": {},
   "outputs": [
    {
     "data": {
      "text/html": [
       "<div>\n",
       "<style scoped>\n",
       "    .dataframe tbody tr th:only-of-type {\n",
       "        vertical-align: middle;\n",
       "    }\n",
       "\n",
       "    .dataframe tbody tr th {\n",
       "        vertical-align: top;\n",
       "    }\n",
       "\n",
       "    .dataframe thead th {\n",
       "        text-align: right;\n",
       "    }\n",
       "</style>\n",
       "<table border=\"1\" class=\"dataframe\">\n",
       "  <thead>\n",
       "    <tr style=\"text-align: right;\">\n",
       "      <th></th>\n",
       "      <th>Artist Name</th>\n",
       "      <th>Streams</th>\n",
       "      <th>Position</th>\n",
       "      <th>Profit</th>\n",
       "    </tr>\n",
       "  </thead>\n",
       "  <tbody>\n",
       "    <tr>\n",
       "      <th>0</th>\n",
       "      <td>Bipolar Sunshine</td>\n",
       "      <td>1.381463e+05</td>\n",
       "      <td>191.444444</td>\n",
       "      <td>457.264363</td>\n",
       "    </tr>\n",
       "    <tr>\n",
       "      <th>1</th>\n",
       "      <td>Fuse ODG</td>\n",
       "      <td>1.543636e+05</td>\n",
       "      <td>181.636364</td>\n",
       "      <td>510.943636</td>\n",
       "    </tr>\n",
       "    <tr>\n",
       "      <th>2</th>\n",
       "      <td>Remy Boyz</td>\n",
       "      <td>1.558780e+05</td>\n",
       "      <td>187.750000</td>\n",
       "      <td>515.956180</td>\n",
       "    </tr>\n",
       "    <tr>\n",
       "      <th>3</th>\n",
       "      <td>Tove Lo</td>\n",
       "      <td>1.565977e+05</td>\n",
       "      <td>172.777778</td>\n",
       "      <td>518.338399</td>\n",
       "    </tr>\n",
       "    <tr>\n",
       "      <th>4</th>\n",
       "      <td>Nause</td>\n",
       "      <td>1.569083e+05</td>\n",
       "      <td>169.083333</td>\n",
       "      <td>519.366583</td>\n",
       "    </tr>\n",
       "    <tr>\n",
       "      <th>...</th>\n",
       "      <td>...</td>\n",
       "      <td>...</td>\n",
       "      <td>...</td>\n",
       "      <td>...</td>\n",
       "    </tr>\n",
       "    <tr>\n",
       "      <th>1331</th>\n",
       "      <td>Sosamann</td>\n",
       "      <td>7.177973e+05</td>\n",
       "      <td>54.285714</td>\n",
       "      <td>2375.909173</td>\n",
       "    </tr>\n",
       "    <tr>\n",
       "      <th>1332</th>\n",
       "      <td>Billy Ray Cyrus</td>\n",
       "      <td>7.182758e+05</td>\n",
       "      <td>67.597015</td>\n",
       "      <td>2377.492898</td>\n",
       "    </tr>\n",
       "    <tr>\n",
       "      <th>1333</th>\n",
       "      <td>Don Toliver</td>\n",
       "      <td>7.614050e+05</td>\n",
       "      <td>42.851528</td>\n",
       "      <td>2520.250579</td>\n",
       "    </tr>\n",
       "    <tr>\n",
       "      <th>1334</th>\n",
       "      <td>HAIM</td>\n",
       "      <td>7.839397e+05</td>\n",
       "      <td>41.476190</td>\n",
       "      <td>2594.840297</td>\n",
       "    </tr>\n",
       "    <tr>\n",
       "      <th>1335</th>\n",
       "      <td>24kGoldn</td>\n",
       "      <td>1.005749e+06</td>\n",
       "      <td>16.880503</td>\n",
       "      <td>3329.030835</td>\n",
       "    </tr>\n",
       "  </tbody>\n",
       "</table>\n",
       "<p>1336 rows × 4 columns</p>\n",
       "</div>"
      ],
      "text/plain": [
       "           Artist Name       Streams    Position       Profit\n",
       "0     Bipolar Sunshine  1.381463e+05  191.444444   457.264363\n",
       "1             Fuse ODG  1.543636e+05  181.636364   510.943636\n",
       "2            Remy Boyz  1.558780e+05  187.750000   515.956180\n",
       "3              Tove Lo  1.565977e+05  172.777778   518.338399\n",
       "4                Nause  1.569083e+05  169.083333   519.366583\n",
       "...                ...           ...         ...          ...\n",
       "1331          Sosamann  7.177973e+05   54.285714  2375.909173\n",
       "1332   Billy Ray Cyrus  7.182758e+05   67.597015  2377.492898\n",
       "1333       Don Toliver  7.614050e+05   42.851528  2520.250579\n",
       "1334              HAIM  7.839397e+05   41.476190  2594.840297\n",
       "1335          24kGoldn  1.005749e+06   16.880503  3329.030835\n",
       "\n",
       "[1336 rows x 4 columns]"
      ]
     },
     "execution_count": 159,
     "metadata": {},
     "output_type": "execute_result"
    }
   ],
   "source": [
    "top_artist_avg_position = (top_us.drop_duplicates().groupby(['Artist Name'])[['Streams', 'Position', 'Profit']]\n",
    "           .mean()\n",
    "           .sort_values(by = 'Streams'))\n",
    "top_artist_avg_position"
   ]
  },
  {
   "cell_type": "code",
   "execution_count": 174,
   "metadata": {},
   "outputs": [
    {
     "data": {
      "text/html": [
       "<div>\n",
       "<style scoped>\n",
       "    .dataframe tbody tr th:only-of-type {\n",
       "        vertical-align: middle;\n",
       "    }\n",
       "\n",
       "    .dataframe tbody tr th {\n",
       "        vertical-align: top;\n",
       "    }\n",
       "\n",
       "    .dataframe thead th {\n",
       "        text-align: right;\n",
       "    }\n",
       "</style>\n",
       "<table border=\"1\" class=\"dataframe\">\n",
       "  <thead>\n",
       "    <tr style=\"text-align: right;\">\n",
       "      <th></th>\n",
       "      <th>Position</th>\n",
       "    </tr>\n",
       "    <tr>\n",
       "      <th>Artist Name</th>\n",
       "      <th></th>\n",
       "    </tr>\n",
       "  </thead>\n",
       "  <tbody>\n",
       "    <tr>\n",
       "      <th>John Newman</th>\n",
       "      <td>1</td>\n",
       "    </tr>\n",
       "    <tr>\n",
       "      <th>O.T. Genasis</th>\n",
       "      <td>1</td>\n",
       "    </tr>\n",
       "    <tr>\n",
       "      <th>Sebastian Yatra</th>\n",
       "      <td>1</td>\n",
       "    </tr>\n",
       "    <tr>\n",
       "      <th>Jungleboi</th>\n",
       "      <td>1</td>\n",
       "    </tr>\n",
       "    <tr>\n",
       "      <th>Dwn2earth</th>\n",
       "      <td>1</td>\n",
       "    </tr>\n",
       "    <tr>\n",
       "      <th>...</th>\n",
       "      <td>...</td>\n",
       "    </tr>\n",
       "    <tr>\n",
       "      <th>Juice WRLD</th>\n",
       "      <td>4618</td>\n",
       "    </tr>\n",
       "    <tr>\n",
       "      <th>Khalid</th>\n",
       "      <td>5126</td>\n",
       "    </tr>\n",
       "    <tr>\n",
       "      <th>Travis Scott</th>\n",
       "      <td>5453</td>\n",
       "    </tr>\n",
       "    <tr>\n",
       "      <th>Post Malone</th>\n",
       "      <td>6159</td>\n",
       "    </tr>\n",
       "    <tr>\n",
       "      <th>Drake</th>\n",
       "      <td>8205</td>\n",
       "    </tr>\n",
       "  </tbody>\n",
       "</table>\n",
       "<p>1336 rows × 1 columns</p>\n",
       "</div>"
      ],
      "text/plain": [
       "                 Position\n",
       "Artist Name              \n",
       "John Newman             1\n",
       "O.T. Genasis            1\n",
       "Sebastian Yatra         1\n",
       "Jungleboi               1\n",
       "Dwn2earth               1\n",
       "...                   ...\n",
       "Juice WRLD           4618\n",
       "Khalid               5126\n",
       "Travis Scott         5453\n",
       "Post Malone          6159\n",
       "Drake                8205\n",
       "\n",
       "[1336 rows x 1 columns]"
      ]
     },
     "execution_count": 174,
     "metadata": {},
     "output_type": "execute_result"
    }
   ],
   "source": [
    "top_artist_position_count = (top_us.drop_duplicates().groupby(['Artist Name'])[['Position']]\n",
    "           .count()\n",
    "           .sort_values(by = 'Position'))\n",
    "top_artist_position_count"
   ]
  },
  {
   "cell_type": "code",
   "execution_count": 177,
   "metadata": {},
   "outputs": [
    {
     "data": {
      "text/html": [
       "<div>\n",
       "<style scoped>\n",
       "    .dataframe tbody tr th:only-of-type {\n",
       "        vertical-align: middle;\n",
       "    }\n",
       "\n",
       "    .dataframe tbody tr th {\n",
       "        vertical-align: top;\n",
       "    }\n",
       "\n",
       "    .dataframe thead th {\n",
       "        text-align: right;\n",
       "    }\n",
       "</style>\n",
       "<table border=\"1\" class=\"dataframe\">\n",
       "  <thead>\n",
       "    <tr style=\"text-align: right;\">\n",
       "      <th></th>\n",
       "      <th>Artist Name</th>\n",
       "      <th>Streams</th>\n",
       "      <th>Position_x</th>\n",
       "      <th>Profit</th>\n",
       "      <th>Position_y</th>\n",
       "    </tr>\n",
       "  </thead>\n",
       "  <tbody>\n",
       "    <tr>\n",
       "      <th>470</th>\n",
       "      <td>Boyz II Men</td>\n",
       "      <td>259702.000000</td>\n",
       "      <td>113.000000</td>\n",
       "      <td>859.613620</td>\n",
       "      <td>1</td>\n",
       "    </tr>\n",
       "    <tr>\n",
       "      <th>448</th>\n",
       "      <td>P-Lo</td>\n",
       "      <td>257017.000000</td>\n",
       "      <td>181.000000</td>\n",
       "      <td>850.726270</td>\n",
       "      <td>1</td>\n",
       "    </tr>\n",
       "    <tr>\n",
       "      <th>447</th>\n",
       "      <td>Kiddo Marv</td>\n",
       "      <td>256998.000000</td>\n",
       "      <td>183.000000</td>\n",
       "      <td>850.663380</td>\n",
       "      <td>1</td>\n",
       "    </tr>\n",
       "    <tr>\n",
       "      <th>443</th>\n",
       "      <td>Liv.e</td>\n",
       "      <td>256683.000000</td>\n",
       "      <td>155.000000</td>\n",
       "      <td>849.620730</td>\n",
       "      <td>1</td>\n",
       "    </tr>\n",
       "    <tr>\n",
       "      <th>442</th>\n",
       "      <td>WizDaWizard</td>\n",
       "      <td>256458.000000</td>\n",
       "      <td>140.000000</td>\n",
       "      <td>848.875980</td>\n",
       "      <td>1</td>\n",
       "    </tr>\n",
       "    <tr>\n",
       "      <th>...</th>\n",
       "      <td>...</td>\n",
       "      <td>...</td>\n",
       "      <td>...</td>\n",
       "      <td>...</td>\n",
       "      <td>...</td>\n",
       "    </tr>\n",
       "    <tr>\n",
       "      <th>1167</th>\n",
       "      <td>Juice WRLD</td>\n",
       "      <td>414810.789519</td>\n",
       "      <td>90.438285</td>\n",
       "      <td>1373.023713</td>\n",
       "      <td>4618</td>\n",
       "    </tr>\n",
       "    <tr>\n",
       "      <th>1221</th>\n",
       "      <td>Khalid</td>\n",
       "      <td>443144.415334</td>\n",
       "      <td>82.831252</td>\n",
       "      <td>1466.808015</td>\n",
       "      <td>5126</td>\n",
       "    </tr>\n",
       "    <tr>\n",
       "      <th>1162</th>\n",
       "      <td>Travis Scott</td>\n",
       "      <td>412031.986796</td>\n",
       "      <td>92.744728</td>\n",
       "      <td>1363.825876</td>\n",
       "      <td>5453</td>\n",
       "    </tr>\n",
       "    <tr>\n",
       "      <th>1306</th>\n",
       "      <td>Post Malone</td>\n",
       "      <td>553187.843319</td>\n",
       "      <td>75.675272</td>\n",
       "      <td>1831.051761</td>\n",
       "      <td>6159</td>\n",
       "    </tr>\n",
       "    <tr>\n",
       "      <th>1241</th>\n",
       "      <td>Drake</td>\n",
       "      <td>458732.302255</td>\n",
       "      <td>88.251676</td>\n",
       "      <td>1518.403920</td>\n",
       "      <td>8205</td>\n",
       "    </tr>\n",
       "  </tbody>\n",
       "</table>\n",
       "<p>1336 rows × 5 columns</p>\n",
       "</div>"
      ],
      "text/plain": [
       "       Artist Name        Streams  Position_x       Profit  Position_y\n",
       "470    Boyz II Men  259702.000000  113.000000   859.613620           1\n",
       "448           P-Lo  257017.000000  181.000000   850.726270           1\n",
       "447     Kiddo Marv  256998.000000  183.000000   850.663380           1\n",
       "443          Liv.e  256683.000000  155.000000   849.620730           1\n",
       "442    WizDaWizard  256458.000000  140.000000   848.875980           1\n",
       "...            ...            ...         ...          ...         ...\n",
       "1167    Juice WRLD  414810.789519   90.438285  1373.023713        4618\n",
       "1221        Khalid  443144.415334   82.831252  1466.808015        5126\n",
       "1162  Travis Scott  412031.986796   92.744728  1363.825876        5453\n",
       "1306   Post Malone  553187.843319   75.675272  1831.051761        6159\n",
       "1241         Drake  458732.302255   88.251676  1518.403920        8205\n",
       "\n",
       "[1336 rows x 5 columns]"
      ]
     },
     "execution_count": 177,
     "metadata": {},
     "output_type": "execute_result"
    }
   ],
   "source": [
    "ta_avg_position_count = (top_artist_avg_position\n",
    "                         .merge(top_artist_position_count, on = \"Artist Name\", how = 'inner')\n",
    "                         .sort_values(by = 'Position_y'))\n",
    "ta_avg_position_count"
   ]
  },
  {
   "cell_type": "code",
   "execution_count": 196,
   "metadata": {},
   "outputs": [
    {
     "data": {
      "text/plain": [
       "[Text(0.5, 0, 'Position Count'),\n",
       " Text(0, 0.5, 'Artist'),\n",
       " Text(0.5, 1.0, 'Top Artists Avg Position')]"
      ]
     },
     "execution_count": 196,
     "metadata": {},
     "output_type": "execute_result"
    },
    {
     "data": {
      "image/png": "[encoded data removed]",
      "text/plain": [
       "<Figure size 432x288 with 1 Axes>"
      ]
     },
     "metadata": {
      "needs_background": "light"
     },
     "output_type": "display_data"
    }
   ],
   "source": [
    "ax = sns.barplot(data = ta_avg_position_count.tail(5), \n",
    "            x = 'Position_y', y = 'Artist Name')\n",
    "ax.set(xlabel='Position Count', ylabel='Artist', title='Top Artists Avg Position')"
   ]
  },
  {
   "cell_type": "code",
   "execution_count": null,
   "metadata": {},
   "outputs": [],
   "source": []
  }
 ],
 "metadata": {
  "kernelspec": {
   "display_name": "Python 3",
   "language": "python",
   "name": "python3"
  },
  "language_info": {
   "codemirror_mode": {
    "name": "ipython",
    "version": 3
   },
   "file_extension": ".py",
   "mimetype": "text/x-python",
   "name": "python",
   "nbconvert_exporter": "python",
   "pygments_lexer": "ipython3",
   "version": "3.8.5"
  }
 },
 "nbformat": 4,
 "nbformat_minor": 4
}
